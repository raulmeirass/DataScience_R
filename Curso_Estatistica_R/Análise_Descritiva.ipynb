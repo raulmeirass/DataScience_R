{
  "cells": [
    {
      "cell_type": "markdown",
      "metadata": {
        "id": "WvMflodMjQKe"
      },
      "source": [
        "***\n",
        "# <font color=green size=10>CURSO DE ESTATÍSTICA - PARTE 1</font>\n",
        "***\n",
        "\n",
        "## Trabalho de Análise Descritiva de um Conjunto de Dados\n",
        "\n",
        "Utilizando os conhecimentos adquiridos em nosso treinamento realize uma análise descritiva básica de um conjunto de dados retirados da Pesquisa Nacional por Amostra de Domicílios - 2015 do IBGE.\n",
        "\n",
        "Vamos construir histogramas, calcular e avaliar medidas de tendência central, medidas separatrizes e de dispersão dos dados.\n",
        "\n",
        "Siga o roteiro proposto e vá completando as células vazias. Procure pensar em mais informações interessantes que podem ser exploradas em nosso dataset."
      ]
    },
    {
      "cell_type": "markdown",
      "source": [
        "# <font color=green>1 CONHECENDO OS DADOS</font>\n",
        "***"
      ],
      "metadata": {
        "id": "gJaiaKjmQwdU"
      }
    },
    {
      "cell_type": "markdown",
      "metadata": {
        "id": "cVgsZ_E3jQKg"
      },
      "source": [
        "## <font color=green>1.1 Dataset do projeto</font>\n",
        "***"
      ]
    },
    {
      "cell_type": "markdown",
      "metadata": {
        "id": "iN1gIbaKjQKh"
      },
      "source": [
        "### Pesquisa Nacional por Amostra de Domicílios - 2015\n",
        "\n",
        "A <b>Pesquisa Nacional por Amostra de Domicílios - PNAD</b> investiga anualmente, de forma permanente, características gerais da população, de educação, trabalho, rendimento e habitação e outras, com periodicidade variável, de acordo com as necessidades de informação para o país, como as características sobre migração, fecundidade, nupcialidade, saúde, segurança alimentar, entre outros temas. O levantamento dessas estatísticas constitui, ao longo dos 49 anos de realização da pesquisa, um importante instrumento para formulação, validação e avaliação de políticas orientadas para o desenvolvimento socioeconômico e a melhoria das condições de vida no Brasil."
      ]
    },
    {
      "cell_type": "markdown",
      "metadata": {
        "id": "U6V7br1RjQKi"
      },
      "source": [
        "### Fonte dos Dados\n",
        "\n",
        "https://ww2.ibge.gov.br/home/estatistica/populacao/trabalhoerendimento/pnad2015/microdados.shtm"
      ]
    },
    {
      "cell_type": "markdown",
      "metadata": {
        "id": "r0Fe_qnzjQKj"
      },
      "source": [
        "### Variáveis utilizadas\n",
        "\n",
        "> ### Renda\n",
        "> ***\n",
        "\n",
        "Rendimento mensal do trabalho principal para pessoas de 10 anos ou mais de idade.\n",
        "\n",
        "> ### Idade\n",
        "> ***\n",
        "\n",
        "Idade do morador na data de referência em anos.\n",
        "\n",
        "> ### Altura (elaboração própria)\n",
        "> ***\n",
        "\n",
        "Altura do morador em metros.\n",
        "\n",
        "> ### UF\n",
        "> ***\n",
        "\n",
        "|Código|Descrição|\n",
        "|---|---|\n",
        "|11|Rondônia|\n",
        "|12|Acre|\n",
        "|13|Amazonas|\n",
        "|14|Roraima|\n",
        "|15|Pará|\n",
        "|16|Amapá|\n",
        "|17|Tocantins|\n",
        "|21|Maranhão|\n",
        "|22|Piauí|\n",
        "|23|Ceará|\n",
        "|24|Rio Grande do Norte|\n",
        "|25|Paraíba|\n",
        "|26|Pernambuco|\n",
        "|27|Alagoas|\n",
        "|28|Sergipe|\n",
        "|29|Bahia|\n",
        "|31|Minas Gerais|\n",
        "|32|Espírito Santo|\n",
        "|33|Rio de Janeiro|\n",
        "|35|São Paulo|\n",
        "|41|Paraná|\n",
        "|42|Santa Catarina|\n",
        "|43|Rio Grande do Sul|\n",
        "|50|Mato Grosso do Sul|\n",
        "|51|Mato Grosso|\n",
        "|52|Goiás|\n",
        "|53|Distrito Federal|\n",
        "\n",
        "> ### Sexo\n",
        "> ***\n",
        "\n",
        "|Código|Descrição|\n",
        "|---|---|\n",
        "|0|Masculino|\n",
        "|1|Feminino|\n",
        "\n",
        "> ### Anos de Estudo\n",
        "> ***\n",
        "\n",
        "|Código|Descrição|\n",
        "|---|---|\n",
        "|1|Sem instrução e menos de 1 ano|\n",
        "|2|1 ano|\n",
        "|3|2 anos|\n",
        "|4|3 anos|\n",
        "|5|4 anos|\n",
        "|6|5 anos|\n",
        "|7|6 anos|\n",
        "|8|7 anos|\n",
        "|9|8 anos|\n",
        "|10|9 anos|\n",
        "|11|10 anos|\n",
        "|12|11 anos|\n",
        "|13|12 anos|\n",
        "|14|13 anos|\n",
        "|15|14 anos|\n",
        "|16|15 anos ou mais|\n",
        "|17|Não determinados|\n",
        "||Não aplicável|\n",
        "\n",
        "> ### Cor\n",
        "> ***\n",
        "\n",
        "|Código|Descrição|\n",
        "|---|---|\n",
        "|0|Indígena|\n",
        "|2|Branca|\n",
        "|4|Preta|\n",
        "|6|Amarela|\n",
        "|8|Parda|\n",
        "|9|Sem declaração|"
      ]
    },
    {
      "cell_type": "markdown",
      "metadata": {
        "id": "OK1IQH5cX7Gb"
      },
      "source": [
        "#### <font color='red'>Observação</font>\n",
        "***\n",
        "> Os seguintes tratamentos foram realizados nos dados originais:\n",
        "> 1. Foram eliminados os registros onde a <b>Renda</b> era inválida (999 999 999 999);\n",
        "> 2. Foram eliminados os registros onde a <b>Renda</b> era missing;\n",
        "> 3. Foram considerados somente os registros das <b>Pessoas de Referência</b> de cada domicílio (responsável pelo domicílio)."
      ]
    },
    {
      "cell_type": "markdown",
      "source": [
        "### R (Informações básicas)"
      ],
      "metadata": {
        "id": "Np-mlvquU0sV"
      }
    },
    {
      "cell_type": "code",
      "source": [
        "sessionInfo()"
      ],
      "metadata": {
        "colab": {
          "base_uri": "https://localhost:8080/",
          "height": 520
        },
        "id": "EAXox0HbUxho",
        "outputId": "965168d0-41bc-49ed-cb6b-d2944c746253"
      },
      "execution_count": null,
      "outputs": [
        {
          "output_type": "display_data",
          "data": {
            "text/plain": [
              "R version 4.3.2 (2023-10-31)\n",
              "Platform: x86_64-pc-linux-gnu (64-bit)\n",
              "Running under: Ubuntu 22.04.3 LTS\n",
              "\n",
              "Matrix products: default\n",
              "BLAS:   /usr/lib/x86_64-linux-gnu/openblas-pthread/libblas.so.3 \n",
              "LAPACK: /usr/lib/x86_64-linux-gnu/openblas-pthread/libopenblasp-r0.3.20.so;  LAPACK version 3.10.0\n",
              "\n",
              "locale:\n",
              " [1] LC_CTYPE=en_US.UTF-8       LC_NUMERIC=C              \n",
              " [3] LC_TIME=en_US.UTF-8        LC_COLLATE=en_US.UTF-8    \n",
              " [5] LC_MONETARY=en_US.UTF-8    LC_MESSAGES=en_US.UTF-8   \n",
              " [7] LC_PAPER=en_US.UTF-8       LC_NAME=C                 \n",
              " [9] LC_ADDRESS=C               LC_TELEPHONE=C            \n",
              "[11] LC_MEASUREMENT=en_US.UTF-8 LC_IDENTIFICATION=C       \n",
              "\n",
              "time zone: Etc/UTC\n",
              "tzcode source: system (glibc)\n",
              "\n",
              "attached base packages:\n",
              "[1] stats     graphics  grDevices utils     datasets  methods   base     \n",
              "\n",
              "loaded via a namespace (and not attached):\n",
              " [1] digest_0.6.34   IRdisplay_1.1   utf8_1.2.4      base64enc_0.1-3\n",
              " [5] fastmap_1.1.1   glue_1.7.0      htmltools_0.5.7 repr_1.1.6     \n",
              " [9] lifecycle_1.0.4 cli_3.6.2       fansi_1.0.6     vctrs_0.6.5    \n",
              "[13] pbdZMQ_0.3-11   compiler_4.3.2  tools_4.3.2     evaluate_0.23  \n",
              "[17] pillar_1.9.0    crayon_1.5.2    rlang_1.1.3     jsonlite_1.8.8 \n",
              "[21] IRkernel_1.3.2  uuid_1.2-0     "
            ]
          },
          "metadata": {}
        }
      ]
    },
    {
      "cell_type": "markdown",
      "source": [
        "### Importando bibliotecas\n",
        "#### A bilioteca dplyr\n",
        "https://www.rdocumentation.org/packages/dplyr"
      ],
      "metadata": {
        "id": "xztDzKLCxXc9"
      }
    },
    {
      "cell_type": "code",
      "execution_count": null,
      "metadata": {
        "colab": {
          "base_uri": "https://localhost:8080/"
        },
        "id": "fcTgimHBybMz",
        "outputId": "aa07ae7d-ba38-4be8-8f4b-5c3a52778d78"
      },
      "outputs": [
        {
          "output_type": "stream",
          "name": "stderr",
          "text": [
            "\n",
            "Attaching package: ‘dplyr’\n",
            "\n",
            "\n",
            "The following objects are masked from ‘package:stats’:\n",
            "\n",
            "    filter, lag\n",
            "\n",
            "\n",
            "The following objects are masked from ‘package:base’:\n",
            "\n",
            "    intersect, setdiff, setequal, union\n",
            "\n",
            "\n"
          ]
        }
      ],
      "source": [
        "# importando biblioteca dplyr\n",
        "library(dplyr)"
      ]
    },
    {
      "cell_type": "markdown",
      "source": [
        "### <font color=red>Documentações:\n",
        "\n",
        "- [**select**](https://www.rdocumentation.org/packages/dplyr/versions/0.7.8/topics/select)\n",
        "- [**arrange**](https://www.rdocumentation.org/packages/dplyr/versions/0.7.8/topics/arrange)\n",
        "- [**read.csv**](https://www.rdocumentation.org/packages/utils/versions/3.6.1/topics/read.table)\n",
        "- [**head**](https://www.rdocumentation.org/packages/utils/versions/3.6.1/topics/head)"
      ],
      "metadata": {
        "id": "LyqWbjomxfRG"
      }
    },
    {
      "cell_type": "markdown",
      "source": [
        "### Acessando a Ajuda"
      ],
      "metadata": {
        "id": "LLy2H_BxWNkH"
      }
    },
    {
      "cell_type": "code",
      "source": [
        "?select"
      ],
      "metadata": {
        "id": "D-ir0VmsWRTv"
      },
      "execution_count": null,
      "outputs": []
    },
    {
      "cell_type": "code",
      "source": [
        "?arrange"
      ],
      "metadata": {
        "id": "MnR-MpcrWXAz"
      },
      "execution_count": null,
      "outputs": []
    },
    {
      "cell_type": "markdown",
      "metadata": {
        "id": "2a-gvBvCULwt"
      },
      "source": [
        "---\n",
        "### Importando o dataset do projeto"
      ]
    },
    {
      "cell_type": "code",
      "execution_count": null,
      "metadata": {
        "id": "ufRZ7TLwjQKo"
      },
      "outputs": [],
      "source": [
        "#atribuindo a uma variavel, = é igual a <-\n",
        "dados <- read.csv(\"dados.csv\")"
      ]
    },
    {
      "cell_type": "code",
      "source": [
        "dados"
      ],
      "metadata": {
        "colab": {
          "base_uri": "https://localhost:8080/",
          "height": 1000
        },
        "id": "SwkrvkRUagCz",
        "outputId": "f2727d7a-ddd1-42fb-9fd2-8cba72425288"
      },
      "execution_count": null,
      "outputs": [
        {
          "output_type": "display_data",
          "data": {
            "text/html": [
              "<table class=\"dataframe\">\n",
              "<caption>A data.frame: 76840 × 7</caption>\n",
              "<thead>\n",
              "\t<tr><th scope=col>UF</th><th scope=col>Sexo</th><th scope=col>Idade</th><th scope=col>Cor</th><th scope=col>Anos.de.Estudo</th><th scope=col>Renda</th><th scope=col>Altura</th></tr>\n",
              "\t<tr><th scope=col>&lt;int&gt;</th><th scope=col>&lt;int&gt;</th><th scope=col>&lt;int&gt;</th><th scope=col>&lt;int&gt;</th><th scope=col>&lt;int&gt;</th><th scope=col>&lt;int&gt;</th><th scope=col>&lt;dbl&gt;</th></tr>\n",
              "</thead>\n",
              "<tbody>\n",
              "\t<tr><td>11</td><td>0</td><td>23</td><td>8</td><td>12</td><td> 800</td><td>1.603808</td></tr>\n",
              "\t<tr><td>11</td><td>1</td><td>23</td><td>2</td><td>12</td><td>1150</td><td>1.739790</td></tr>\n",
              "\t<tr><td>11</td><td>1</td><td>35</td><td>8</td><td>15</td><td> 880</td><td>1.760444</td></tr>\n",
              "\t<tr><td>11</td><td>0</td><td>46</td><td>2</td><td> 6</td><td>3500</td><td>1.783158</td></tr>\n",
              "\t<tr><td>11</td><td>1</td><td>47</td><td>8</td><td> 9</td><td> 150</td><td>1.690631</td></tr>\n",
              "\t<tr><td>11</td><td>1</td><td>34</td><td>8</td><td>12</td><td> 790</td><td>1.637906</td></tr>\n",
              "\t<tr><td>11</td><td>0</td><td>57</td><td>8</td><td>12</td><td>3150</td><td>1.570078</td></tr>\n",
              "\t<tr><td>11</td><td>1</td><td>60</td><td>8</td><td>12</td><td>1700</td><td>1.608495</td></tr>\n",
              "\t<tr><td>11</td><td>1</td><td>50</td><td>4</td><td>14</td><td>1800</td><td>1.780329</td></tr>\n",
              "\t<tr><td>11</td><td>0</td><td>26</td><td>8</td><td>12</td><td>1150</td><td>1.793203</td></tr>\n",
              "\t<tr><td>11</td><td>1</td><td>46</td><td>8</td><td>12</td><td>3000</td><td>1.787003</td></tr>\n",
              "\t<tr><td>11</td><td>1</td><td>49</td><td>8</td><td> 6</td><td>2500</td><td>1.712912</td></tr>\n",
              "\t<tr><td>11</td><td>1</td><td>52</td><td>2</td><td> 6</td><td>1200</td><td>1.736442</td></tr>\n",
              "\t<tr><td>11</td><td>0</td><td>38</td><td>8</td><td>12</td><td>2000</td><td>1.750827</td></tr>\n",
              "\t<tr><td>11</td><td>0</td><td>45</td><td>2</td><td>12</td><td>2000</td><td>1.780450</td></tr>\n",
              "\t<tr><td>11</td><td>0</td><td>34</td><td>2</td><td>16</td><td>6000</td><td>1.711825</td></tr>\n",
              "\t<tr><td>11</td><td>1</td><td>43</td><td>8</td><td>10</td><td>1050</td><td>1.789012</td></tr>\n",
              "\t<tr><td>11</td><td>0</td><td>53</td><td>8</td><td>16</td><td>7000</td><td>1.673665</td></tr>\n",
              "\t<tr><td>11</td><td>0</td><td>57</td><td>2</td><td>12</td><td>2000</td><td>1.715138</td></tr>\n",
              "\t<tr><td>11</td><td>1</td><td>62</td><td>8</td><td>12</td><td>1150</td><td>1.765973</td></tr>\n",
              "\t<tr><td>11</td><td>0</td><td>69</td><td>8</td><td> 1</td><td>3030</td><td>1.746351</td></tr>\n",
              "\t<tr><td>11</td><td>1</td><td>41</td><td>8</td><td>16</td><td>4000</td><td>1.660873</td></tr>\n",
              "\t<tr><td>11</td><td>0</td><td>34</td><td>8</td><td> 5</td><td> 788</td><td>1.746048</td></tr>\n",
              "\t<tr><td>11</td><td>0</td><td>25</td><td>8</td><td>12</td><td>1000</td><td>1.726496</td></tr>\n",
              "\t<tr><td>11</td><td>0</td><td>33</td><td>8</td><td> 9</td><td> 800</td><td>1.778914</td></tr>\n",
              "\t<tr><td>11</td><td>1</td><td>44</td><td>8</td><td> 5</td><td> 788</td><td>1.668638</td></tr>\n",
              "\t<tr><td>11</td><td>0</td><td>33</td><td>2</td><td>16</td><td>1600</td><td>1.783771</td></tr>\n",
              "\t<tr><td>11</td><td>0</td><td>65</td><td>2</td><td>12</td><td>1700</td><td>1.873445</td></tr>\n",
              "\t<tr><td>11</td><td>0</td><td>33</td><td>8</td><td>14</td><td>2000</td><td>1.890250</td></tr>\n",
              "\t<tr><td>11</td><td>0</td><td>32</td><td>8</td><td>12</td><td>2400</td><td>1.660204</td></tr>\n",
              "\t<tr><td>⋮</td><td>⋮</td><td>⋮</td><td>⋮</td><td>⋮</td><td>⋮</td><td>⋮</td></tr>\n",
              "\t<tr><td>53</td><td>0</td><td>34</td><td>4</td><td>12</td><td> 2500</td><td>1.802241</td></tr>\n",
              "\t<tr><td>53</td><td>1</td><td>57</td><td>2</td><td>11</td><td> 1000</td><td>1.823047</td></tr>\n",
              "\t<tr><td>53</td><td>1</td><td>32</td><td>4</td><td>12</td><td>  788</td><td>1.681405</td></tr>\n",
              "\t<tr><td>53</td><td>0</td><td>35</td><td>4</td><td> 9</td><td> 2100</td><td>1.671112</td></tr>\n",
              "\t<tr><td>53</td><td>1</td><td>49</td><td>8</td><td>12</td><td> 5260</td><td>1.799319</td></tr>\n",
              "\t<tr><td>53</td><td>0</td><td>51</td><td>8</td><td> 1</td><td> 5000</td><td>1.599400</td></tr>\n",
              "\t<tr><td>53</td><td>0</td><td>37</td><td>8</td><td>12</td><td>  950</td><td>1.620497</td></tr>\n",
              "\t<tr><td>53</td><td>0</td><td>47</td><td>8</td><td>12</td><td> 1109</td><td>1.920274</td></tr>\n",
              "\t<tr><td>53</td><td>0</td><td>27</td><td>8</td><td>10</td><td>  850</td><td>1.793074</td></tr>\n",
              "\t<tr><td>53</td><td>1</td><td>49</td><td>8</td><td> 9</td><td>  788</td><td>1.695710</td></tr>\n",
              "\t<tr><td>53</td><td>1</td><td>27</td><td>8</td><td>12</td><td>  866</td><td>1.729035</td></tr>\n",
              "\t<tr><td>53</td><td>0</td><td>20</td><td>2</td><td> 8</td><td> 1300</td><td>1.660409</td></tr>\n",
              "\t<tr><td>53</td><td>0</td><td>49</td><td>8</td><td>12</td><td> 8700</td><td>1.775182</td></tr>\n",
              "\t<tr><td>53</td><td>0</td><td>43</td><td>8</td><td>10</td><td> 5000</td><td>1.584493</td></tr>\n",
              "\t<tr><td>53</td><td>0</td><td>64</td><td>2</td><td>12</td><td> 5000</td><td>1.717452</td></tr>\n",
              "\t<tr><td>53</td><td>0</td><td>55</td><td>2</td><td>16</td><td>13000</td><td>1.729995</td></tr>\n",
              "\t<tr><td>53</td><td>0</td><td>39</td><td>2</td><td>12</td><td> 6000</td><td>1.739046</td></tr>\n",
              "\t<tr><td>53</td><td>1</td><td>41</td><td>2</td><td>16</td><td>10000</td><td>1.696208</td></tr>\n",
              "\t<tr><td>53</td><td>0</td><td>62</td><td>2</td><td>16</td><td>10000</td><td>1.817097</td></tr>\n",
              "\t<tr><td>53</td><td>0</td><td>42</td><td>8</td><td>12</td><td>32000</td><td>1.788923</td></tr>\n",
              "\t<tr><td>53</td><td>0</td><td>62</td><td>2</td><td>16</td><td> 3500</td><td>1.725379</td></tr>\n",
              "\t<tr><td>53</td><td>1</td><td>44</td><td>2</td><td>16</td><td>30000</td><td>1.783962</td></tr>\n",
              "\t<tr><td>53</td><td>1</td><td>49</td><td>2</td><td>12</td><td> 5000</td><td>1.757146</td></tr>\n",
              "\t<tr><td>53</td><td>0</td><td>30</td><td>4</td><td> 6</td><td> 1900</td><td>1.662560</td></tr>\n",
              "\t<tr><td>53</td><td>1</td><td>35</td><td>4</td><td> 1</td><td> 1100</td><td>1.741089</td></tr>\n",
              "\t<tr><td>53</td><td>1</td><td>46</td><td>2</td><td>11</td><td>  812</td><td>1.687030</td></tr>\n",
              "\t<tr><td>53</td><td>0</td><td>30</td><td>4</td><td> 7</td><td> 1500</td><td>1.792934</td></tr>\n",
              "\t<tr><td>53</td><td>0</td><td>32</td><td>8</td><td>12</td><td> 1300</td><td>1.830587</td></tr>\n",
              "\t<tr><td>53</td><td>0</td><td>57</td><td>8</td><td> 4</td><td> 1500</td><td>1.726344</td></tr>\n",
              "\t<tr><td>53</td><td>0</td><td>38</td><td>8</td><td> 4</td><td>  900</td><td>1.658305</td></tr>\n",
              "</tbody>\n",
              "</table>\n"
            ],
            "text/markdown": "\nA data.frame: 76840 × 7\n\n| UF &lt;int&gt; | Sexo &lt;int&gt; | Idade &lt;int&gt; | Cor &lt;int&gt; | Anos.de.Estudo &lt;int&gt; | Renda &lt;int&gt; | Altura &lt;dbl&gt; |\n|---|---|---|---|---|---|---|\n| 11 | 0 | 23 | 8 | 12 |  800 | 1.603808 |\n| 11 | 1 | 23 | 2 | 12 | 1150 | 1.739790 |\n| 11 | 1 | 35 | 8 | 15 |  880 | 1.760444 |\n| 11 | 0 | 46 | 2 |  6 | 3500 | 1.783158 |\n| 11 | 1 | 47 | 8 |  9 |  150 | 1.690631 |\n| 11 | 1 | 34 | 8 | 12 |  790 | 1.637906 |\n| 11 | 0 | 57 | 8 | 12 | 3150 | 1.570078 |\n| 11 | 1 | 60 | 8 | 12 | 1700 | 1.608495 |\n| 11 | 1 | 50 | 4 | 14 | 1800 | 1.780329 |\n| 11 | 0 | 26 | 8 | 12 | 1150 | 1.793203 |\n| 11 | 1 | 46 | 8 | 12 | 3000 | 1.787003 |\n| 11 | 1 | 49 | 8 |  6 | 2500 | 1.712912 |\n| 11 | 1 | 52 | 2 |  6 | 1200 | 1.736442 |\n| 11 | 0 | 38 | 8 | 12 | 2000 | 1.750827 |\n| 11 | 0 | 45 | 2 | 12 | 2000 | 1.780450 |\n| 11 | 0 | 34 | 2 | 16 | 6000 | 1.711825 |\n| 11 | 1 | 43 | 8 | 10 | 1050 | 1.789012 |\n| 11 | 0 | 53 | 8 | 16 | 7000 | 1.673665 |\n| 11 | 0 | 57 | 2 | 12 | 2000 | 1.715138 |\n| 11 | 1 | 62 | 8 | 12 | 1150 | 1.765973 |\n| 11 | 0 | 69 | 8 |  1 | 3030 | 1.746351 |\n| 11 | 1 | 41 | 8 | 16 | 4000 | 1.660873 |\n| 11 | 0 | 34 | 8 |  5 |  788 | 1.746048 |\n| 11 | 0 | 25 | 8 | 12 | 1000 | 1.726496 |\n| 11 | 0 | 33 | 8 |  9 |  800 | 1.778914 |\n| 11 | 1 | 44 | 8 |  5 |  788 | 1.668638 |\n| 11 | 0 | 33 | 2 | 16 | 1600 | 1.783771 |\n| 11 | 0 | 65 | 2 | 12 | 1700 | 1.873445 |\n| 11 | 0 | 33 | 8 | 14 | 2000 | 1.890250 |\n| 11 | 0 | 32 | 8 | 12 | 2400 | 1.660204 |\n| ⋮ | ⋮ | ⋮ | ⋮ | ⋮ | ⋮ | ⋮ |\n| 53 | 0 | 34 | 4 | 12 |  2500 | 1.802241 |\n| 53 | 1 | 57 | 2 | 11 |  1000 | 1.823047 |\n| 53 | 1 | 32 | 4 | 12 |   788 | 1.681405 |\n| 53 | 0 | 35 | 4 |  9 |  2100 | 1.671112 |\n| 53 | 1 | 49 | 8 | 12 |  5260 | 1.799319 |\n| 53 | 0 | 51 | 8 |  1 |  5000 | 1.599400 |\n| 53 | 0 | 37 | 8 | 12 |   950 | 1.620497 |\n| 53 | 0 | 47 | 8 | 12 |  1109 | 1.920274 |\n| 53 | 0 | 27 | 8 | 10 |   850 | 1.793074 |\n| 53 | 1 | 49 | 8 |  9 |   788 | 1.695710 |\n| 53 | 1 | 27 | 8 | 12 |   866 | 1.729035 |\n| 53 | 0 | 20 | 2 |  8 |  1300 | 1.660409 |\n| 53 | 0 | 49 | 8 | 12 |  8700 | 1.775182 |\n| 53 | 0 | 43 | 8 | 10 |  5000 | 1.584493 |\n| 53 | 0 | 64 | 2 | 12 |  5000 | 1.717452 |\n| 53 | 0 | 55 | 2 | 16 | 13000 | 1.729995 |\n| 53 | 0 | 39 | 2 | 12 |  6000 | 1.739046 |\n| 53 | 1 | 41 | 2 | 16 | 10000 | 1.696208 |\n| 53 | 0 | 62 | 2 | 16 | 10000 | 1.817097 |\n| 53 | 0 | 42 | 8 | 12 | 32000 | 1.788923 |\n| 53 | 0 | 62 | 2 | 16 |  3500 | 1.725379 |\n| 53 | 1 | 44 | 2 | 16 | 30000 | 1.783962 |\n| 53 | 1 | 49 | 2 | 12 |  5000 | 1.757146 |\n| 53 | 0 | 30 | 4 |  6 |  1900 | 1.662560 |\n| 53 | 1 | 35 | 4 |  1 |  1100 | 1.741089 |\n| 53 | 1 | 46 | 2 | 11 |   812 | 1.687030 |\n| 53 | 0 | 30 | 4 |  7 |  1500 | 1.792934 |\n| 53 | 0 | 32 | 8 | 12 |  1300 | 1.830587 |\n| 53 | 0 | 57 | 8 |  4 |  1500 | 1.726344 |\n| 53 | 0 | 38 | 8 |  4 |   900 | 1.658305 |\n\n",
            "text/latex": "A data.frame: 76840 × 7\n\\begin{tabular}{lllllll}\n UF & Sexo & Idade & Cor & Anos.de.Estudo & Renda & Altura\\\\\n <int> & <int> & <int> & <int> & <int> & <int> & <dbl>\\\\\n\\hline\n\t 11 & 0 & 23 & 8 & 12 &  800 & 1.603808\\\\\n\t 11 & 1 & 23 & 2 & 12 & 1150 & 1.739790\\\\\n\t 11 & 1 & 35 & 8 & 15 &  880 & 1.760444\\\\\n\t 11 & 0 & 46 & 2 &  6 & 3500 & 1.783158\\\\\n\t 11 & 1 & 47 & 8 &  9 &  150 & 1.690631\\\\\n\t 11 & 1 & 34 & 8 & 12 &  790 & 1.637906\\\\\n\t 11 & 0 & 57 & 8 & 12 & 3150 & 1.570078\\\\\n\t 11 & 1 & 60 & 8 & 12 & 1700 & 1.608495\\\\\n\t 11 & 1 & 50 & 4 & 14 & 1800 & 1.780329\\\\\n\t 11 & 0 & 26 & 8 & 12 & 1150 & 1.793203\\\\\n\t 11 & 1 & 46 & 8 & 12 & 3000 & 1.787003\\\\\n\t 11 & 1 & 49 & 8 &  6 & 2500 & 1.712912\\\\\n\t 11 & 1 & 52 & 2 &  6 & 1200 & 1.736442\\\\\n\t 11 & 0 & 38 & 8 & 12 & 2000 & 1.750827\\\\\n\t 11 & 0 & 45 & 2 & 12 & 2000 & 1.780450\\\\\n\t 11 & 0 & 34 & 2 & 16 & 6000 & 1.711825\\\\\n\t 11 & 1 & 43 & 8 & 10 & 1050 & 1.789012\\\\\n\t 11 & 0 & 53 & 8 & 16 & 7000 & 1.673665\\\\\n\t 11 & 0 & 57 & 2 & 12 & 2000 & 1.715138\\\\\n\t 11 & 1 & 62 & 8 & 12 & 1150 & 1.765973\\\\\n\t 11 & 0 & 69 & 8 &  1 & 3030 & 1.746351\\\\\n\t 11 & 1 & 41 & 8 & 16 & 4000 & 1.660873\\\\\n\t 11 & 0 & 34 & 8 &  5 &  788 & 1.746048\\\\\n\t 11 & 0 & 25 & 8 & 12 & 1000 & 1.726496\\\\\n\t 11 & 0 & 33 & 8 &  9 &  800 & 1.778914\\\\\n\t 11 & 1 & 44 & 8 &  5 &  788 & 1.668638\\\\\n\t 11 & 0 & 33 & 2 & 16 & 1600 & 1.783771\\\\\n\t 11 & 0 & 65 & 2 & 12 & 1700 & 1.873445\\\\\n\t 11 & 0 & 33 & 8 & 14 & 2000 & 1.890250\\\\\n\t 11 & 0 & 32 & 8 & 12 & 2400 & 1.660204\\\\\n\t ⋮ & ⋮ & ⋮ & ⋮ & ⋮ & ⋮ & ⋮\\\\\n\t 53 & 0 & 34 & 4 & 12 &  2500 & 1.802241\\\\\n\t 53 & 1 & 57 & 2 & 11 &  1000 & 1.823047\\\\\n\t 53 & 1 & 32 & 4 & 12 &   788 & 1.681405\\\\\n\t 53 & 0 & 35 & 4 &  9 &  2100 & 1.671112\\\\\n\t 53 & 1 & 49 & 8 & 12 &  5260 & 1.799319\\\\\n\t 53 & 0 & 51 & 8 &  1 &  5000 & 1.599400\\\\\n\t 53 & 0 & 37 & 8 & 12 &   950 & 1.620497\\\\\n\t 53 & 0 & 47 & 8 & 12 &  1109 & 1.920274\\\\\n\t 53 & 0 & 27 & 8 & 10 &   850 & 1.793074\\\\\n\t 53 & 1 & 49 & 8 &  9 &   788 & 1.695710\\\\\n\t 53 & 1 & 27 & 8 & 12 &   866 & 1.729035\\\\\n\t 53 & 0 & 20 & 2 &  8 &  1300 & 1.660409\\\\\n\t 53 & 0 & 49 & 8 & 12 &  8700 & 1.775182\\\\\n\t 53 & 0 & 43 & 8 & 10 &  5000 & 1.584493\\\\\n\t 53 & 0 & 64 & 2 & 12 &  5000 & 1.717452\\\\\n\t 53 & 0 & 55 & 2 & 16 & 13000 & 1.729995\\\\\n\t 53 & 0 & 39 & 2 & 12 &  6000 & 1.739046\\\\\n\t 53 & 1 & 41 & 2 & 16 & 10000 & 1.696208\\\\\n\t 53 & 0 & 62 & 2 & 16 & 10000 & 1.817097\\\\\n\t 53 & 0 & 42 & 8 & 12 & 32000 & 1.788923\\\\\n\t 53 & 0 & 62 & 2 & 16 &  3500 & 1.725379\\\\\n\t 53 & 1 & 44 & 2 & 16 & 30000 & 1.783962\\\\\n\t 53 & 1 & 49 & 2 & 12 &  5000 & 1.757146\\\\\n\t 53 & 0 & 30 & 4 &  6 &  1900 & 1.662560\\\\\n\t 53 & 1 & 35 & 4 &  1 &  1100 & 1.741089\\\\\n\t 53 & 1 & 46 & 2 & 11 &   812 & 1.687030\\\\\n\t 53 & 0 & 30 & 4 &  7 &  1500 & 1.792934\\\\\n\t 53 & 0 & 32 & 8 & 12 &  1300 & 1.830587\\\\\n\t 53 & 0 & 57 & 8 &  4 &  1500 & 1.726344\\\\\n\t 53 & 0 & 38 & 8 &  4 &   900 & 1.658305\\\\\n\\end{tabular}\n",
            "text/plain": [
              "      UF Sexo Idade Cor Anos.de.Estudo Renda Altura  \n",
              "1     11 0    23    8   12              800  1.603808\n",
              "2     11 1    23    2   12             1150  1.739790\n",
              "3     11 1    35    8   15              880  1.760444\n",
              "4     11 0    46    2    6             3500  1.783158\n",
              "5     11 1    47    8    9              150  1.690631\n",
              "6     11 1    34    8   12              790  1.637906\n",
              "7     11 0    57    8   12             3150  1.570078\n",
              "8     11 1    60    8   12             1700  1.608495\n",
              "9     11 1    50    4   14             1800  1.780329\n",
              "10    11 0    26    8   12             1150  1.793203\n",
              "11    11 1    46    8   12             3000  1.787003\n",
              "12    11 1    49    8    6             2500  1.712912\n",
              "13    11 1    52    2    6             1200  1.736442\n",
              "14    11 0    38    8   12             2000  1.750827\n",
              "15    11 0    45    2   12             2000  1.780450\n",
              "16    11 0    34    2   16             6000  1.711825\n",
              "17    11 1    43    8   10             1050  1.789012\n",
              "18    11 0    53    8   16             7000  1.673665\n",
              "19    11 0    57    2   12             2000  1.715138\n",
              "20    11 1    62    8   12             1150  1.765973\n",
              "21    11 0    69    8    1             3030  1.746351\n",
              "22    11 1    41    8   16             4000  1.660873\n",
              "23    11 0    34    8    5              788  1.746048\n",
              "24    11 0    25    8   12             1000  1.726496\n",
              "25    11 0    33    8    9              800  1.778914\n",
              "26    11 1    44    8    5              788  1.668638\n",
              "27    11 0    33    2   16             1600  1.783771\n",
              "28    11 0    65    2   12             1700  1.873445\n",
              "29    11 0    33    8   14             2000  1.890250\n",
              "30    11 0    32    8   12             2400  1.660204\n",
              "⋮     ⋮  ⋮    ⋮     ⋮   ⋮              ⋮     ⋮       \n",
              "76811 53 0    34    4   12              2500 1.802241\n",
              "76812 53 1    57    2   11              1000 1.823047\n",
              "76813 53 1    32    4   12               788 1.681405\n",
              "76814 53 0    35    4    9              2100 1.671112\n",
              "76815 53 1    49    8   12              5260 1.799319\n",
              "76816 53 0    51    8    1              5000 1.599400\n",
              "76817 53 0    37    8   12               950 1.620497\n",
              "76818 53 0    47    8   12              1109 1.920274\n",
              "76819 53 0    27    8   10               850 1.793074\n",
              "76820 53 1    49    8    9               788 1.695710\n",
              "76821 53 1    27    8   12               866 1.729035\n",
              "76822 53 0    20    2    8              1300 1.660409\n",
              "76823 53 0    49    8   12              8700 1.775182\n",
              "76824 53 0    43    8   10              5000 1.584493\n",
              "76825 53 0    64    2   12              5000 1.717452\n",
              "76826 53 0    55    2   16             13000 1.729995\n",
              "76827 53 0    39    2   12              6000 1.739046\n",
              "76828 53 1    41    2   16             10000 1.696208\n",
              "76829 53 0    62    2   16             10000 1.817097\n",
              "76830 53 0    42    8   12             32000 1.788923\n",
              "76831 53 0    62    2   16              3500 1.725379\n",
              "76832 53 1    44    2   16             30000 1.783962\n",
              "76833 53 1    49    2   12              5000 1.757146\n",
              "76834 53 0    30    4    6              1900 1.662560\n",
              "76835 53 1    35    4    1              1100 1.741089\n",
              "76836 53 1    46    2   11               812 1.687030\n",
              "76837 53 0    30    4    7              1500 1.792934\n",
              "76838 53 0    32    8   12              1300 1.830587\n",
              "76839 53 0    57    8    4              1500 1.726344\n",
              "76840 53 0    38    8    4               900 1.658305"
            ]
          },
          "metadata": {}
        }
      ]
    },
    {
      "cell_type": "code",
      "source": [
        "#ver o head dos dados\n",
        "head(dados,5)"
      ],
      "metadata": {
        "colab": {
          "base_uri": "https://localhost:8080/",
          "height": 255
        },
        "id": "vT5vELVqarEQ",
        "outputId": "f7e87d6b-fdfb-4986-a437-87ab52d242b8"
      },
      "execution_count": null,
      "outputs": [
        {
          "output_type": "display_data",
          "data": {
            "text/html": [
              "<table class=\"dataframe\">\n",
              "<caption>A data.frame: 5 × 7</caption>\n",
              "<thead>\n",
              "\t<tr><th></th><th scope=col>UF</th><th scope=col>Sexo</th><th scope=col>Idade</th><th scope=col>Cor</th><th scope=col>Anos.de.Estudo</th><th scope=col>Renda</th><th scope=col>Altura</th></tr>\n",
              "\t<tr><th></th><th scope=col>&lt;int&gt;</th><th scope=col>&lt;int&gt;</th><th scope=col>&lt;int&gt;</th><th scope=col>&lt;int&gt;</th><th scope=col>&lt;int&gt;</th><th scope=col>&lt;int&gt;</th><th scope=col>&lt;dbl&gt;</th></tr>\n",
              "</thead>\n",
              "<tbody>\n",
              "\t<tr><th scope=row>1</th><td>11</td><td>0</td><td>23</td><td>8</td><td>12</td><td> 800</td><td>1.603808</td></tr>\n",
              "\t<tr><th scope=row>2</th><td>11</td><td>1</td><td>23</td><td>2</td><td>12</td><td>1150</td><td>1.739790</td></tr>\n",
              "\t<tr><th scope=row>3</th><td>11</td><td>1</td><td>35</td><td>8</td><td>15</td><td> 880</td><td>1.760444</td></tr>\n",
              "\t<tr><th scope=row>4</th><td>11</td><td>0</td><td>46</td><td>2</td><td> 6</td><td>3500</td><td>1.783158</td></tr>\n",
              "\t<tr><th scope=row>5</th><td>11</td><td>1</td><td>47</td><td>8</td><td> 9</td><td> 150</td><td>1.690631</td></tr>\n",
              "</tbody>\n",
              "</table>\n"
            ],
            "text/markdown": "\nA data.frame: 5 × 7\n\n| <!--/--> | UF &lt;int&gt; | Sexo &lt;int&gt; | Idade &lt;int&gt; | Cor &lt;int&gt; | Anos.de.Estudo &lt;int&gt; | Renda &lt;int&gt; | Altura &lt;dbl&gt; |\n|---|---|---|---|---|---|---|---|\n| 1 | 11 | 0 | 23 | 8 | 12 |  800 | 1.603808 |\n| 2 | 11 | 1 | 23 | 2 | 12 | 1150 | 1.739790 |\n| 3 | 11 | 1 | 35 | 8 | 15 |  880 | 1.760444 |\n| 4 | 11 | 0 | 46 | 2 |  6 | 3500 | 1.783158 |\n| 5 | 11 | 1 | 47 | 8 |  9 |  150 | 1.690631 |\n\n",
            "text/latex": "A data.frame: 5 × 7\n\\begin{tabular}{r|lllllll}\n  & UF & Sexo & Idade & Cor & Anos.de.Estudo & Renda & Altura\\\\\n  & <int> & <int> & <int> & <int> & <int> & <int> & <dbl>\\\\\n\\hline\n\t1 & 11 & 0 & 23 & 8 & 12 &  800 & 1.603808\\\\\n\t2 & 11 & 1 & 23 & 2 & 12 & 1150 & 1.739790\\\\\n\t3 & 11 & 1 & 35 & 8 & 15 &  880 & 1.760444\\\\\n\t4 & 11 & 0 & 46 & 2 &  6 & 3500 & 1.783158\\\\\n\t5 & 11 & 1 & 47 & 8 &  9 &  150 & 1.690631\\\\\n\\end{tabular}\n",
            "text/plain": [
              "  UF Sexo Idade Cor Anos.de.Estudo Renda Altura  \n",
              "1 11 0    23    8   12              800  1.603808\n",
              "2 11 1    23    2   12             1150  1.739790\n",
              "3 11 1    35    8   15              880  1.760444\n",
              "4 11 0    46    2    6             3500  1.783158\n",
              "5 11 1    47    8    9              150  1.690631"
            ]
          },
          "metadata": {}
        }
      ]
    },
    {
      "cell_type": "markdown",
      "source": [
        "## <font color=green>1.2 Tipos de dados</font>\n",
        "***"
      ],
      "metadata": {
        "id": "ujbyBvrIbkP1"
      }
    },
    {
      "cell_type": "markdown",
      "source": [
        "### Variáveis qualitativas ordinais\n",
        "\n",
        "► Variáveis que podem ser ordenadas ou hierarquizardas\n"
      ],
      "metadata": {
        "id": "XYEm-rGcbqCt"
      }
    },
    {
      "cell_type": "markdown",
      "source": [
        "### <font color=red>Documentações:\n",
        "\n",
        "- [**select**](https://www.rdocumentation.org/packages/dplyr/versions/0.7.8/topics/select)\n",
        "- [**unique**](https://www.rdocumentation.org/packages/base/versions/3.6.1/topics/unique)\n",
        "- [**arrange**](https://www.rdocumentation.org/packages/dplyr/versions/0.7.8/topics/arrange)\n",
        "- [**c**](https://www.rdocumentation.org/packages/base/versions/3.6.1/topics/c)\n",
        "- [**sprintf**](https://www.rdocumentation.org/packages/base/versions/3.6.1/topics/sprintf)\n",
        "- [**glue**](https://www.rdocumentation.org/packages/glue/versions/1.3.1/topics/glue)\n",
        "- [**min e max**](https://www.rdocumentation.org/packages/base/versions/3.6.1/topics/Extremes)"
      ],
      "metadata": {
        "id": "lt9-Hn1Zx6Xc"
      }
    },
    {
      "cell_type": "code",
      "execution_count": null,
      "metadata": {
        "colab": {
          "base_uri": "https://localhost:8080/",
          "height": 255
        },
        "id": "GsC_WhLFjQKq",
        "outputId": "b5e22503-b935-43b6-9b3d-f256f019ed91",
        "scrolled": true
      },
      "outputs": [
        {
          "output_type": "display_data",
          "data": {
            "text/html": [
              "<table class=\"dataframe\">\n",
              "<caption>A data.frame: 5 × 7</caption>\n",
              "<thead>\n",
              "\t<tr><th></th><th scope=col>UF</th><th scope=col>Sexo</th><th scope=col>Idade</th><th scope=col>Cor</th><th scope=col>Anos.de.Estudo</th><th scope=col>Renda</th><th scope=col>Altura</th></tr>\n",
              "\t<tr><th></th><th scope=col>&lt;int&gt;</th><th scope=col>&lt;int&gt;</th><th scope=col>&lt;int&gt;</th><th scope=col>&lt;int&gt;</th><th scope=col>&lt;int&gt;</th><th scope=col>&lt;int&gt;</th><th scope=col>&lt;dbl&gt;</th></tr>\n",
              "</thead>\n",
              "<tbody>\n",
              "\t<tr><th scope=row>1</th><td>11</td><td>0</td><td>23</td><td>8</td><td>12</td><td> 800</td><td>1.603808</td></tr>\n",
              "\t<tr><th scope=row>2</th><td>11</td><td>1</td><td>23</td><td>2</td><td>12</td><td>1150</td><td>1.739790</td></tr>\n",
              "\t<tr><th scope=row>3</th><td>11</td><td>1</td><td>35</td><td>8</td><td>15</td><td> 880</td><td>1.760444</td></tr>\n",
              "\t<tr><th scope=row>4</th><td>11</td><td>0</td><td>46</td><td>2</td><td> 6</td><td>3500</td><td>1.783158</td></tr>\n",
              "\t<tr><th scope=row>5</th><td>11</td><td>1</td><td>47</td><td>8</td><td> 9</td><td> 150</td><td>1.690631</td></tr>\n",
              "</tbody>\n",
              "</table>\n"
            ],
            "text/markdown": "\nA data.frame: 5 × 7\n\n| <!--/--> | UF &lt;int&gt; | Sexo &lt;int&gt; | Idade &lt;int&gt; | Cor &lt;int&gt; | Anos.de.Estudo &lt;int&gt; | Renda &lt;int&gt; | Altura &lt;dbl&gt; |\n|---|---|---|---|---|---|---|---|\n| 1 | 11 | 0 | 23 | 8 | 12 |  800 | 1.603808 |\n| 2 | 11 | 1 | 23 | 2 | 12 | 1150 | 1.739790 |\n| 3 | 11 | 1 | 35 | 8 | 15 |  880 | 1.760444 |\n| 4 | 11 | 0 | 46 | 2 |  6 | 3500 | 1.783158 |\n| 5 | 11 | 1 | 47 | 8 |  9 |  150 | 1.690631 |\n\n",
            "text/latex": "A data.frame: 5 × 7\n\\begin{tabular}{r|lllllll}\n  & UF & Sexo & Idade & Cor & Anos.de.Estudo & Renda & Altura\\\\\n  & <int> & <int> & <int> & <int> & <int> & <int> & <dbl>\\\\\n\\hline\n\t1 & 11 & 0 & 23 & 8 & 12 &  800 & 1.603808\\\\\n\t2 & 11 & 1 & 23 & 2 & 12 & 1150 & 1.739790\\\\\n\t3 & 11 & 1 & 35 & 8 & 15 &  880 & 1.760444\\\\\n\t4 & 11 & 0 & 46 & 2 &  6 & 3500 & 1.783158\\\\\n\t5 & 11 & 1 & 47 & 8 &  9 &  150 & 1.690631\\\\\n\\end{tabular}\n",
            "text/plain": [
              "  UF Sexo Idade Cor Anos.de.Estudo Renda Altura  \n",
              "1 11 0    23    8   12              800  1.603808\n",
              "2 11 1    23    2   12             1150  1.739790\n",
              "3 11 1    35    8   15              880  1.760444\n",
              "4 11 0    46    2    6             3500  1.783158\n",
              "5 11 1    47    8    9              150  1.690631"
            ]
          },
          "metadata": {}
        }
      ],
      "source": [
        "head(dados,5)\n",
        "#vimos que a variavel anos_de_estudo é uma ordinal"
      ]
    },
    {
      "cell_type": "code",
      "source": [
        "#isolando a variavel\n",
        "select(dados, Anos.de.Estudo)"
      ],
      "metadata": {
        "colab": {
          "base_uri": "https://localhost:8080/",
          "height": 1000
        },
        "id": "61zTESTRb-5V",
        "outputId": "35c57709-c616-4885-fb05-72703bd27cf0"
      },
      "execution_count": null,
      "outputs": [
        {
          "output_type": "display_data",
          "data": {
            "text/html": [
              "<table class=\"dataframe\">\n",
              "<caption>A data.frame: 76840 × 1</caption>\n",
              "<thead>\n",
              "\t<tr><th scope=col>Anos.de.Estudo</th></tr>\n",
              "\t<tr><th scope=col>&lt;int&gt;</th></tr>\n",
              "</thead>\n",
              "<tbody>\n",
              "\t<tr><td>12</td></tr>\n",
              "\t<tr><td>12</td></tr>\n",
              "\t<tr><td>15</td></tr>\n",
              "\t<tr><td> 6</td></tr>\n",
              "\t<tr><td> 9</td></tr>\n",
              "\t<tr><td>12</td></tr>\n",
              "\t<tr><td>12</td></tr>\n",
              "\t<tr><td>12</td></tr>\n",
              "\t<tr><td>14</td></tr>\n",
              "\t<tr><td>12</td></tr>\n",
              "\t<tr><td>12</td></tr>\n",
              "\t<tr><td> 6</td></tr>\n",
              "\t<tr><td> 6</td></tr>\n",
              "\t<tr><td>12</td></tr>\n",
              "\t<tr><td>12</td></tr>\n",
              "\t<tr><td>16</td></tr>\n",
              "\t<tr><td>10</td></tr>\n",
              "\t<tr><td>16</td></tr>\n",
              "\t<tr><td>12</td></tr>\n",
              "\t<tr><td>12</td></tr>\n",
              "\t<tr><td> 1</td></tr>\n",
              "\t<tr><td>16</td></tr>\n",
              "\t<tr><td> 5</td></tr>\n",
              "\t<tr><td>12</td></tr>\n",
              "\t<tr><td> 9</td></tr>\n",
              "\t<tr><td> 5</td></tr>\n",
              "\t<tr><td>16</td></tr>\n",
              "\t<tr><td>12</td></tr>\n",
              "\t<tr><td>14</td></tr>\n",
              "\t<tr><td>12</td></tr>\n",
              "\t<tr><td>⋮</td></tr>\n",
              "\t<tr><td>12</td></tr>\n",
              "\t<tr><td>11</td></tr>\n",
              "\t<tr><td>12</td></tr>\n",
              "\t<tr><td> 9</td></tr>\n",
              "\t<tr><td>12</td></tr>\n",
              "\t<tr><td> 1</td></tr>\n",
              "\t<tr><td>12</td></tr>\n",
              "\t<tr><td>12</td></tr>\n",
              "\t<tr><td>10</td></tr>\n",
              "\t<tr><td> 9</td></tr>\n",
              "\t<tr><td>12</td></tr>\n",
              "\t<tr><td> 8</td></tr>\n",
              "\t<tr><td>12</td></tr>\n",
              "\t<tr><td>10</td></tr>\n",
              "\t<tr><td>12</td></tr>\n",
              "\t<tr><td>16</td></tr>\n",
              "\t<tr><td>12</td></tr>\n",
              "\t<tr><td>16</td></tr>\n",
              "\t<tr><td>16</td></tr>\n",
              "\t<tr><td>12</td></tr>\n",
              "\t<tr><td>16</td></tr>\n",
              "\t<tr><td>16</td></tr>\n",
              "\t<tr><td>12</td></tr>\n",
              "\t<tr><td> 6</td></tr>\n",
              "\t<tr><td> 1</td></tr>\n",
              "\t<tr><td>11</td></tr>\n",
              "\t<tr><td> 7</td></tr>\n",
              "\t<tr><td>12</td></tr>\n",
              "\t<tr><td> 4</td></tr>\n",
              "\t<tr><td> 4</td></tr>\n",
              "</tbody>\n",
              "</table>\n"
            ],
            "text/markdown": "\nA data.frame: 76840 × 1\n\n| Anos.de.Estudo &lt;int&gt; |\n|---|\n| 12 |\n| 12 |\n| 15 |\n|  6 |\n|  9 |\n| 12 |\n| 12 |\n| 12 |\n| 14 |\n| 12 |\n| 12 |\n|  6 |\n|  6 |\n| 12 |\n| 12 |\n| 16 |\n| 10 |\n| 16 |\n| 12 |\n| 12 |\n|  1 |\n| 16 |\n|  5 |\n| 12 |\n|  9 |\n|  5 |\n| 16 |\n| 12 |\n| 14 |\n| 12 |\n| ⋮ |\n| 12 |\n| 11 |\n| 12 |\n|  9 |\n| 12 |\n|  1 |\n| 12 |\n| 12 |\n| 10 |\n|  9 |\n| 12 |\n|  8 |\n| 12 |\n| 10 |\n| 12 |\n| 16 |\n| 12 |\n| 16 |\n| 16 |\n| 12 |\n| 16 |\n| 16 |\n| 12 |\n|  6 |\n|  1 |\n| 11 |\n|  7 |\n| 12 |\n|  4 |\n|  4 |\n\n",
            "text/latex": "A data.frame: 76840 × 1\n\\begin{tabular}{l}\n Anos.de.Estudo\\\\\n <int>\\\\\n\\hline\n\t 12\\\\\n\t 12\\\\\n\t 15\\\\\n\t  6\\\\\n\t  9\\\\\n\t 12\\\\\n\t 12\\\\\n\t 12\\\\\n\t 14\\\\\n\t 12\\\\\n\t 12\\\\\n\t  6\\\\\n\t  6\\\\\n\t 12\\\\\n\t 12\\\\\n\t 16\\\\\n\t 10\\\\\n\t 16\\\\\n\t 12\\\\\n\t 12\\\\\n\t  1\\\\\n\t 16\\\\\n\t  5\\\\\n\t 12\\\\\n\t  9\\\\\n\t  5\\\\\n\t 16\\\\\n\t 12\\\\\n\t 14\\\\\n\t 12\\\\\n\t ⋮\\\\\n\t 12\\\\\n\t 11\\\\\n\t 12\\\\\n\t  9\\\\\n\t 12\\\\\n\t  1\\\\\n\t 12\\\\\n\t 12\\\\\n\t 10\\\\\n\t  9\\\\\n\t 12\\\\\n\t  8\\\\\n\t 12\\\\\n\t 10\\\\\n\t 12\\\\\n\t 16\\\\\n\t 12\\\\\n\t 16\\\\\n\t 16\\\\\n\t 12\\\\\n\t 16\\\\\n\t 16\\\\\n\t 12\\\\\n\t  6\\\\\n\t  1\\\\\n\t 11\\\\\n\t  7\\\\\n\t 12\\\\\n\t  4\\\\\n\t  4\\\\\n\\end{tabular}\n",
            "text/plain": [
              "      Anos.de.Estudo\n",
              "1     12            \n",
              "2     12            \n",
              "3     15            \n",
              "4      6            \n",
              "5      9            \n",
              "6     12            \n",
              "7     12            \n",
              "8     12            \n",
              "9     14            \n",
              "10    12            \n",
              "11    12            \n",
              "12     6            \n",
              "13     6            \n",
              "14    12            \n",
              "15    12            \n",
              "16    16            \n",
              "17    10            \n",
              "18    16            \n",
              "19    12            \n",
              "20    12            \n",
              "21     1            \n",
              "22    16            \n",
              "23     5            \n",
              "24    12            \n",
              "25     9            \n",
              "26     5            \n",
              "27    16            \n",
              "28    12            \n",
              "29    14            \n",
              "30    12            \n",
              "⋮     ⋮             \n",
              "76811 12            \n",
              "76812 11            \n",
              "76813 12            \n",
              "76814  9            \n",
              "76815 12            \n",
              "76816  1            \n",
              "76817 12            \n",
              "76818 12            \n",
              "76819 10            \n",
              "76820  9            \n",
              "76821 12            \n",
              "76822  8            \n",
              "76823 12            \n",
              "76824 10            \n",
              "76825 12            \n",
              "76826 16            \n",
              "76827 12            \n",
              "76828 16            \n",
              "76829 16            \n",
              "76830 12            \n",
              "76831 16            \n",
              "76832 16            \n",
              "76833 12            \n",
              "76834  6            \n",
              "76835  1            \n",
              "76836 11            \n",
              "76837  7            \n",
              "76838 12            \n",
              "76839  4            \n",
              "76840  4            "
            ]
          },
          "metadata": {}
        }
      ]
    },
    {
      "cell_type": "code",
      "source": [
        "#valores unicos\n",
        "unique(select(dados, Anos.de.Estudo))"
      ],
      "metadata": {
        "colab": {
          "base_uri": "https://localhost:8080/",
          "height": 631
        },
        "id": "1mq8yIFecNap",
        "outputId": "b256a058-47ab-49e6-a4b1-2624eb085666"
      },
      "execution_count": null,
      "outputs": [
        {
          "output_type": "display_data",
          "data": {
            "text/html": [
              "<table class=\"dataframe\">\n",
              "<caption>A data.frame: 17 × 1</caption>\n",
              "<thead>\n",
              "\t<tr><th></th><th scope=col>Anos.de.Estudo</th></tr>\n",
              "\t<tr><th></th><th scope=col>&lt;int&gt;</th></tr>\n",
              "</thead>\n",
              "<tbody>\n",
              "\t<tr><th scope=row>1</th><td>12</td></tr>\n",
              "\t<tr><th scope=row>3</th><td>15</td></tr>\n",
              "\t<tr><th scope=row>4</th><td> 6</td></tr>\n",
              "\t<tr><th scope=row>5</th><td> 9</td></tr>\n",
              "\t<tr><th scope=row>9</th><td>14</td></tr>\n",
              "\t<tr><th scope=row>16</th><td>16</td></tr>\n",
              "\t<tr><th scope=row>17</th><td>10</td></tr>\n",
              "\t<tr><th scope=row>21</th><td> 1</td></tr>\n",
              "\t<tr><th scope=row>23</th><td> 5</td></tr>\n",
              "\t<tr><th scope=row>37</th><td> 7</td></tr>\n",
              "\t<tr><th scope=row>38</th><td> 3</td></tr>\n",
              "\t<tr><th scope=row>44</th><td> 2</td></tr>\n",
              "\t<tr><th scope=row>50</th><td> 4</td></tr>\n",
              "\t<tr><th scope=row>51</th><td> 8</td></tr>\n",
              "\t<tr><th scope=row>63</th><td>11</td></tr>\n",
              "\t<tr><th scope=row>75</th><td>17</td></tr>\n",
              "\t<tr><th scope=row>161</th><td>13</td></tr>\n",
              "</tbody>\n",
              "</table>\n"
            ],
            "text/markdown": "\nA data.frame: 17 × 1\n\n| <!--/--> | Anos.de.Estudo &lt;int&gt; |\n|---|---|\n| 1 | 12 |\n| 3 | 15 |\n| 4 |  6 |\n| 5 |  9 |\n| 9 | 14 |\n| 16 | 16 |\n| 17 | 10 |\n| 21 |  1 |\n| 23 |  5 |\n| 37 |  7 |\n| 38 |  3 |\n| 44 |  2 |\n| 50 |  4 |\n| 51 |  8 |\n| 63 | 11 |\n| 75 | 17 |\n| 161 | 13 |\n\n",
            "text/latex": "A data.frame: 17 × 1\n\\begin{tabular}{r|l}\n  & Anos.de.Estudo\\\\\n  & <int>\\\\\n\\hline\n\t1 & 12\\\\\n\t3 & 15\\\\\n\t4 &  6\\\\\n\t5 &  9\\\\\n\t9 & 14\\\\\n\t16 & 16\\\\\n\t17 & 10\\\\\n\t21 &  1\\\\\n\t23 &  5\\\\\n\t37 &  7\\\\\n\t38 &  3\\\\\n\t44 &  2\\\\\n\t50 &  4\\\\\n\t51 &  8\\\\\n\t63 & 11\\\\\n\t75 & 17\\\\\n\t161 & 13\\\\\n\\end{tabular}\n",
            "text/plain": [
              "    Anos.de.Estudo\n",
              "1   12            \n",
              "3   15            \n",
              "4    6            \n",
              "5    9            \n",
              "9   14            \n",
              "16  16            \n",
              "17  10            \n",
              "21   1            \n",
              "23   5            \n",
              "37   7            \n",
              "38   3            \n",
              "44   2            \n",
              "50   4            \n",
              "51   8            \n",
              "63  11            \n",
              "75  17            \n",
              "161 13            "
            ]
          },
          "metadata": {}
        }
      ]
    },
    {
      "cell_type": "code",
      "source": [
        "#ordenando\n",
        "arrange(unique(select(dados, Anos.de.Estudo)),Anos.de.Estudo)\n",
        "#arrange(dados,Anos.de.Estudo)"
      ],
      "metadata": {
        "colab": {
          "base_uri": "https://localhost:8080/",
          "height": 649
        },
        "id": "cv1-xnsycPcD",
        "outputId": "58b83a01-97c4-429b-fdc6-1ef43356f6db"
      },
      "execution_count": null,
      "outputs": [
        {
          "output_type": "display_data",
          "data": {
            "text/html": [
              "<table class=\"dataframe\">\n",
              "<caption>A data.frame: 17 × 1</caption>\n",
              "<thead>\n",
              "\t<tr><th scope=col>Anos.de.Estudo</th></tr>\n",
              "\t<tr><th scope=col>&lt;int&gt;</th></tr>\n",
              "</thead>\n",
              "<tbody>\n",
              "\t<tr><td> 1</td></tr>\n",
              "\t<tr><td> 2</td></tr>\n",
              "\t<tr><td> 3</td></tr>\n",
              "\t<tr><td> 4</td></tr>\n",
              "\t<tr><td> 5</td></tr>\n",
              "\t<tr><td> 6</td></tr>\n",
              "\t<tr><td> 7</td></tr>\n",
              "\t<tr><td> 8</td></tr>\n",
              "\t<tr><td> 9</td></tr>\n",
              "\t<tr><td>10</td></tr>\n",
              "\t<tr><td>11</td></tr>\n",
              "\t<tr><td>12</td></tr>\n",
              "\t<tr><td>13</td></tr>\n",
              "\t<tr><td>14</td></tr>\n",
              "\t<tr><td>15</td></tr>\n",
              "\t<tr><td>16</td></tr>\n",
              "\t<tr><td>17</td></tr>\n",
              "</tbody>\n",
              "</table>\n"
            ],
            "text/markdown": "\nA data.frame: 17 × 1\n\n| Anos.de.Estudo &lt;int&gt; |\n|---|\n|  1 |\n|  2 |\n|  3 |\n|  4 |\n|  5 |\n|  6 |\n|  7 |\n|  8 |\n|  9 |\n| 10 |\n| 11 |\n| 12 |\n| 13 |\n| 14 |\n| 15 |\n| 16 |\n| 17 |\n\n",
            "text/latex": "A data.frame: 17 × 1\n\\begin{tabular}{l}\n Anos.de.Estudo\\\\\n <int>\\\\\n\\hline\n\t  1\\\\\n\t  2\\\\\n\t  3\\\\\n\t  4\\\\\n\t  5\\\\\n\t  6\\\\\n\t  7\\\\\n\t  8\\\\\n\t  9\\\\\n\t 10\\\\\n\t 11\\\\\n\t 12\\\\\n\t 13\\\\\n\t 14\\\\\n\t 15\\\\\n\t 16\\\\\n\t 17\\\\\n\\end{tabular}\n",
            "text/plain": [
              "   Anos.de.Estudo\n",
              "1   1            \n",
              "2   2            \n",
              "3   3            \n",
              "4   4            \n",
              "5   5            \n",
              "6   6            \n",
              "7   7            \n",
              "8   8            \n",
              "9   9            \n",
              "10 10            \n",
              "11 11            \n",
              "12 12            \n",
              "13 13            \n",
              "14 14            \n",
              "15 15            \n",
              "16 16            \n",
              "17 17            "
            ]
          },
          "metadata": {}
        }
      ]
    },
    {
      "cell_type": "code",
      "source": [
        "#função C - cria um vetor com os argumentos\n",
        "#c(1,2,3,4)\n",
        "c(arrange(unique(select(dados, Anos.de.Estudo)),Anos.de.Estudo))"
      ],
      "metadata": {
        "colab": {
          "base_uri": "https://localhost:8080/",
          "height": 52
        },
        "id": "wtrQkqVac1AU",
        "outputId": "ebaf8a76-f63d-44e3-f5e6-76079a650ea9"
      },
      "execution_count": null,
      "outputs": [
        {
          "output_type": "display_data",
          "data": {
            "text/html": [
              "<strong>$Anos.de.Estudo</strong> = <style>\n",
              ".list-inline {list-style: none; margin:0; padding: 0}\n",
              ".list-inline>li {display: inline-block}\n",
              ".list-inline>li:not(:last-child)::after {content: \"\\00b7\"; padding: 0 .5ex}\n",
              "</style>\n",
              "<ol class=list-inline><li>1</li><li>2</li><li>3</li><li>4</li><li>5</li><li>6</li><li>7</li><li>8</li><li>9</li><li>10</li><li>11</li><li>12</li><li>13</li><li>14</li><li>15</li><li>16</li><li>17</li></ol>\n"
            ],
            "text/markdown": "**$Anos.de.Estudo** = 1. 1\n2. 2\n3. 3\n4. 4\n5. 5\n6. 6\n7. 7\n8. 8\n9. 9\n10. 10\n11. 11\n12. 12\n13. 13\n14. 14\n15. 15\n16. 16\n17. 17\n\n\n",
            "text/latex": "\\textbf{\\$Anos.de.Estudo} = \\begin{enumerate*}\n\\item 1\n\\item 2\n\\item 3\n\\item 4\n\\item 5\n\\item 6\n\\item 7\n\\item 8\n\\item 9\n\\item 10\n\\item 11\n\\item 12\n\\item 13\n\\item 14\n\\item 15\n\\item 16\n\\item 17\n\\end{enumerate*}\n",
            "text/plain": [
              "$Anos.de.Estudo\n",
              " [1]  1  2  3  4  5  6  7  8  9 10 11 12 13 14 15 16 17\n"
            ]
          },
          "metadata": {}
        }
      ]
    },
    {
      "cell_type": "markdown",
      "source": [
        "### Variáveis qualitativas nominais\n",
        "\n",
        "► Variáveis que não podem ser ordenadas ou hierarquizardas"
      ],
      "metadata": {
        "id": "qRfUYoS_d13N"
      }
    },
    {
      "cell_type": "code",
      "source": [
        "#uf nao da pra ordenar (sem estado melhor que outro...)\n",
        "unique(select(dados, UF))"
      ],
      "metadata": {
        "colab": {
          "base_uri": "https://localhost:8080/",
          "height": 962
        },
        "id": "Cnpv4sQYec-p",
        "outputId": "645b72b1-8f3d-4a27-a8ac-e101b9c25ea2"
      },
      "execution_count": null,
      "outputs": [
        {
          "output_type": "display_data",
          "data": {
            "text/html": [
              "<table class=\"dataframe\">\n",
              "<caption>A data.frame: 27 × 1</caption>\n",
              "<thead>\n",
              "\t<tr><th></th><th scope=col>UF</th></tr>\n",
              "\t<tr><th></th><th scope=col>&lt;int&gt;</th></tr>\n",
              "</thead>\n",
              "<tbody>\n",
              "\t<tr><th scope=row>1</th><td>11</td></tr>\n",
              "\t<tr><th scope=row>1538</th><td>12</td></tr>\n",
              "\t<tr><th scope=row>2475</th><td>13</td></tr>\n",
              "\t<tr><th scope=row>4681</th><td>14</td></tr>\n",
              "\t<tr><th scope=row>5221</th><td>15</td></tr>\n",
              "\t<tr><th scope=row>9670</th><td>16</td></tr>\n",
              "\t<tr><th scope=row>10182</th><td>17</td></tr>\n",
              "\t<tr><th scope=row>11488</th><td>21</td></tr>\n",
              "\t<tr><th scope=row>13275</th><td>22</td></tr>\n",
              "\t<tr><th scope=row>14486</th><td>23</td></tr>\n",
              "\t<tr><th scope=row>17845</th><td>24</td></tr>\n",
              "\t<tr><th scope=row>18818</th><td>25</td></tr>\n",
              "\t<tr><th scope=row>20092</th><td>26</td></tr>\n",
              "\t<tr><th scope=row>23912</th><td>27</td></tr>\n",
              "\t<tr><th scope=row>24815</th><td>28</td></tr>\n",
              "\t<tr><th scope=row>26102</th><td>29</td></tr>\n",
              "\t<tr><th scope=row>31819</th><td>31</td></tr>\n",
              "\t<tr><th scope=row>39505</th><td>32</td></tr>\n",
              "\t<tr><th scope=row>41016</th><td>33</td></tr>\n",
              "\t<tr><th scope=row>46572</th><td>35</td></tr>\n",
              "\t<tr><th scope=row>55116</th><td>41</td></tr>\n",
              "\t<tr><th scope=row>59472</th><td>42</td></tr>\n",
              "\t<tr><th scope=row>61747</th><td>43</td></tr>\n",
              "\t<tr><th scope=row>68069</th><td>50</td></tr>\n",
              "\t<tr><th scope=row>69509</th><td>51</td></tr>\n",
              "\t<tr><th scope=row>71309</th><td>52</td></tr>\n",
              "\t<tr><th scope=row>74787</th><td>53</td></tr>\n",
              "</tbody>\n",
              "</table>\n"
            ],
            "text/markdown": "\nA data.frame: 27 × 1\n\n| <!--/--> | UF &lt;int&gt; |\n|---|---|\n| 1 | 11 |\n| 1538 | 12 |\n| 2475 | 13 |\n| 4681 | 14 |\n| 5221 | 15 |\n| 9670 | 16 |\n| 10182 | 17 |\n| 11488 | 21 |\n| 13275 | 22 |\n| 14486 | 23 |\n| 17845 | 24 |\n| 18818 | 25 |\n| 20092 | 26 |\n| 23912 | 27 |\n| 24815 | 28 |\n| 26102 | 29 |\n| 31819 | 31 |\n| 39505 | 32 |\n| 41016 | 33 |\n| 46572 | 35 |\n| 55116 | 41 |\n| 59472 | 42 |\n| 61747 | 43 |\n| 68069 | 50 |\n| 69509 | 51 |\n| 71309 | 52 |\n| 74787 | 53 |\n\n",
            "text/latex": "A data.frame: 27 × 1\n\\begin{tabular}{r|l}\n  & UF\\\\\n  & <int>\\\\\n\\hline\n\t1 & 11\\\\\n\t1538 & 12\\\\\n\t2475 & 13\\\\\n\t4681 & 14\\\\\n\t5221 & 15\\\\\n\t9670 & 16\\\\\n\t10182 & 17\\\\\n\t11488 & 21\\\\\n\t13275 & 22\\\\\n\t14486 & 23\\\\\n\t17845 & 24\\\\\n\t18818 & 25\\\\\n\t20092 & 26\\\\\n\t23912 & 27\\\\\n\t24815 & 28\\\\\n\t26102 & 29\\\\\n\t31819 & 31\\\\\n\t39505 & 32\\\\\n\t41016 & 33\\\\\n\t46572 & 35\\\\\n\t55116 & 41\\\\\n\t59472 & 42\\\\\n\t61747 & 43\\\\\n\t68069 & 50\\\\\n\t69509 & 51\\\\\n\t71309 & 52\\\\\n\t74787 & 53\\\\\n\\end{tabular}\n",
            "text/plain": [
              "      UF\n",
              "1     11\n",
              "1538  12\n",
              "2475  13\n",
              "4681  14\n",
              "5221  15\n",
              "9670  16\n",
              "10182 17\n",
              "11488 21\n",
              "13275 22\n",
              "14486 23\n",
              "17845 24\n",
              "18818 25\n",
              "20092 26\n",
              "23912 27\n",
              "24815 28\n",
              "26102 29\n",
              "31819 31\n",
              "39505 32\n",
              "41016 33\n",
              "46572 35\n",
              "55116 41\n",
              "59472 42\n",
              "61747 43\n",
              "68069 50\n",
              "69509 51\n",
              "71309 52\n",
              "74787 53"
            ]
          },
          "metadata": {}
        }
      ]
    },
    {
      "cell_type": "code",
      "source": [
        "c(arrange(unique(select(dados,UF)),UF))"
      ],
      "metadata": {
        "colab": {
          "base_uri": "https://localhost:8080/",
          "height": 52
        },
        "id": "fnyb6jrGedpp",
        "outputId": "bafd721e-f0ad-41fc-9d04-4e0304011acb"
      },
      "execution_count": null,
      "outputs": [
        {
          "output_type": "display_data",
          "data": {
            "text/html": [
              "<strong>$UF</strong> = <style>\n",
              ".list-inline {list-style: none; margin:0; padding: 0}\n",
              ".list-inline>li {display: inline-block}\n",
              ".list-inline>li:not(:last-child)::after {content: \"\\00b7\"; padding: 0 .5ex}\n",
              "</style>\n",
              "<ol class=list-inline><li>11</li><li>12</li><li>13</li><li>14</li><li>15</li><li>16</li><li>17</li><li>21</li><li>22</li><li>23</li><li>24</li><li>25</li><li>26</li><li>27</li><li>28</li><li>29</li><li>31</li><li>32</li><li>33</li><li>35</li><li>41</li><li>42</li><li>43</li><li>50</li><li>51</li><li>52</li><li>53</li></ol>\n"
            ],
            "text/markdown": "**$UF** = 1. 11\n2. 12\n3. 13\n4. 14\n5. 15\n6. 16\n7. 17\n8. 21\n9. 22\n10. 23\n11. 24\n12. 25\n13. 26\n14. 27\n15. 28\n16. 29\n17. 31\n18. 32\n19. 33\n20. 35\n21. 41\n22. 42\n23. 43\n24. 50\n25. 51\n26. 52\n27. 53\n\n\n",
            "text/latex": "\\textbf{\\$UF} = \\begin{enumerate*}\n\\item 11\n\\item 12\n\\item 13\n\\item 14\n\\item 15\n\\item 16\n\\item 17\n\\item 21\n\\item 22\n\\item 23\n\\item 24\n\\item 25\n\\item 26\n\\item 27\n\\item 28\n\\item 29\n\\item 31\n\\item 32\n\\item 33\n\\item 35\n\\item 41\n\\item 42\n\\item 43\n\\item 50\n\\item 51\n\\item 52\n\\item 53\n\\end{enumerate*}\n",
            "text/plain": [
              "$UF\n",
              " [1] 11 12 13 14 15 16 17 21 22 23 24 25 26 27 28 29 31 32 33 35 41 42 43 50 51\n",
              "[26] 52 53\n"
            ]
          },
          "metadata": {}
        }
      ]
    },
    {
      "cell_type": "code",
      "source": [
        "c(arrange(unique(select(dados, Sexo)),Sexo))"
      ],
      "metadata": {
        "colab": {
          "base_uri": "https://localhost:8080/",
          "height": 52
        },
        "id": "5MsDeb8feduE",
        "outputId": "0e39ba4e-70d7-4eef-ee26-c2dc5dacb77c"
      },
      "execution_count": null,
      "outputs": [
        {
          "output_type": "display_data",
          "data": {
            "text/html": [
              "<strong>$Sexo</strong> = <style>\n",
              ".list-inline {list-style: none; margin:0; padding: 0}\n",
              ".list-inline>li {display: inline-block}\n",
              ".list-inline>li:not(:last-child)::after {content: \"\\00b7\"; padding: 0 .5ex}\n",
              "</style>\n",
              "<ol class=list-inline><li>0</li><li>1</li></ol>\n"
            ],
            "text/markdown": "**$Sexo** = 1. 0\n2. 1\n\n\n",
            "text/latex": "\\textbf{\\$Sexo} = \\begin{enumerate*}\n\\item 0\n\\item 1\n\\end{enumerate*}\n",
            "text/plain": [
              "$Sexo\n",
              "[1] 0 1\n"
            ]
          },
          "metadata": {}
        }
      ]
    },
    {
      "cell_type": "code",
      "source": [
        "c(arrange(unique(select(dados, Cor)),Cor))"
      ],
      "metadata": {
        "id": "2v-UM8x8ed2r",
        "colab": {
          "base_uri": "https://localhost:8080/",
          "height": 52
        },
        "outputId": "f7c61825-93e6-4b90-adac-60b60f4451e9"
      },
      "execution_count": null,
      "outputs": [
        {
          "output_type": "display_data",
          "data": {
            "text/html": [
              "<strong>$Cor</strong> = <style>\n",
              ".list-inline {list-style: none; margin:0; padding: 0}\n",
              ".list-inline>li {display: inline-block}\n",
              ".list-inline>li:not(:last-child)::after {content: \"\\00b7\"; padding: 0 .5ex}\n",
              "</style>\n",
              "<ol class=list-inline><li>0</li><li>2</li><li>4</li><li>6</li><li>8</li></ol>\n"
            ],
            "text/markdown": "**$Cor** = 1. 0\n2. 2\n3. 4\n4. 6\n5. 8\n\n\n",
            "text/latex": "\\textbf{\\$Cor} = \\begin{enumerate*}\n\\item 0\n\\item 2\n\\item 4\n\\item 6\n\\item 8\n\\end{enumerate*}\n",
            "text/plain": [
              "$Cor\n",
              "[1] 0 2 4 6 8\n"
            ]
          },
          "metadata": {}
        }
      ]
    },
    {
      "cell_type": "markdown",
      "source": [
        "### Variáveis quantitativas discretas\n",
        "\n",
        "► Variáveis que representam uma contagem onde os valores possíveis formam um conjunto finito ou enumerável."
      ],
      "metadata": {
        "id": "NtOiaj4yfulC"
      }
    },
    {
      "cell_type": "code",
      "source": [
        "#a varivel idade em anos completos\n",
        "#sprintf para interpolação\n",
        "sprintf('De %s até %s anos', min(dados$Idade), max(dados$Idade))\n"
      ],
      "metadata": {
        "colab": {
          "base_uri": "https://localhost:8080/",
          "height": 34
        },
        "id": "qo6iTmGPf5bi",
        "outputId": "11511779-1b5e-45a8-9533-94ee276c9710"
      },
      "execution_count": null,
      "outputs": [
        {
          "output_type": "display_data",
          "data": {
            "text/html": [
              "'De 13 até 99 anos'"
            ],
            "text/markdown": "'De 13 até 99 anos'",
            "text/latex": "'De 13 até 99 anos'",
            "text/plain": [
              "[1] \"De 13 até 99 anos\""
            ]
          },
          "metadata": {}
        }
      ]
    },
    {
      "cell_type": "code",
      "source": [
        "#outra forma de interpolação\n",
        "library(glue)"
      ],
      "metadata": {
        "id": "8vJlMgGbgdGn"
      },
      "execution_count": null,
      "outputs": []
    },
    {
      "cell_type": "code",
      "source": [
        "glue('De {min(dados$Idade)} até {max(dados$Idade)} anos')"
      ],
      "metadata": {
        "colab": {
          "base_uri": "https://localhost:8080/",
          "height": 34
        },
        "id": "kxglFhQBgdiA",
        "outputId": "933a4737-101f-4230-9524-2666d7ecf92d"
      },
      "execution_count": null,
      "outputs": [
        {
          "output_type": "display_data",
          "data": {
            "text/html": [
              "'De 13 até 99 anos'"
            ],
            "text/markdown": "'De 13 até 99 anos'",
            "text/latex": "'De 13 até 99 anos'",
            "text/plain": [
              "De 13 até 99 anos"
            ]
          },
          "metadata": {}
        }
      ]
    },
    {
      "cell_type": "markdown",
      "source": [
        "#### <font color='red'>Observação</font>\n",
        "***\n",
        "> A variável idade pode ser classificada de três formas distintas:\n",
        "> 1. <b>QUANTITATIVA DISCRETA</b> - quando representa anos completos (números inteiros);\n",
        "> 2. <b>QUANTITATIVA CONTÍNUA</b> - quando representa a idade exata, sendo representado por frações de anos; e\n",
        "> 3. <b>QUALITATIVA ORDINAL</b> - quando representa faixas de idade."
      ],
      "metadata": {
        "id": "LZybFVljgt1Q"
      }
    },
    {
      "cell_type": "markdown",
      "source": [
        "### Variáveis quantitativas contínuas\n",
        "\n",
        "► Variáveis que representam uma contagem ou mensuração que assumem valores em uma escala contínua (números reais)."
      ],
      "metadata": {
        "id": "VEWZ_ABchK9I"
      }
    },
    {
      "cell_type": "code",
      "source": [
        "glue('De {min(dados$Altura)} até {max(dados$Altura)} metros')"
      ],
      "metadata": {
        "colab": {
          "base_uri": "https://localhost:8080/",
          "height": 34
        },
        "id": "fJfeRAekhXV7",
        "outputId": "f14bcc66-1bba-4b0c-edbc-fbca12e8ee6a"
      },
      "execution_count": null,
      "outputs": [
        {
          "output_type": "display_data",
          "data": {
            "text/html": [
              "'De 1.339244614 até 2.028496765 metros'"
            ],
            "text/markdown": "'De 1.339244614 até 2.028496765 metros'",
            "text/latex": "'De 1.339244614 até 2.028496765 metros'",
            "text/plain": [
              "De 1.339244614 até 2.028496765 metros"
            ]
          },
          "metadata": {}
        }
      ]
    },
    {
      "cell_type": "markdown",
      "source": [
        "### Classificação de uma variável\n",
        "<img src='https://caelum-online-public.s3.amazonaws.com/1177-estatistica-parte1/01/img001.png' width='70%'>\n",
        "\n"
      ],
      "metadata": {
        "id": "g1NPSsYnSv3c"
      }
    },
    {
      "cell_type": "markdown",
      "source": [
        "# <font color=green>2 DISTRIBUIÇÃO DE FREQUÊNCIAS</font>\n",
        "***\n",
        "\n",
        "O primeiro passo em um trabalho de análise é o conhecimento do comportamento das variáveis envolvidas no estudo. Utilizando técnicas estatísticas como as análises das <b>DISTRIBUIÇÕES DE FREQUÊNCIAS</b> e <b>HISTOGRAMAS</b> podemos avaliar melhor a forma como os fenômenos em estudo se distribuem.\n"
      ],
      "metadata": {
        "id": "sfNvWw8gnAC2"
      }
    },
    {
      "cell_type": "markdown",
      "source": [
        "## <font color=green>2.1 Distribuição de frequências para variáveis qualitativas</font>\n",
        "***"
      ],
      "metadata": {
        "id": "TedvZ4lRnfbW"
      }
    },
    {
      "cell_type": "markdown",
      "source": [
        "### Método 1"
      ],
      "metadata": {
        "id": "fKXvhxgFVsID"
      }
    },
    {
      "cell_type": "markdown",
      "source": [
        "### <font color=red>Documentações:\n",
        "\n",
        "- [**table**](https://www.rdocumentation.org/packages/base/versions/3.6.1/topics/table)\n",
        "- [**prop.table**](https://www.rdocumentation.org/packages/base/versions/3.6.1/topics/prop.table)\n",
        "- [**cbind**](https://www.rdocumentation.org/packages/base/versions/3.6.1/topics/cbind)\n",
        "- [**row+colnames**](https://www.rdocumentation.org/packages/base/versions/3.6.1/topics/row%2Bcolnames)"
      ],
      "metadata": {
        "id": "mIsXT0RGVvFI"
      }
    },
    {
      "cell_type": "code",
      "source": [
        "#contagem de sexo, 0 = homens e 1 = mulheres\n",
        "table(dados$Sexo)"
      ],
      "metadata": {
        "colab": {
          "base_uri": "https://localhost:8080/",
          "height": 106
        },
        "id": "zH3unjrbntiC",
        "outputId": "d5727ee8-0aea-4e99-f28f-01f2d6a2d90f"
      },
      "execution_count": 1,
      "outputs": [
        {
          "output_type": "error",
          "ename": "ERROR",
          "evalue": "Error in eval(expr, envir, enclos): object 'dados' not found\n",
          "traceback": [
            "Error in eval(expr, envir, enclos): object 'dados' not found\nTraceback:\n",
            "1. table(dados$Sexo)"
          ]
        }
      ]
    },
    {
      "cell_type": "code",
      "source": [
        "#mostrando em porcentagem\n",
        "#prop.table para vir percentual\n",
        "#cbind = transforma em coluna, junta as colunas e faz uma matriz\n",
        "dist_freq_qualitativas = cbind(freq = table(dados$Sexo), percent = prop.table(table(dados$Sexo)) * 100)\n",
        "dist_freq_qualitativas"
      ],
      "metadata": {
        "colab": {
          "base_uri": "https://localhost:8080/",
          "height": 147
        },
        "id": "Ur49K0Z4oEgu",
        "outputId": "ce81e55a-e907-44cb-abb2-c8d8163ab128"
      },
      "execution_count": null,
      "outputs": [
        {
          "output_type": "display_data",
          "data": {
            "text/html": [
              "<table class=\"dataframe\">\n",
              "<caption>A matrix: 2 × 2 of type dbl</caption>\n",
              "<thead>\n",
              "\t<tr><th></th><th scope=col>freq</th><th scope=col>percent</th></tr>\n",
              "</thead>\n",
              "<tbody>\n",
              "\t<tr><th scope=row>0</th><td>53250</td><td>69.29984</td></tr>\n",
              "\t<tr><th scope=row>1</th><td>23590</td><td>30.70016</td></tr>\n",
              "</tbody>\n",
              "</table>\n"
            ],
            "text/markdown": "\nA matrix: 2 × 2 of type dbl\n\n| <!--/--> | freq | percent |\n|---|---|---|\n| 0 | 53250 | 69.29984 |\n| 1 | 23590 | 30.70016 |\n\n",
            "text/latex": "A matrix: 2 × 2 of type dbl\n\\begin{tabular}{r|ll}\n  & freq & percent\\\\\n\\hline\n\t0 & 53250 & 69.29984\\\\\n\t1 & 23590 & 30.70016\\\\\n\\end{tabular}\n",
            "text/plain": [
              "  freq  percent \n",
              "0 53250 69.29984\n",
              "1 23590 30.70016"
            ]
          },
          "metadata": {}
        }
      ]
    },
    {
      "cell_type": "code",
      "source": [
        "#colnames = nome das colunas, usa a tabela como parametro e precisa colocar na ordem exata\n",
        "#nome das colunas, c = cria um vetor\n",
        "colnames(dist_freq_qualitativas) = c('Frequecia','Porcentagem (%)')\n",
        "dist_freq_qualitativas\n",
        "\n"
      ],
      "metadata": {
        "colab": {
          "base_uri": "https://localhost:8080/",
          "height": 129
        },
        "id": "5Mk3eNyUoE1a",
        "outputId": "4740056c-fe2e-4fe9-fe0c-16c3f078676a"
      },
      "execution_count": null,
      "outputs": [
        {
          "output_type": "display_data",
          "data": {
            "text/html": [
              "<table class=\"dataframe\">\n",
              "<caption>A matrix: 2 × 2 of type dbl</caption>\n",
              "<thead>\n",
              "\t<tr><th></th><th scope=col>Frequecia</th><th scope=col>Porcentagem (%)</th></tr>\n",
              "</thead>\n",
              "<tbody>\n",
              "\t<tr><th scope=row>0</th><td>53250</td><td>69.29984</td></tr>\n",
              "\t<tr><th scope=row>1</th><td>23590</td><td>30.70016</td></tr>\n",
              "</tbody>\n",
              "</table>\n"
            ],
            "text/markdown": "\nA matrix: 2 × 2 of type dbl\n\n| <!--/--> | Frequecia | Porcentagem (%) |\n|---|---|---|\n| 0 | 53250 | 69.29984 |\n| 1 | 23590 | 30.70016 |\n\n",
            "text/latex": "A matrix: 2 × 2 of type dbl\n\\begin{tabular}{r|ll}\n  & Frequecia & Porcentagem (\\%)\\\\\n\\hline\n\t0 & 53250 & 69.29984\\\\\n\t1 & 23590 & 30.70016\\\\\n\\end{tabular}\n",
            "text/plain": [
              "  Frequecia Porcentagem (%)\n",
              "0 53250     69.29984       \n",
              "1 23590     30.70016       "
            ]
          },
          "metadata": {}
        }
      ]
    },
    {
      "cell_type": "code",
      "source": [
        "#rownames = nome das linhas, usa a tabela como parametro e precisa colocar na ordem exata\n",
        "rownames(dist_freq_qualitativas) = c('Masculino','Feminino')\n",
        "dist_freq_qualitativas\n"
      ],
      "metadata": {
        "colab": {
          "base_uri": "https://localhost:8080/",
          "height": 129
        },
        "id": "_SLJWHzuoE4l",
        "outputId": "4712dbbd-c72b-4ee9-cb80-2dc05a3d10e4"
      },
      "execution_count": null,
      "outputs": [
        {
          "output_type": "display_data",
          "data": {
            "text/html": [
              "<table class=\"dataframe\">\n",
              "<caption>A matrix: 2 × 2 of type dbl</caption>\n",
              "<thead>\n",
              "\t<tr><th></th><th scope=col>Frequecia</th><th scope=col>Porcentagem (%)</th></tr>\n",
              "</thead>\n",
              "<tbody>\n",
              "\t<tr><th scope=row>Masculino</th><td>53250</td><td>69.29984</td></tr>\n",
              "\t<tr><th scope=row>Feminino</th><td>23590</td><td>30.70016</td></tr>\n",
              "</tbody>\n",
              "</table>\n"
            ],
            "text/markdown": "\nA matrix: 2 × 2 of type dbl\n\n| <!--/--> | Frequecia | Porcentagem (%) |\n|---|---|---|\n| Masculino | 53250 | 69.29984 |\n| Feminino | 23590 | 30.70016 |\n\n",
            "text/latex": "A matrix: 2 × 2 of type dbl\n\\begin{tabular}{r|ll}\n  & Frequecia & Porcentagem (\\%)\\\\\n\\hline\n\tMasculino & 53250 & 69.29984\\\\\n\tFeminino & 23590 & 30.70016\\\\\n\\end{tabular}\n",
            "text/plain": [
              "          Frequecia Porcentagem (%)\n",
              "Masculino 53250     69.29984       \n",
              "Feminino  23590     30.70016       "
            ]
          },
          "metadata": {}
        }
      ]
    },
    {
      "cell_type": "markdown",
      "source": [
        "### Método 2"
      ],
      "metadata": {
        "id": "zEOv_bJYqKOc"
      }
    },
    {
      "cell_type": "markdown",
      "source": [
        "### <font color=red>Documentações:\n",
        "\n",
        "- [**tapply**](https://www.rdocumentation.org/packages/base/versions/3.6.1/topics/tapply)"
      ],
      "metadata": {
        "id": "A-v8pSX4V3X7"
      }
    },
    {
      "cell_type": "code",
      "source": [
        "frequencia = table(dados$Sexo, dados$Cor)\n",
        "frequencia"
      ],
      "metadata": {
        "colab": {
          "base_uri": "https://localhost:8080/",
          "height": 86
        },
        "id": "lkL9mZ6_rEl3",
        "outputId": "5876480e-c8b2-45fe-cfa9-b9ad362cacd7"
      },
      "execution_count": null,
      "outputs": [
        {
          "output_type": "display_data",
          "data": {
            "text/plain": [
              "   \n",
              "        0     2     4     6     8\n",
              "  0   256 22194  5502   235 25063\n",
              "  1   101  9621  2889   117 10862"
            ]
          },
          "metadata": {}
        }
      ]
    },
    {
      "cell_type": "code",
      "source": [
        "rownames(frequencia) = c('Masculino', 'Feminino')\n",
        "colnames(frequencia) = c('Indigena', 'Branca', 'Preta', 'Amarela', 'Parda')\n",
        "frequencia = cbind(frequencia)\n",
        "frequencia"
      ],
      "metadata": {
        "colab": {
          "base_uri": "https://localhost:8080/",
          "height": 129
        },
        "id": "_qPyzEqWrRU9",
        "outputId": "cd2ec4e8-b0cd-44df-c938-15c677d14adf"
      },
      "execution_count": null,
      "outputs": [
        {
          "output_type": "display_data",
          "data": {
            "text/html": [
              "<table class=\"dataframe\">\n",
              "<caption>A matrix: 2 × 5 of type int</caption>\n",
              "<thead>\n",
              "\t<tr><th></th><th scope=col>Indigena</th><th scope=col>Branca</th><th scope=col>Preta</th><th scope=col>Amarela</th><th scope=col>Parda</th></tr>\n",
              "</thead>\n",
              "<tbody>\n",
              "\t<tr><th scope=row>Masculino</th><td>256</td><td>22194</td><td>5502</td><td>235</td><td>25063</td></tr>\n",
              "\t<tr><th scope=row>Feminino</th><td>101</td><td> 9621</td><td>2889</td><td>117</td><td>10862</td></tr>\n",
              "</tbody>\n",
              "</table>\n"
            ],
            "text/markdown": "\nA matrix: 2 × 5 of type int\n\n| <!--/--> | Indigena | Branca | Preta | Amarela | Parda |\n|---|---|---|---|---|---|\n| Masculino | 256 | 22194 | 5502 | 235 | 25063 |\n| Feminino | 101 |  9621 | 2889 | 117 | 10862 |\n\n",
            "text/latex": "A matrix: 2 × 5 of type int\n\\begin{tabular}{r|lllll}\n  & Indigena & Branca & Preta & Amarela & Parda\\\\\n\\hline\n\tMasculino & 256 & 22194 & 5502 & 235 & 25063\\\\\n\tFeminino & 101 &  9621 & 2889 & 117 & 10862\\\\\n\\end{tabular}\n",
            "text/plain": [
              "          Indigena Branca Preta Amarela Parda\n",
              "Masculino 256      22194  5502  235     25063\n",
              "Feminino  101       9621  2889  117     10862"
            ]
          },
          "metadata": {}
        }
      ]
    },
    {
      "cell_type": "code",
      "source": [
        "percentual = prop.table(frequencia) * 100\n",
        "percentual"
      ],
      "metadata": {
        "colab": {
          "base_uri": "https://localhost:8080/",
          "height": 129
        },
        "id": "PZ2rJVo_roLh",
        "outputId": "130f6e35-c1cd-4b59-ca4d-ee880d4112ad"
      },
      "execution_count": null,
      "outputs": [
        {
          "output_type": "display_data",
          "data": {
            "text/html": [
              "<table class=\"dataframe\">\n",
              "<caption>A matrix: 2 × 5 of type dbl</caption>\n",
              "<thead>\n",
              "\t<tr><th></th><th scope=col>Indigena</th><th scope=col>Branca</th><th scope=col>Preta</th><th scope=col>Amarela</th><th scope=col>Parda</th></tr>\n",
              "</thead>\n",
              "<tbody>\n",
              "\t<tr><th scope=row>Masculino</th><td>0.3331598</td><td>28.88339</td><td>7.160333</td><td>0.3058303</td><td>32.61713</td></tr>\n",
              "\t<tr><th scope=row>Feminino</th><td>0.1314420</td><td>12.52082</td><td>3.759761</td><td>0.1522644</td><td>14.13587</td></tr>\n",
              "</tbody>\n",
              "</table>\n"
            ],
            "text/markdown": "\nA matrix: 2 × 5 of type dbl\n\n| <!--/--> | Indigena | Branca | Preta | Amarela | Parda |\n|---|---|---|---|---|---|\n| Masculino | 0.3331598 | 28.88339 | 7.160333 | 0.3058303 | 32.61713 |\n| Feminino | 0.1314420 | 12.52082 | 3.759761 | 0.1522644 | 14.13587 |\n\n",
            "text/latex": "A matrix: 2 × 5 of type dbl\n\\begin{tabular}{r|lllll}\n  & Indigena & Branca & Preta & Amarela & Parda\\\\\n\\hline\n\tMasculino & 0.3331598 & 28.88339 & 7.160333 & 0.3058303 & 32.61713\\\\\n\tFeminino & 0.1314420 & 12.52082 & 3.759761 & 0.1522644 & 14.13587\\\\\n\\end{tabular}\n",
            "text/plain": [
              "          Indigena  Branca   Preta    Amarela   Parda   \n",
              "Masculino 0.3331598 28.88339 7.160333 0.3058303 32.61713\n",
              "Feminino  0.1314420 12.52082 3.759761 0.1522644 14.13587"
            ]
          },
          "metadata": {}
        }
      ]
    },
    {
      "cell_type": "code",
      "source": [
        "list(c(1,2,3,4),c(5,6,7))"
      ],
      "metadata": {
        "colab": {
          "base_uri": "https://localhost:8080/",
          "height": 80
        },
        "id": "XmYOJYfIroT0",
        "outputId": "501c2349-ce63-44bf-9744-7c6752738d9a"
      },
      "execution_count": null,
      "outputs": [
        {
          "output_type": "display_data",
          "data": {
            "text/html": [
              "<ol>\n",
              "\t<li><style>\n",
              ".list-inline {list-style: none; margin:0; padding: 0}\n",
              ".list-inline>li {display: inline-block}\n",
              ".list-inline>li:not(:last-child)::after {content: \"\\00b7\"; padding: 0 .5ex}\n",
              "</style>\n",
              "<ol class=list-inline><li>1</li><li>2</li><li>3</li><li>4</li></ol>\n",
              "</li>\n",
              "\t<li><style>\n",
              ".list-inline {list-style: none; margin:0; padding: 0}\n",
              ".list-inline>li {display: inline-block}\n",
              ".list-inline>li:not(:last-child)::after {content: \"\\00b7\"; padding: 0 .5ex}\n",
              "</style>\n",
              "<ol class=list-inline><li>5</li><li>6</li><li>7</li></ol>\n",
              "</li>\n",
              "</ol>\n"
            ],
            "text/markdown": "1. 1. 1\n2. 2\n3. 3\n4. 4\n\n\n\n2. 1. 5\n2. 6\n3. 7\n\n\n\n\n\n",
            "text/latex": "\\begin{enumerate}\n\\item \\begin{enumerate*}\n\\item 1\n\\item 2\n\\item 3\n\\item 4\n\\end{enumerate*}\n\n\\item \\begin{enumerate*}\n\\item 5\n\\item 6\n\\item 7\n\\end{enumerate*}\n\n\\end{enumerate}\n",
            "text/plain": [
              "[[1]]\n",
              "[1] 1 2 3 4\n",
              "\n",
              "[[2]]\n",
              "[1] 5 6 7\n"
            ]
          },
          "metadata": {}
        }
      ]
    },
    {
      "cell_type": "code",
      "source": [
        "#calcular a renda media da tabela acima, qual a renda media de um homem pardo por ex\n",
        "medias = tapply(dados$Renda, list(dados$Sexo, dados$Cor), mean)\n",
        "rownames(medias) = c('Masculino', 'Feminino')\n",
        "colnames(medias) = c('Indigena', 'Branca', 'Preta', 'Amarela', 'Parda')\n",
        "medias"
      ],
      "metadata": {
        "colab": {
          "base_uri": "https://localhost:8080/",
          "height": 129
        },
        "id": "9YLGUKP_robs",
        "outputId": "327815bc-619c-411f-cc3a-bc2c84d64428"
      },
      "execution_count": null,
      "outputs": [
        {
          "output_type": "display_data",
          "data": {
            "text/html": [
              "<table class=\"dataframe\">\n",
              "<caption>A matrix: 2 × 5 of type dbl</caption>\n",
              "<thead>\n",
              "\t<tr><th></th><th scope=col>Indigena</th><th scope=col>Branca</th><th scope=col>Preta</th><th scope=col>Amarela</th><th scope=col>Parda</th></tr>\n",
              "</thead>\n",
              "<tbody>\n",
              "\t<tr><th scope=row>Masculino</th><td>1081.711</td><td>2925.744</td><td>1603.862</td><td>4758.251</td><td>1659.577</td></tr>\n",
              "\t<tr><th scope=row>Feminino</th><td>2464.386</td><td>2109.867</td><td>1134.596</td><td>3027.342</td><td>1176.759</td></tr>\n",
              "</tbody>\n",
              "</table>\n"
            ],
            "text/markdown": "\nA matrix: 2 × 5 of type dbl\n\n| <!--/--> | Indigena | Branca | Preta | Amarela | Parda |\n|---|---|---|---|---|---|\n| Masculino | 1081.711 | 2925.744 | 1603.862 | 4758.251 | 1659.577 |\n| Feminino | 2464.386 | 2109.867 | 1134.596 | 3027.342 | 1176.759 |\n\n",
            "text/latex": "A matrix: 2 × 5 of type dbl\n\\begin{tabular}{r|lllll}\n  & Indigena & Branca & Preta & Amarela & Parda\\\\\n\\hline\n\tMasculino & 1081.711 & 2925.744 & 1603.862 & 4758.251 & 1659.577\\\\\n\tFeminino & 2464.386 & 2109.867 & 1134.596 & 3027.342 & 1176.759\\\\\n\\end{tabular}\n",
            "text/plain": [
              "          Indigena Branca   Preta    Amarela  Parda   \n",
              "Masculino 1081.711 2925.744 1603.862 4758.251 1659.577\n",
              "Feminino  2464.386 2109.867 1134.596 3027.342 1176.759"
            ]
          },
          "metadata": {}
        }
      ]
    },
    {
      "cell_type": "markdown",
      "source": [
        "## <font color=green>2.2 Distribuição de frequências para variáveis quantitativas (classes personalizadas)</font>\n",
        "***"
      ],
      "metadata": {
        "id": "waQpXratufda"
      }
    },
    {
      "cell_type": "markdown",
      "source": [
        "### <font color=red>Documentações:\n",
        "\n",
        "- [**cut**](https://www.rdocumentation.org/packages/base/versions/3.6.1/topics/cut)\n",
        "- [**order**](https://www.rdocumentation.org/packages/base/versions/3.6.1/topics/order)\n",
        "- [**row.names**](https://www.rdocumentation.org/packages/base/versions/3.6.1/topics/row.names)"
      ],
      "metadata": {
        "id": "aTSrN85bV9rG"
      }
    },
    {
      "cell_type": "markdown",
      "source": [
        "### Passo 1 - Especificar os limites de cada classe\n",
        "\n",
        "Utilizar a seguinte classificação:\n",
        "\n",
        "<b>A</b> ► Acima de 20 SM\n",
        "\n",
        "<b>B</b> ► De 10 a 20 SM\n",
        "\n",
        "<b>C</b> ► De 4 a 10 SM\n",
        "\n",
        "<b>D</b> ► De 2 a 4 SM\n",
        "\n",
        "<b>E</b> ► Até 2 SM\n",
        "\n",
        "onde <b>SM</b> é o valor do salário mínimo na época. Em nosso caso <b>R$ 788,00</b> (2015):\n",
        "\n",
        "<b>A</b> ► Acima de 15.760\n",
        "\n",
        "<b>B</b> ► De 7.880 a 15.760\n",
        "\n",
        "<b>C</b> ► De 3.152 a 7.880\n",
        "\n",
        "<b>D</b> ► De 1.576 a 3.152\n",
        "\n",
        "<b>E</b> ► Até 1.576\n"
      ],
      "metadata": {
        "id": "dWLrkEQEvEVn"
      }
    },
    {
      "cell_type": "code",
      "source": [
        "min(dados$Renda)"
      ],
      "metadata": {
        "colab": {
          "base_uri": "https://localhost:8080/",
          "height": 34
        },
        "id": "ZOSF7RfTumNT",
        "outputId": "4a0b34e6-158b-4062-cc9d-dc1aa21f0223"
      },
      "execution_count": null,
      "outputs": [
        {
          "output_type": "display_data",
          "data": {
            "text/html": [
              "0"
            ],
            "text/markdown": "0",
            "text/latex": "0",
            "text/plain": [
              "[1] 0"
            ]
          },
          "metadata": {}
        }
      ]
    },
    {
      "cell_type": "code",
      "source": [
        "max(dados$Renda)"
      ],
      "metadata": {
        "colab": {
          "base_uri": "https://localhost:8080/",
          "height": 34
        },
        "id": "dmHGoXmCum99",
        "outputId": "e4b5efa3-4f9c-4e0c-8dd5-f7c09345eeaa"
      },
      "execution_count": null,
      "outputs": [
        {
          "output_type": "display_data",
          "data": {
            "text/html": [
              "200000"
            ],
            "text/markdown": "200000",
            "text/latex": "200000",
            "text/plain": [
              "[1] 200000"
            ]
          },
          "metadata": {}
        }
      ]
    },
    {
      "cell_type": "code",
      "source": [
        "classes = c(0,1576,3152,7880,15760,max(dados$Renda))"
      ],
      "metadata": {
        "id": "sZFJ80jCunZf"
      },
      "execution_count": null,
      "outputs": []
    },
    {
      "cell_type": "code",
      "source": [
        "labels = c('E','D','C','B','A')"
      ],
      "metadata": {
        "id": "mmR6bqeGvr7E"
      },
      "execution_count": null,
      "outputs": []
    },
    {
      "cell_type": "markdown",
      "source": [
        "### Passo 2 - Criar a tabela de frequências"
      ],
      "metadata": {
        "id": "FPyN8IF9v0vK"
      }
    },
    {
      "cell_type": "code",
      "source": [
        "#cut, passa a classe, ele vai dentro e verifica qual variavel pertence a qual classe\n",
        "#x = é a variavel que trabalhamos, breaks = as classes, limites, aonde fazemos as quebras\n",
        "#include = para contar as variaveis com 0\n",
        "frequencia = table(\n",
        "    cut(\n",
        "        x = dados$Renda,\n",
        "        breaks = classes,\n",
        "        labels = labels,\n",
        "        include.lowest = TRUE\n",
        "    )\n",
        ")\n",
        "frequencia"
      ],
      "metadata": {
        "colab": {
          "base_uri": "https://localhost:8080/",
          "height": 69
        },
        "id": "m-gWiZdyvtF4",
        "outputId": "31c87ebe-2bc2-499a-bd1c-62344f8a6bb5"
      },
      "execution_count": null,
      "outputs": [
        {
          "output_type": "display_data",
          "data": {
            "text/plain": [
              "\n",
              "    E     D     C     B     A \n",
              "49755 16700  7599  2178   608 "
            ]
          },
          "metadata": {}
        }
      ]
    },
    {
      "cell_type": "code",
      "source": [
        "percentual = prop.table(frequencia) * 100\n",
        "percentual"
      ],
      "metadata": {
        "colab": {
          "base_uri": "https://localhost:8080/",
          "height": 69
        },
        "id": "KNHnt23QvtQY",
        "outputId": "10ea90a8-34c9-4876-9263-c4c5ea01f4df"
      },
      "execution_count": null,
      "outputs": [
        {
          "output_type": "display_data",
          "data": {
            "text/plain": [
              "\n",
              "         E          D          C          B          A \n",
              "64.7514315 21.7334721  9.8893805  2.8344612  0.7912546 "
            ]
          },
          "metadata": {}
        }
      ]
    },
    {
      "cell_type": "code",
      "source": [
        "dist_freq_quantitativas_personalizadas = cbind('Frequência' = frequencia, 'Porcentagem (%)' = percentual)\n",
        "dist_freq_quantitativas_personalizadas"
      ],
      "metadata": {
        "colab": {
          "base_uri": "https://localhost:8080/",
          "height": 224
        },
        "id": "vnFfp8b9xHyP",
        "outputId": "58ab2f82-9cf6-458f-82db-3d81524ec749"
      },
      "execution_count": null,
      "outputs": [
        {
          "output_type": "display_data",
          "data": {
            "text/html": [
              "<table class=\"dataframe\">\n",
              "<caption>A matrix: 5 × 2 of type dbl</caption>\n",
              "<thead>\n",
              "\t<tr><th></th><th scope=col>Frequência</th><th scope=col>Porcentagem (%)</th></tr>\n",
              "</thead>\n",
              "<tbody>\n",
              "\t<tr><th scope=row>E</th><td>49755</td><td>64.7514315</td></tr>\n",
              "\t<tr><th scope=row>D</th><td>16700</td><td>21.7334721</td></tr>\n",
              "\t<tr><th scope=row>C</th><td> 7599</td><td> 9.8893805</td></tr>\n",
              "\t<tr><th scope=row>B</th><td> 2178</td><td> 2.8344612</td></tr>\n",
              "\t<tr><th scope=row>A</th><td>  608</td><td> 0.7912546</td></tr>\n",
              "</tbody>\n",
              "</table>\n"
            ],
            "text/markdown": "\nA matrix: 5 × 2 of type dbl\n\n| <!--/--> | Frequência | Porcentagem (%) |\n|---|---|---|\n| E | 49755 | 64.7514315 |\n| D | 16700 | 21.7334721 |\n| C |  7599 |  9.8893805 |\n| B |  2178 |  2.8344612 |\n| A |   608 |  0.7912546 |\n\n",
            "text/latex": "A matrix: 5 × 2 of type dbl\n\\begin{tabular}{r|ll}\n  & Frequência & Porcentagem (\\%)\\\\\n\\hline\n\tE & 49755 & 64.7514315\\\\\n\tD & 16700 & 21.7334721\\\\\n\tC &  7599 &  9.8893805\\\\\n\tB &  2178 &  2.8344612\\\\\n\tA &   608 &  0.7912546\\\\\n\\end{tabular}\n",
            "text/plain": [
              "  Frequência Porcentagem (%)\n",
              "E 49755      64.7514315     \n",
              "D 16700      21.7334721     \n",
              "C  7599       9.8893805     \n",
              "B  2178       2.8344612     \n",
              "A   608       0.7912546     "
            ]
          },
          "metadata": {}
        }
      ]
    },
    {
      "cell_type": "code",
      "source": [
        "#ordenação do A para o E\n",
        "dist_freq_quantitativas_personalizadas[\n",
        "  order(row.names(dist_freq_quantitativas_personalizadas)),\n",
        "]"
      ],
      "metadata": {
        "colab": {
          "base_uri": "https://localhost:8080/",
          "height": 224
        },
        "id": "3e3hNnkixIB3",
        "outputId": "3f01cd71-ecd0-4193-8fb1-2aa7e3caf7ac"
      },
      "execution_count": null,
      "outputs": [
        {
          "output_type": "display_data",
          "data": {
            "text/html": [
              "<table class=\"dataframe\">\n",
              "<caption>A matrix: 5 × 2 of type dbl</caption>\n",
              "<thead>\n",
              "\t<tr><th></th><th scope=col>Frequência</th><th scope=col>Porcentagem (%)</th></tr>\n",
              "</thead>\n",
              "<tbody>\n",
              "\t<tr><th scope=row>A</th><td>  608</td><td> 0.7912546</td></tr>\n",
              "\t<tr><th scope=row>B</th><td> 2178</td><td> 2.8344612</td></tr>\n",
              "\t<tr><th scope=row>C</th><td> 7599</td><td> 9.8893805</td></tr>\n",
              "\t<tr><th scope=row>D</th><td>16700</td><td>21.7334721</td></tr>\n",
              "\t<tr><th scope=row>E</th><td>49755</td><td>64.7514315</td></tr>\n",
              "</tbody>\n",
              "</table>\n"
            ],
            "text/markdown": "\nA matrix: 5 × 2 of type dbl\n\n| <!--/--> | Frequência | Porcentagem (%) |\n|---|---|---|\n| A |   608 |  0.7912546 |\n| B |  2178 |  2.8344612 |\n| C |  7599 |  9.8893805 |\n| D | 16700 | 21.7334721 |\n| E | 49755 | 64.7514315 |\n\n",
            "text/latex": "A matrix: 5 × 2 of type dbl\n\\begin{tabular}{r|ll}\n  & Frequência & Porcentagem (\\%)\\\\\n\\hline\n\tA &   608 &  0.7912546\\\\\n\tB &  2178 &  2.8344612\\\\\n\tC &  7599 &  9.8893805\\\\\n\tD & 16700 & 21.7334721\\\\\n\tE & 49755 & 64.7514315\\\\\n\\end{tabular}\n",
            "text/plain": [
              "  Frequência Porcentagem (%)\n",
              "A   608       0.7912546     \n",
              "B  2178       2.8344612     \n",
              "C  7599       9.8893805     \n",
              "D 16700      21.7334721     \n",
              "E 49755      64.7514315     "
            ]
          },
          "metadata": {}
        }
      ]
    },
    {
      "cell_type": "code",
      "source": [
        "#com a variavel altura\n",
        "classes <- c(min(dados$Altura), 1.65, 1.75, max(dados$Altura))\n",
        "\n",
        "labels <- c('1 - Baixa', '2 - Média', '3 - Alta')\n",
        "\n",
        "frequencia <- table(\n",
        "    cut(\n",
        "        x = dados$Altura,\n",
        "        breaks = classes,\n",
        "        labels = labels,\n",
        "        include.lowest = TRUE\n",
        "    )\n",
        ")\n",
        "\n",
        "percentual <- prop.table(frequencia) * 100\n",
        "\n",
        "dist_freq_altura <- cbind('Frequência' = frequencia, 'Porcentagem (%)' = percentual)\n",
        "\n",
        "dist_freq_altura[\n",
        "    order(row.names(dist_freq_altura)),\n",
        "]"
      ],
      "metadata": {
        "colab": {
          "base_uri": "https://localhost:8080/",
          "height": 161
        },
        "id": "M0GEhwr-xIE3",
        "outputId": "ffb199b6-784d-4e76-a6bd-460903a60ca6"
      },
      "execution_count": null,
      "outputs": [
        {
          "output_type": "display_data",
          "data": {
            "text/html": [
              "<table class=\"dataframe\">\n",
              "<caption>A matrix: 3 × 2 of type dbl</caption>\n",
              "<thead>\n",
              "\t<tr><th></th><th scope=col>Frequência</th><th scope=col>Porcentagem (%)</th></tr>\n",
              "</thead>\n",
              "<tbody>\n",
              "\t<tr><th scope=row>1 - Baixa</th><td>20529</td><td>26.71655</td></tr>\n",
              "\t<tr><th scope=row>2 - Média</th><td>36162</td><td>47.06143</td></tr>\n",
              "\t<tr><th scope=row>3 - Alta</th><td>20149</td><td>26.22202</td></tr>\n",
              "</tbody>\n",
              "</table>\n"
            ],
            "text/markdown": "\nA matrix: 3 × 2 of type dbl\n\n| <!--/--> | Frequência | Porcentagem (%) |\n|---|---|---|\n| 1 - Baixa | 20529 | 26.71655 |\n| 2 - Média | 36162 | 47.06143 |\n| 3 - Alta | 20149 | 26.22202 |\n\n",
            "text/latex": "A matrix: 3 × 2 of type dbl\n\\begin{tabular}{r|ll}\n  & Frequência & Porcentagem (\\%)\\\\\n\\hline\n\t1 - Baixa & 20529 & 26.71655\\\\\n\t2 - Média & 36162 & 47.06143\\\\\n\t3 - Alta & 20149 & 26.22202\\\\\n\\end{tabular}\n",
            "text/plain": [
              "          Frequência Porcentagem (%)\n",
              "1 - Baixa 20529      26.71655       \n",
              "2 - Média 36162      47.06143       \n",
              "3 - Alta  20149      26.22202       "
            ]
          },
          "metadata": {}
        }
      ]
    },
    {
      "cell_type": "markdown",
      "source": [
        "## <font color=green>2.3 Distribuição de frequências para variáveis quantitativas (classes de amplitude fixa)</font>\n",
        "***"
      ],
      "metadata": {
        "id": "QErnr4Fm4_nU"
      }
    },
    {
      "cell_type": "markdown",
      "source": [
        "### <font color=red>Documentações:\n",
        "\n",
        "- [**nrow**](https://www.rdocumentation.org/packages/base/versions/3.6.1/topics/nrow)\n",
        "- [**log**](https://www.rdocumentation.org/packages/base/versions/3.6.1/topics/log)\n",
        "- [**round**](https://www.rdocumentation.org/packages/base/versions/3.6.1/topics/Round)"
      ],
      "metadata": {
        "id": "ds6YN_ksWh3b"
      }
    },
    {
      "cell_type": "markdown",
      "source": [
        "### Passo 1 - Definindo o número de classes\n"
      ],
      "metadata": {
        "id": "HcP249h_5E4A"
      }
    },
    {
      "cell_type": "markdown",
      "source": [
        "#### Regra de Sturges\n",
        "\n",
        "# $$k = 1 + \\frac {10}{3}\\log_{10}n$$"
      ],
      "metadata": {
        "id": "w2T7kJfO5NEk"
      }
    },
    {
      "cell_type": "code",
      "source": [
        "#como descobrir o n, numero de linhas\n",
        "n = nrow(dados)\n",
        "n"
      ],
      "metadata": {
        "colab": {
          "base_uri": "https://localhost:8080/",
          "height": 34
        },
        "id": "PasOmTGg5bmj",
        "outputId": "dce59e1f-604d-4fd9-b953-05b0bcf73795"
      },
      "execution_count": null,
      "outputs": [
        {
          "output_type": "display_data",
          "data": {
            "text/html": [
              "76840"
            ],
            "text/markdown": "76840",
            "text/latex": "76840",
            "text/plain": [
              "[1] 76840"
            ]
          },
          "metadata": {}
        }
      ]
    },
    {
      "cell_type": "code",
      "source": [
        "k = 1 + (10 / 3) * log10(n)\n",
        "k"
      ],
      "metadata": {
        "colab": {
          "base_uri": "https://localhost:8080/",
          "height": 34
        },
        "id": "OaYk8gTx5kG_",
        "outputId": "b95d66f8-283b-4784-8510-700e711805f3"
      },
      "execution_count": null,
      "outputs": [
        {
          "output_type": "display_data",
          "data": {
            "text/html": [
              "17.2852911872989"
            ],
            "text/markdown": "17.2852911872989",
            "text/latex": "17.2852911872989",
            "text/plain": [
              "[1] 17.28529"
            ]
          },
          "metadata": {}
        }
      ]
    },
    {
      "cell_type": "code",
      "source": [
        "#arredondar\n",
        "k = round(k)\n",
        "k"
      ],
      "metadata": {
        "colab": {
          "base_uri": "https://localhost:8080/",
          "height": 34
        },
        "id": "3pvWNJnm5kPN",
        "outputId": "dc55449f-54de-40a0-a8c8-65a3635ece86"
      },
      "execution_count": null,
      "outputs": [
        {
          "output_type": "display_data",
          "data": {
            "text/html": [
              "17"
            ],
            "text/markdown": "17",
            "text/latex": "17",
            "text/plain": [
              "[1] 17"
            ]
          },
          "metadata": {}
        }
      ]
    },
    {
      "cell_type": "code",
      "source": [
        "#Criando o vetor labels:\n",
        "\n",
        "#Amplitude de cada intervalo:\n",
        "amplitude_intervalo <- (max(dados$Renda) - min(dados$Renda)) / k\n",
        "\n",
        "#valores minimos de cada intervalo\n",
        "valores_min <- min(dados$Renda) + (0:(k-1)) * amplitude_intervalo\n",
        "\n",
        "#valores maximos de cada intervalo\n",
        "valores_max <- valores_min + amplitude_intervalo\n",
        "\n",
        "#rotulos descritivos\n",
        "labels <- paste(round(valores_min, 2), '-', round(valores_max, 2))\n",
        "\n",
        "labels"
      ],
      "metadata": {
        "colab": {
          "base_uri": "https://localhost:8080/",
          "height": 52
        },
        "id": "DkCCm6SF53RW",
        "outputId": "0e8500cd-0406-4600-b556-5debf25c1d07"
      },
      "execution_count": null,
      "outputs": [
        {
          "output_type": "display_data",
          "data": {
            "text/html": [
              "<style>\n",
              ".list-inline {list-style: none; margin:0; padding: 0}\n",
              ".list-inline>li {display: inline-block}\n",
              ".list-inline>li:not(:last-child)::after {content: \"\\00b7\"; padding: 0 .5ex}\n",
              "</style>\n",
              "<ol class=list-inline><li>'0 - 11764.71'</li><li>'11764.71 - 23529.41'</li><li>'23529.41 - 35294.12'</li><li>'35294.12 - 47058.82'</li><li>'47058.82 - 58823.53'</li><li>'58823.53 - 70588.24'</li><li>'70588.24 - 82352.94'</li><li>'82352.94 - 94117.65'</li><li>'94117.65 - 105882.35'</li><li>'105882.35 - 117647.06'</li><li>'117647.06 - 129411.76'</li><li>'129411.76 - 141176.47'</li><li>'141176.47 - 152941.18'</li><li>'152941.18 - 164705.88'</li><li>'164705.88 - 176470.59'</li><li>'176470.59 - 188235.29'</li><li>'188235.29 - 2e+05'</li></ol>\n"
            ],
            "text/markdown": "1. '0 - 11764.71'\n2. '11764.71 - 23529.41'\n3. '23529.41 - 35294.12'\n4. '35294.12 - 47058.82'\n5. '47058.82 - 58823.53'\n6. '58823.53 - 70588.24'\n7. '70588.24 - 82352.94'\n8. '82352.94 - 94117.65'\n9. '94117.65 - 105882.35'\n10. '105882.35 - 117647.06'\n11. '117647.06 - 129411.76'\n12. '129411.76 - 141176.47'\n13. '141176.47 - 152941.18'\n14. '152941.18 - 164705.88'\n15. '164705.88 - 176470.59'\n16. '176470.59 - 188235.29'\n17. '188235.29 - 2e+05'\n\n\n",
            "text/latex": "\\begin{enumerate*}\n\\item '0 - 11764.71'\n\\item '11764.71 - 23529.41'\n\\item '23529.41 - 35294.12'\n\\item '35294.12 - 47058.82'\n\\item '47058.82 - 58823.53'\n\\item '58823.53 - 70588.24'\n\\item '70588.24 - 82352.94'\n\\item '82352.94 - 94117.65'\n\\item '94117.65 - 105882.35'\n\\item '105882.35 - 117647.06'\n\\item '117647.06 - 129411.76'\n\\item '129411.76 - 141176.47'\n\\item '141176.47 - 152941.18'\n\\item '152941.18 - 164705.88'\n\\item '164705.88 - 176470.59'\n\\item '176470.59 - 188235.29'\n\\item '188235.29 - 2e+05'\n\\end{enumerate*}\n",
            "text/plain": [
              " [1] \"0 - 11764.71\"          \"11764.71 - 23529.41\"   \"23529.41 - 35294.12\"  \n",
              " [4] \"35294.12 - 47058.82\"   \"47058.82 - 58823.53\"   \"58823.53 - 70588.24\"  \n",
              " [7] \"70588.24 - 82352.94\"   \"82352.94 - 94117.65\"   \"94117.65 - 105882.35\" \n",
              "[10] \"105882.35 - 117647.06\" \"117647.06 - 129411.76\" \"129411.76 - 141176.47\"\n",
              "[13] \"141176.47 - 152941.18\" \"152941.18 - 164705.88\" \"164705.88 - 176470.59\"\n",
              "[16] \"176470.59 - 188235.29\" \"188235.29 - 2e+05\"    "
            ]
          },
          "metadata": {}
        }
      ]
    },
    {
      "cell_type": "markdown",
      "source": [
        "### Passo 2 - Criar a tabela de frequências"
      ],
      "metadata": {
        "id": "wTzHJV7W-kAq"
      }
    },
    {
      "cell_type": "code",
      "source": [
        "frequencia <- table(\n",
        "    cut(\n",
        "        x = dados$Renda,\n",
        "        breaks = k,\n",
        "        labels = labels,\n",
        "        include.lowest = TRUE\n",
        "    )\n",
        ")\n",
        "frequencia"
      ],
      "metadata": {
        "colab": {
          "base_uri": "https://localhost:8080/",
          "height": 243
        },
        "id": "NRI6IqJx-G6L",
        "outputId": "adff296e-3537-435a-ea95-d53181f6559f"
      },
      "execution_count": null,
      "outputs": [
        {
          "output_type": "display_data",
          "data": {
            "text/plain": [
              "\n",
              "         0 - 11764.71   11764.71 - 23529.41   23529.41 - 35294.12 \n",
              "                75594                  1022                   169 \n",
              "  35294.12 - 47058.82   47058.82 - 58823.53   58823.53 - 70588.24 \n",
              "                   19                    16                     5 \n",
              "  70588.24 - 82352.94   82352.94 - 94117.65  94117.65 - 105882.35 \n",
              "                    4                     1                     6 \n",
              "105882.35 - 117647.06 117647.06 - 129411.76 129411.76 - 141176.47 \n",
              "                    0                     1                     0 \n",
              "141176.47 - 152941.18 152941.18 - 164705.88 164705.88 - 176470.59 \n",
              "                    0                     0                     0 \n",
              "176470.59 - 188235.29     188235.29 - 2e+05 \n",
              "                    0                     3 "
            ]
          },
          "metadata": {}
        }
      ]
    },
    {
      "cell_type": "code",
      "source": [
        "percentual <- prop.table(frequencia) * 100\n",
        "percentual"
      ],
      "metadata": {
        "colab": {
          "base_uri": "https://localhost:8080/",
          "height": 243
        },
        "id": "F80Hc9hb-aIJ",
        "outputId": "45ed0b82-100d-4d77-b4e2-d52f8a9b33a3"
      },
      "execution_count": null,
      "outputs": [
        {
          "output_type": "display_data",
          "data": {
            "text/plain": [
              "\n",
              "         0 - 11764.71   11764.71 - 23529.41   23529.41 - 35294.12 \n",
              "         98.378448725           1.330036439           0.219937533 \n",
              "  35294.12 - 47058.82   47058.82 - 58823.53   58823.53 - 70588.24 \n",
              "          0.024726705           0.020822488           0.006507028 \n",
              "  70588.24 - 82352.94   82352.94 - 94117.65  94117.65 - 105882.35 \n",
              "          0.005205622           0.001301406           0.007808433 \n",
              "105882.35 - 117647.06 117647.06 - 129411.76 129411.76 - 141176.47 \n",
              "          0.000000000           0.001301406           0.000000000 \n",
              "141176.47 - 152941.18 152941.18 - 164705.88 164705.88 - 176470.59 \n",
              "          0.000000000           0.000000000           0.000000000 \n",
              "176470.59 - 188235.29     188235.29 - 2e+05 \n",
              "          0.000000000           0.003904217 "
            ]
          },
          "metadata": {}
        }
      ]
    },
    {
      "cell_type": "code",
      "source": [
        "dist_freq_quantitativas_amplitude_fixa = cbind('Frequência' = frequencia, 'Porcentagem (%)' = percentual)\n",
        "dist_freq_quantitativas_amplitude_fixa"
      ],
      "metadata": {
        "colab": {
          "base_uri": "https://localhost:8080/",
          "height": 600
        },
        "id": "SRpkCtWK-aRy",
        "outputId": "980e0e8b-a8c4-42bf-ade5-40f66fea030e"
      },
      "execution_count": null,
      "outputs": [
        {
          "output_type": "display_data",
          "data": {
            "text/html": [
              "<table class=\"dataframe\">\n",
              "<caption>A matrix: 17 × 2 of type dbl</caption>\n",
              "<thead>\n",
              "\t<tr><th></th><th scope=col>Frequência</th><th scope=col>Porcentagem (%)</th></tr>\n",
              "</thead>\n",
              "<tbody>\n",
              "\t<tr><th scope=row>0 - 11764.71</th><td>75594</td><td>98.378448725</td></tr>\n",
              "\t<tr><th scope=row>11764.71 - 23529.41</th><td> 1022</td><td> 1.330036439</td></tr>\n",
              "\t<tr><th scope=row>23529.41 - 35294.12</th><td>  169</td><td> 0.219937533</td></tr>\n",
              "\t<tr><th scope=row>35294.12 - 47058.82</th><td>   19</td><td> 0.024726705</td></tr>\n",
              "\t<tr><th scope=row>47058.82 - 58823.53</th><td>   16</td><td> 0.020822488</td></tr>\n",
              "\t<tr><th scope=row>58823.53 - 70588.24</th><td>    5</td><td> 0.006507028</td></tr>\n",
              "\t<tr><th scope=row>70588.24 - 82352.94</th><td>    4</td><td> 0.005205622</td></tr>\n",
              "\t<tr><th scope=row>82352.94 - 94117.65</th><td>    1</td><td> 0.001301406</td></tr>\n",
              "\t<tr><th scope=row>94117.65 - 105882.35</th><td>    6</td><td> 0.007808433</td></tr>\n",
              "\t<tr><th scope=row>105882.35 - 117647.06</th><td>    0</td><td> 0.000000000</td></tr>\n",
              "\t<tr><th scope=row>117647.06 - 129411.76</th><td>    1</td><td> 0.001301406</td></tr>\n",
              "\t<tr><th scope=row>129411.76 - 141176.47</th><td>    0</td><td> 0.000000000</td></tr>\n",
              "\t<tr><th scope=row>141176.47 - 152941.18</th><td>    0</td><td> 0.000000000</td></tr>\n",
              "\t<tr><th scope=row>152941.18 - 164705.88</th><td>    0</td><td> 0.000000000</td></tr>\n",
              "\t<tr><th scope=row>164705.88 - 176470.59</th><td>    0</td><td> 0.000000000</td></tr>\n",
              "\t<tr><th scope=row>176470.59 - 188235.29</th><td>    0</td><td> 0.000000000</td></tr>\n",
              "\t<tr><th scope=row>188235.29 - 2e+05</th><td>    3</td><td> 0.003904217</td></tr>\n",
              "</tbody>\n",
              "</table>\n"
            ],
            "text/markdown": "\nA matrix: 17 × 2 of type dbl\n\n| <!--/--> | Frequência | Porcentagem (%) |\n|---|---|---|\n| 0 - 11764.71 | 75594 | 98.378448725 |\n| 11764.71 - 23529.41 |  1022 |  1.330036439 |\n| 23529.41 - 35294.12 |   169 |  0.219937533 |\n| 35294.12 - 47058.82 |    19 |  0.024726705 |\n| 47058.82 - 58823.53 |    16 |  0.020822488 |\n| 58823.53 - 70588.24 |     5 |  0.006507028 |\n| 70588.24 - 82352.94 |     4 |  0.005205622 |\n| 82352.94 - 94117.65 |     1 |  0.001301406 |\n| 94117.65 - 105882.35 |     6 |  0.007808433 |\n| 105882.35 - 117647.06 |     0 |  0.000000000 |\n| 117647.06 - 129411.76 |     1 |  0.001301406 |\n| 129411.76 - 141176.47 |     0 |  0.000000000 |\n| 141176.47 - 152941.18 |     0 |  0.000000000 |\n| 152941.18 - 164705.88 |     0 |  0.000000000 |\n| 164705.88 - 176470.59 |     0 |  0.000000000 |\n| 176470.59 - 188235.29 |     0 |  0.000000000 |\n| 188235.29 - 2e+05 |     3 |  0.003904217 |\n\n",
            "text/latex": "A matrix: 17 × 2 of type dbl\n\\begin{tabular}{r|ll}\n  & Frequência & Porcentagem (\\%)\\\\\n\\hline\n\t0 - 11764.71 & 75594 & 98.378448725\\\\\n\t11764.71 - 23529.41 &  1022 &  1.330036439\\\\\n\t23529.41 - 35294.12 &   169 &  0.219937533\\\\\n\t35294.12 - 47058.82 &    19 &  0.024726705\\\\\n\t47058.82 - 58823.53 &    16 &  0.020822488\\\\\n\t58823.53 - 70588.24 &     5 &  0.006507028\\\\\n\t70588.24 - 82352.94 &     4 &  0.005205622\\\\\n\t82352.94 - 94117.65 &     1 &  0.001301406\\\\\n\t94117.65 - 105882.35 &     6 &  0.007808433\\\\\n\t105882.35 - 117647.06 &     0 &  0.000000000\\\\\n\t117647.06 - 129411.76 &     1 &  0.001301406\\\\\n\t129411.76 - 141176.47 &     0 &  0.000000000\\\\\n\t141176.47 - 152941.18 &     0 &  0.000000000\\\\\n\t152941.18 - 164705.88 &     0 &  0.000000000\\\\\n\t164705.88 - 176470.59 &     0 &  0.000000000\\\\\n\t176470.59 - 188235.29 &     0 &  0.000000000\\\\\n\t188235.29 - 2e+05 &     3 &  0.003904217\\\\\n\\end{tabular}\n",
            "text/plain": [
              "                      Frequência Porcentagem (%)\n",
              "0 - 11764.71          75594      98.378448725   \n",
              "11764.71 - 23529.41    1022       1.330036439   \n",
              "23529.41 - 35294.12     169       0.219937533   \n",
              "35294.12 - 47058.82      19       0.024726705   \n",
              "47058.82 - 58823.53      16       0.020822488   \n",
              "58823.53 - 70588.24       5       0.006507028   \n",
              "70588.24 - 82352.94       4       0.005205622   \n",
              "82352.94 - 94117.65       1       0.001301406   \n",
              "94117.65 - 105882.35      6       0.007808433   \n",
              "105882.35 - 117647.06     0       0.000000000   \n",
              "117647.06 - 129411.76     1       0.001301406   \n",
              "129411.76 - 141176.47     0       0.000000000   \n",
              "141176.47 - 152941.18     0       0.000000000   \n",
              "152941.18 - 164705.88     0       0.000000000   \n",
              "164705.88 - 176470.59     0       0.000000000   \n",
              "176470.59 - 188235.29     0       0.000000000   \n",
              "188235.29 - 2e+05         3       0.003904217   "
            ]
          },
          "metadata": {}
        }
      ]
    },
    {
      "cell_type": "markdown",
      "source": [
        "## <font color=green>2.4 Histograma</font>\n",
        "***\n",
        "\n",
        "O <b>HISTOGRAMA</b> é a representação gráfica de uma distribuição de frequências. É um gráfico formado por um conjunto de retângulos colocados lado a lado, onde a área de cada retângulo é proporcional à frequência da classe que ele representa."
      ],
      "metadata": {
        "id": "Wn6ALS4b-_sj"
      }
    },
    {
      "cell_type": "markdown",
      "source": [
        "### <font color=red>Documentações:\n",
        "\n",
        "- [***package* graphics**](https://www.rdocumentation.org/packages/graphics)\n",
        "- [**hist**](https://www.rdocumentation.org/packages/graphics/versions/3.6.1/topics/hist)\n",
        "- [***package* ggplot2**](https://www.rdocumentation.org/packages/ggplot2)\n",
        "- [**data.frame**](https://www.rdocumentation.org/packages/base/versions/3.6.1/topics/data.frame)"
      ],
      "metadata": {
        "id": "OntINSmZW0cA"
      }
    },
    {
      "cell_type": "code",
      "source": [
        "#configuração para aumentar/diminuir o grafico no notebook\n",
        "options(repr.plot.width = 7, repr.plot.height = 4)"
      ],
      "metadata": {
        "id": "xtM3wEq0AOg0"
      },
      "execution_count": null,
      "outputs": []
    },
    {
      "cell_type": "code",
      "source": [
        "#criar histograma\n",
        "hist(dados$Altura)"
      ],
      "metadata": {
        "colab": {
          "base_uri": "https://localhost:8080/",
          "height": 257
        },
        "id": "8VWoi8pzAd3v",
        "outputId": "5fae680c-f9d8-4606-df5a-dd4a06d6c3a1"
      },
      "execution_count": null,
      "outputs": [
        {
          "output_type": "display_data",
          "data": {
            "text/plain": [
              "Plot with title “Histogram of dados$Altura”"
            ],
            "image/png": "[encoded data removed]"
          },
          "metadata": {
            "image/png": {
              "width": 420,
              "height": 240
            }
          }
        }
      ]
    },
    {
      "cell_type": "code",
      "source": [
        "#x = dados (parametro, variavel), breaks = cut (metodo para cortes), col = cor, main = titulo\n",
        "hist(\n",
        "  x = dados$Altura,\n",
        "  breaks = 'Sturges',\n",
        "  col = 'lightblue',\n",
        "  main = 'Histograma das Alturas',\n",
        "  xlab = 'Altura',\n",
        "  ylab = 'Frequencia'\n",
        ")"
      ],
      "metadata": {
        "colab": {
          "base_uri": "https://localhost:8080/",
          "height": 257
        },
        "id": "bEptfjX1-aWe",
        "outputId": "ee42085d-5fb6-445d-bb97-e540448694d0"
      },
      "execution_count": null,
      "outputs": [
        {
          "output_type": "display_data",
          "data": {
            "text/plain": [
              "Plot with title “Histograma das Alturas”"
            ],
            "image/png": "[encoded data removed]"
          },
          "metadata": {
            "image/png": {
              "width": 420,
              "height": 240
            }
          }
        }
      ]
    },
    {
      "cell_type": "code",
      "source": [
        "library(ggplot2)"
      ],
      "metadata": {
        "id": "YpoH4JY1BDyb"
      },
      "execution_count": null,
      "outputs": []
    },
    {
      "cell_type": "code",
      "source": [
        "#concatenar os comando com o \"+\"\n",
        "#variaveis que vamos usar\n",
        "ggplot(dados, aes(x = Altura)) +\n",
        "  #grafico p construir, largura das barras, cor, alpha = transparencia\n",
        "  geom_histogram(binwidth = 0.05, color = \"black\", alpha = 0.9) +\n",
        "  #titulo eixo y, x e do grafico\n",
        "  ylab(\"Frequencia\") +\n",
        "  xlab(\"Altura\") +\n",
        "  ggtitle('Histograma das Alturas') +\n",
        "  #configurações de formatação\n",
        "  theme (\n",
        "  plot.title = element_text(size = 14, hjust = 0.5),\n",
        "  axis.title.y = element_text(size = 12, vjust = +0.2),\n",
        "  axis.title.x = element_text(size = 12, vjust = -0.2),\n",
        "  axis.text.x = element_text(size = 10),\n",
        "  axis.text.y = element_text(size = 10)\n",
        "  )"
      ],
      "metadata": {
        "colab": {
          "base_uri": "https://localhost:8080/",
          "height": 257
        },
        "id": "KBoM5GnwBD9w",
        "outputId": "5aec155a-6a88-4ee7-81ce-8a1851928532"
      },
      "execution_count": null,
      "outputs": [
        {
          "output_type": "display_data",
          "data": {
            "text/plain": [
              "plot without title"
            ],
            "image/png": "[encoded data removed]"
          },
          "metadata": {
            "image/png": {
              "width": 420,
              "height": 240
            }
          }
        }
      ]
    },
    {
      "cell_type": "code",
      "source": [
        "formatos = theme (\n",
        "  plot.title = element_text(size = 14, hjust = 0.5),\n",
        "  axis.title.y = element_text(size = 12, vjust = +0.2),\n",
        "  axis.title.x = element_text(size = 12, vjust = -0.2),\n",
        "  axis.text.x = element_text(size = 10),\n",
        "  axis.text.y = element_text(size = 10)\n",
        "  )"
      ],
      "metadata": {
        "id": "Nae_B1XQC7nr"
      },
      "execution_count": null,
      "outputs": []
    },
    {
      "cell_type": "code",
      "source": [
        "# y = variavel padrão para passar a função de densidade\n",
        "ggplot(dados, aes(x = Altura, y = after_stat(density))) +\n",
        "  geom_histogram(binwidth = 0.05, color = \"black\", alpha = 0.9) +\n",
        "  #linha de densidade, mostra o comportamento padrão\n",
        "  geom_density(color = 'green')\n",
        "  ylab(\"Frequencia\") +\n",
        "  xlab(\"Altura\") +\n",
        "  ggtitle('Histograma das Alturas') +\n",
        "  formatos"
      ],
      "metadata": {
        "colab": {
          "base_uri": "https://localhost:8080/",
          "height": 312
        },
        "id": "g6jhWg2ADFLR",
        "outputId": "ceb1aa13-220d-4acf-a479-8403ccd388d7"
      },
      "execution_count": null,
      "outputs": [
        {
          "output_type": "error",
          "ename": "ERROR",
          "evalue": "Error in ylab(\"Frequencia\") + xlab(\"Altura\"): non-numeric argument to binary operator\n",
          "traceback": [
            "Error in ylab(\"Frequencia\") + xlab(\"Altura\"): non-numeric argument to binary operator\nTraceback:\n"
          ]
        },
        {
          "output_type": "display_data",
          "data": {
            "text/plain": [
              "plot without title"
            ],
            "image/png": "[encoded data removed]"
          },
          "metadata": {
            "image/png": {
              "width": 420,
              "height": 240
            }
          }
        }
      ]
    },
    {
      "cell_type": "code",
      "source": [
        "#com variaveis categoricas\n",
        "#para criar um dataframe = data.frame\n",
        "bar_chart = data.frame(dist_freq_quantitativas_personalizadas)\n",
        "bar_chart$`Frequência`\n",
        "#para jogar no histograma (ggplot) é melhor com dataframe e nao com uma matriz"
      ],
      "metadata": {
        "colab": {
          "base_uri": "https://localhost:8080/",
          "height": 34
        },
        "id": "CaTjETkQDFT7",
        "outputId": "6bb09113-47b9-49cd-83d1-edd3b7f8f261"
      },
      "execution_count": null,
      "outputs": [
        {
          "output_type": "display_data",
          "data": {
            "text/html": [
              "<style>\n",
              ".list-inline {list-style: none; margin:0; padding: 0}\n",
              ".list-inline>li {display: inline-block}\n",
              ".list-inline>li:not(:last-child)::after {content: \"\\00b7\"; padding: 0 .5ex}\n",
              "</style>\n",
              "<ol class=list-inline><li>49755</li><li>16700</li><li>7599</li><li>2178</li><li>608</li></ol>\n"
            ],
            "text/markdown": "1. 49755\n2. 16700\n3. 7599\n4. 2178\n5. 608\n\n\n",
            "text/latex": "\\begin{enumerate*}\n\\item 49755\n\\item 16700\n\\item 7599\n\\item 2178\n\\item 608\n\\end{enumerate*}\n",
            "text/plain": [
              "[1] 49755 16700  7599  2178   608"
            ]
          },
          "metadata": {}
        }
      ]
    },
    {
      "cell_type": "markdown",
      "source": [
        "### **Grafico de barras**"
      ],
      "metadata": {
        "id": "LIuPFXS5FBLh"
      }
    },
    {
      "cell_type": "code",
      "source": [
        "ggplot(bar_chart, aes(x = row.names(bar_chart), y = bar_chart$Frequência)) +\n",
        "  #grafico de barra, identity = usa o valor que ta na barra\n",
        "  geom_bar(stat = \"identity\") +\n",
        "  ylab(\"Frequência\") +\n",
        "  xlab(\"Classes de Renda\") +\n",
        "  ggtitle('Graficos Classes de Renda') +\n",
        "  formatos"
      ],
      "metadata": {
        "colab": {
          "base_uri": "https://localhost:8080/",
          "height": 257
        },
        "id": "Q28UfsSCDFXY",
        "outputId": "aa8fec85-9d02-4fa3-dd42-c97e9102ef37"
      },
      "execution_count": null,
      "outputs": [
        {
          "output_type": "display_data",
          "data": {
            "text/plain": [
              "plot without title"
            ],
            "image/png": "[encoded data removed]"
          },
          "metadata": {
            "image/png": {
              "width": 420,
              "height": 240
            }
          }
        }
      ]
    },
    {
      "cell_type": "markdown",
      "source": [
        "# <font color=green>3 MEDIDAS DE TENDÊNCIA CENTRAL</font>\n",
        "***"
      ],
      "metadata": {
        "id": "UgwiuTJX6waM"
      }
    },
    {
      "cell_type": "markdown",
      "source": [
        "## DataFrame de exemplo"
      ],
      "metadata": {
        "id": "LAAvCuwk68Ea"
      }
    },
    {
      "cell_type": "code",
      "source": [
        "##c = cria vetor\n",
        "materias = c('Matematica','Portugues','Ingles','Geografia','Historia','Fisica','Quimica')\n",
        "Fulano = c(8,10,4,8,6,10,8)\n",
        "Beltrano = c(10,2,0.5,1,3,9.5,10)\n",
        "Sicrano = c(7.5,8,7,8,8,8.5,7)"
      ],
      "metadata": {
        "id": "acUUyu1F7INZ"
      },
      "execution_count": null,
      "outputs": []
    },
    {
      "cell_type": "code",
      "source": [
        "## criando um dataframe\n",
        "## row.names = linhas\n",
        "df = data.frame(Fulano, Beltrano, Sicrano, row.names = materias)\n",
        "df"
      ],
      "metadata": {
        "colab": {
          "base_uri": "https://localhost:8080/",
          "height": 318
        },
        "id": "FMTRblBQ7qUO",
        "outputId": "35cc3128-d8f1-4d10-898b-a57fea27d9ad"
      },
      "execution_count": null,
      "outputs": [
        {
          "output_type": "display_data",
          "data": {
            "text/html": [
              "<table class=\"dataframe\">\n",
              "<caption>A data.frame: 7 × 3</caption>\n",
              "<thead>\n",
              "\t<tr><th></th><th scope=col>Fulano</th><th scope=col>Beltrano</th><th scope=col>Sicrano</th></tr>\n",
              "\t<tr><th></th><th scope=col>&lt;dbl&gt;</th><th scope=col>&lt;dbl&gt;</th><th scope=col>&lt;dbl&gt;</th></tr>\n",
              "</thead>\n",
              "<tbody>\n",
              "\t<tr><th scope=row>Matematica</th><td> 8</td><td>10.0</td><td>7.5</td></tr>\n",
              "\t<tr><th scope=row>Portugues</th><td>10</td><td> 2.0</td><td>8.0</td></tr>\n",
              "\t<tr><th scope=row>Ingles</th><td> 4</td><td> 0.5</td><td>7.0</td></tr>\n",
              "\t<tr><th scope=row>Geografia</th><td> 8</td><td> 1.0</td><td>8.0</td></tr>\n",
              "\t<tr><th scope=row>Historia</th><td> 6</td><td> 3.0</td><td>8.0</td></tr>\n",
              "\t<tr><th scope=row>Fisica</th><td>10</td><td> 9.5</td><td>8.5</td></tr>\n",
              "\t<tr><th scope=row>Quimica</th><td> 8</td><td>10.0</td><td>7.0</td></tr>\n",
              "</tbody>\n",
              "</table>\n"
            ],
            "text/markdown": "\nA data.frame: 7 × 3\n\n| <!--/--> | Fulano &lt;dbl&gt; | Beltrano &lt;dbl&gt; | Sicrano &lt;dbl&gt; |\n|---|---|---|---|\n| Matematica |  8 | 10.0 | 7.5 |\n| Portugues | 10 |  2.0 | 8.0 |\n| Ingles |  4 |  0.5 | 7.0 |\n| Geografia |  8 |  1.0 | 8.0 |\n| Historia |  6 |  3.0 | 8.0 |\n| Fisica | 10 |  9.5 | 8.5 |\n| Quimica |  8 | 10.0 | 7.0 |\n\n",
            "text/latex": "A data.frame: 7 × 3\n\\begin{tabular}{r|lll}\n  & Fulano & Beltrano & Sicrano\\\\\n  & <dbl> & <dbl> & <dbl>\\\\\n\\hline\n\tMatematica &  8 & 10.0 & 7.5\\\\\n\tPortugues & 10 &  2.0 & 8.0\\\\\n\tIngles &  4 &  0.5 & 7.0\\\\\n\tGeografia &  8 &  1.0 & 8.0\\\\\n\tHistoria &  6 &  3.0 & 8.0\\\\\n\tFisica & 10 &  9.5 & 8.5\\\\\n\tQuimica &  8 & 10.0 & 7.0\\\\\n\\end{tabular}\n",
            "text/plain": [
              "           Fulano Beltrano Sicrano\n",
              "Matematica  8     10.0     7.5    \n",
              "Portugues  10      2.0     8.0    \n",
              "Ingles      4      0.5     7.0    \n",
              "Geografia   8      1.0     8.0    \n",
              "Historia    6      3.0     8.0    \n",
              "Fisica     10      9.5     8.5    \n",
              "Quimica     8     10.0     7.0    "
            ]
          },
          "metadata": {}
        }
      ]
    },
    {
      "cell_type": "markdown",
      "source": [
        "## <font color=green>3.1 Média aritmética</font>\n",
        "***\n",
        "\n",
        "É representada por $\\mu$ quando se refere à população e por $\\bar{X}$ quando se refere à amostra\n",
        "\n",
        "# $$\\mu = \\frac 1n\\sum_{i=1}^{n}X_i$$\n",
        "\n",
        "onde\n",
        "\n",
        "$n$ = número de observações (registros)\n",
        "\n",
        "$X_i$ = valor da i-ésima observação (registro)"
      ],
      "metadata": {
        "id": "u7_h-RzN7yUo"
      }
    },
    {
      "cell_type": "markdown",
      "source": [
        "### <font color=red>Documentações:\n",
        "\n",
        "- [**mean**](https://www.rdocumentation.org/packages/base/versions/3.6.1/topics/mean)\n",
        "- [**aggregate**](https://www.rdocumentation.org/packages/stats/versions/3.6.1/topics/aggregate)\n",
        "- [**list**](https://www.rdocumentation.org/packages/base/versions/3.6.1/topics/list)"
      ],
      "metadata": {
        "id": "-PNkG6Y8XB0j"
      }
    },
    {
      "cell_type": "code",
      "source": [
        "## media do fulano\n",
        "(8 + 10 + 4 + 8 + 6 + 10 + 8) / 7"
      ],
      "metadata": {
        "colab": {
          "base_uri": "https://localhost:8080/",
          "height": 34
        },
        "id": "l_bj1Zdr7qeg",
        "outputId": "5f5737dc-e0db-4991-da4c-76491ddb6d40"
      },
      "execution_count": null,
      "outputs": [
        {
          "output_type": "display_data",
          "data": {
            "text/html": [
              "7.71428571428571"
            ],
            "text/markdown": "7.71428571428571",
            "text/latex": "7.71428571428571",
            "text/plain": [
              "[1] 7.714286"
            ]
          },
          "metadata": {}
        }
      ]
    },
    {
      "cell_type": "code",
      "source": [
        "## outra media do fulano por função\n",
        "mean(df$Fulano)"
      ],
      "metadata": {
        "colab": {
          "base_uri": "https://localhost:8080/",
          "height": 34
        },
        "id": "54QYCdVA7qry",
        "outputId": "9f43bb38-4616-404a-fdf1-6bcedac9200c"
      },
      "execution_count": null,
      "outputs": [
        {
          "output_type": "display_data",
          "data": {
            "text/html": [
              "7.71428571428571"
            ],
            "text/markdown": "7.71428571428571",
            "text/latex": "7.71428571428571",
            "text/plain": [
              "[1] 7.714286"
            ]
          },
          "metadata": {}
        }
      ]
    },
    {
      "cell_type": "code",
      "source": [
        "mean(dados$Renda)"
      ],
      "metadata": {
        "colab": {
          "base_uri": "https://localhost:8080/",
          "height": 34
        },
        "id": "9MTOJaKB867v",
        "outputId": "07e0908b-15d4-483d-b797-7e4788262428"
      },
      "execution_count": null,
      "outputs": [
        {
          "output_type": "display_data",
          "data": {
            "text/html": [
              "2000.38319885476"
            ],
            "text/markdown": "2000.38319885476",
            "text/latex": "2000.38319885476",
            "text/plain": [
              "[1] 2000.383"
            ]
          },
          "metadata": {}
        }
      ]
    },
    {
      "cell_type": "code",
      "source": [
        "# renda media por sexo\n",
        "aggregate(list(Renda = dados$Renda), list(Sexo = dados$Sexo),mean)"
      ],
      "metadata": {
        "colab": {
          "base_uri": "https://localhost:8080/",
          "height": 161
        },
        "id": "bot59u0M87Cj",
        "outputId": "f97df898-d2c1-4f15-fe67-6d7dcafac1fb"
      },
      "execution_count": null,
      "outputs": [
        {
          "output_type": "display_data",
          "data": {
            "text/html": [
              "<table class=\"dataframe\">\n",
              "<caption>A data.frame: 2 × 2</caption>\n",
              "<thead>\n",
              "\t<tr><th scope=col>Sexo</th><th scope=col>Renda</th></tr>\n",
              "\t<tr><th scope=col>&lt;int&gt;</th><th scope=col>&lt;dbl&gt;</th></tr>\n",
              "</thead>\n",
              "<tbody>\n",
              "\t<tr><td>0</td><td>2192.442</td></tr>\n",
              "\t<tr><td>1</td><td>1566.847</td></tr>\n",
              "</tbody>\n",
              "</table>\n"
            ],
            "text/markdown": "\nA data.frame: 2 × 2\n\n| Sexo &lt;int&gt; | Renda &lt;dbl&gt; |\n|---|---|\n| 0 | 2192.442 |\n| 1 | 1566.847 |\n\n",
            "text/latex": "A data.frame: 2 × 2\n\\begin{tabular}{ll}\n Sexo & Renda\\\\\n <int> & <dbl>\\\\\n\\hline\n\t 0 & 2192.442\\\\\n\t 1 & 1566.847\\\\\n\\end{tabular}\n",
            "text/plain": [
              "  Sexo Renda   \n",
              "1 0    2192.442\n",
              "2 1    1566.847"
            ]
          },
          "metadata": {}
        }
      ]
    },
    {
      "cell_type": "markdown",
      "source": [
        "### Exercicio"
      ],
      "metadata": {
        "id": "G4enmhEO-AfS"
      }
    },
    {
      "cell_type": "code",
      "source": [
        "dataset <- data.frame(\n",
        "    Sexo = c('H', 'M', 'M', 'M', 'M', 'H', 'H', 'H', 'M', 'M'),\n",
        "    Idade = c(53, 72, 54, 27, 30, 40, 58, 32, 44, 51)\n",
        ")\n",
        "#media de idade\n",
        "mean(dataset$Idade)\n",
        "\n",
        "#media de idade por sexo\n",
        "aggregate(list(Idade = dataset$Idade), list(Sexo = dataset$Sexo), mean)"
      ],
      "metadata": {
        "colab": {
          "base_uri": "https://localhost:8080/",
          "height": 178
        },
        "id": "kHqfH6g-9cFQ",
        "outputId": "59113d8f-cebe-4168-ec29-e3a8c435f158"
      },
      "execution_count": null,
      "outputs": [
        {
          "output_type": "display_data",
          "data": {
            "text/html": [
              "46.1"
            ],
            "text/markdown": "46.1",
            "text/latex": "46.1",
            "text/plain": [
              "[1] 46.1"
            ]
          },
          "metadata": {}
        },
        {
          "output_type": "display_data",
          "data": {
            "text/html": [
              "<table class=\"dataframe\">\n",
              "<caption>A data.frame: 2 × 2</caption>\n",
              "<thead>\n",
              "\t<tr><th scope=col>Sexo</th><th scope=col>Idade</th></tr>\n",
              "\t<tr><th scope=col>&lt;chr&gt;</th><th scope=col>&lt;dbl&gt;</th></tr>\n",
              "</thead>\n",
              "<tbody>\n",
              "\t<tr><td>H</td><td>45.75000</td></tr>\n",
              "\t<tr><td>M</td><td>46.33333</td></tr>\n",
              "</tbody>\n",
              "</table>\n"
            ],
            "text/markdown": "\nA data.frame: 2 × 2\n\n| Sexo &lt;chr&gt; | Idade &lt;dbl&gt; |\n|---|---|\n| H | 45.75000 |\n| M | 46.33333 |\n\n",
            "text/latex": "A data.frame: 2 × 2\n\\begin{tabular}{ll}\n Sexo & Idade\\\\\n <chr> & <dbl>\\\\\n\\hline\n\t H & 45.75000\\\\\n\t M & 46.33333\\\\\n\\end{tabular}\n",
            "text/plain": [
              "  Sexo Idade   \n",
              "1 H    45.75000\n",
              "2 M    46.33333"
            ]
          },
          "metadata": {}
        }
      ]
    },
    {
      "cell_type": "markdown",
      "source": [
        "## <font color=green>3.2 Mediana</font>\n",
        "***\n",
        "\n",
        "Para obtermos a mediana de uma conjunto de dados devemos proceder da seguinte maneira:\n",
        "1. Ordenar o conjunto de dados;\n",
        "2. Identificar o número de observações (registros) do conjunto de dados ($n$);\n",
        "3. Identicar o elemento mediano:\n",
        "\n",
        "> Quando $n$ for ímpar, a posição do elemento mediano será obtida da seguinte forma:\n",
        "\n",
        "\n",
        "# $$Elemento_{Md} = \\frac{n+1}2$$\n",
        "\n",
        "> Quando $n$ for par, a posição do elemento mediano será obtida da seguinte forma:\n",
        "\n",
        "\n",
        "# $$Elemento_{Md} = \\frac{n}2$$\n",
        "\n",
        "4. Obter a mediana:\n",
        "\n",
        "> Quando $n$ for ímpar:\n",
        "\n",
        "\n",
        "# $$Md = X_{Elemento_{Md}}$$\n",
        "\n",
        "> Quando $n$ for par:\n",
        "\n",
        "\n",
        "# $$Md = \\frac{X_{Elemento_{Md}} + X_{Elemento_{Md}+1}}2$$\n",
        "***"
      ],
      "metadata": {
        "id": "oFQQ2n8F-lVZ"
      }
    },
    {
      "cell_type": "markdown",
      "source": [
        "### <font color=red>Documentações:\n",
        "\n",
        "- [**median**](https://www.rdocumentation.org/packages/stats/versions/3.6.1/topics/median)\n",
        "- [**set.seed**](https://www.rdocumentation.org/packages/simEd/versions/1.0.3/topics/set.seed)\n",
        "- [**sample**](https://www.rdocumentation.org/packages/base/versions/3.6.1/topics/sample)"
      ],
      "metadata": {
        "id": "TBsBQdLLXKgN"
      }
    },
    {
      "cell_type": "markdown",
      "source": [
        "### Exemplo 1 - n ímpar\n",
        "\n",
        "<img src='https://caelum-online-public.s3.amazonaws.com/1177-estatistica-parte1/01/img002.png' width='40%' style=\"float:left\">"
      ],
      "metadata": {
        "id": "coNH7JCcXKn2"
      }
    },
    {
      "cell_type": "code",
      "source": [
        "# mediana das notas do fulano, ordenando pelas notas do fulano\n",
        "df_fulano = df[order(df$Fulano), ]\n",
        "df_fulano"
      ],
      "metadata": {
        "colab": {
          "base_uri": "https://localhost:8080/",
          "height": 318
        },
        "id": "WndTMk99sxE8",
        "outputId": "0b38aeee-da58-4ed6-b34c-4baf4d97585f"
      },
      "execution_count": null,
      "outputs": [
        {
          "output_type": "display_data",
          "data": {
            "text/html": [
              "<table class=\"dataframe\">\n",
              "<caption>A data.frame: 7 × 3</caption>\n",
              "<thead>\n",
              "\t<tr><th></th><th scope=col>Fulano</th><th scope=col>Beltrano</th><th scope=col>Sicrano</th></tr>\n",
              "\t<tr><th></th><th scope=col>&lt;dbl&gt;</th><th scope=col>&lt;dbl&gt;</th><th scope=col>&lt;dbl&gt;</th></tr>\n",
              "</thead>\n",
              "<tbody>\n",
              "\t<tr><th scope=row>Ingles</th><td> 4</td><td> 0.5</td><td>7.0</td></tr>\n",
              "\t<tr><th scope=row>Historia</th><td> 6</td><td> 3.0</td><td>8.0</td></tr>\n",
              "\t<tr><th scope=row>Matematica</th><td> 8</td><td>10.0</td><td>7.5</td></tr>\n",
              "\t<tr><th scope=row>Geografia</th><td> 8</td><td> 1.0</td><td>8.0</td></tr>\n",
              "\t<tr><th scope=row>Quimica</th><td> 8</td><td>10.0</td><td>7.0</td></tr>\n",
              "\t<tr><th scope=row>Portugues</th><td>10</td><td> 2.0</td><td>8.0</td></tr>\n",
              "\t<tr><th scope=row>Fisica</th><td>10</td><td> 9.5</td><td>8.5</td></tr>\n",
              "</tbody>\n",
              "</table>\n"
            ],
            "text/markdown": "\nA data.frame: 7 × 3\n\n| <!--/--> | Fulano &lt;dbl&gt; | Beltrano &lt;dbl&gt; | Sicrano &lt;dbl&gt; |\n|---|---|---|---|\n| Ingles |  4 |  0.5 | 7.0 |\n| Historia |  6 |  3.0 | 8.0 |\n| Matematica |  8 | 10.0 | 7.5 |\n| Geografia |  8 |  1.0 | 8.0 |\n| Quimica |  8 | 10.0 | 7.0 |\n| Portugues | 10 |  2.0 | 8.0 |\n| Fisica | 10 |  9.5 | 8.5 |\n\n",
            "text/latex": "A data.frame: 7 × 3\n\\begin{tabular}{r|lll}\n  & Fulano & Beltrano & Sicrano\\\\\n  & <dbl> & <dbl> & <dbl>\\\\\n\\hline\n\tIngles &  4 &  0.5 & 7.0\\\\\n\tHistoria &  6 &  3.0 & 8.0\\\\\n\tMatematica &  8 & 10.0 & 7.5\\\\\n\tGeografia &  8 &  1.0 & 8.0\\\\\n\tQuimica &  8 & 10.0 & 7.0\\\\\n\tPortugues & 10 &  2.0 & 8.0\\\\\n\tFisica & 10 &  9.5 & 8.5\\\\\n\\end{tabular}\n",
            "text/plain": [
              "           Fulano Beltrano Sicrano\n",
              "Ingles      4      0.5     7.0    \n",
              "Historia    6      3.0     8.0    \n",
              "Matematica  8     10.0     7.5    \n",
              "Geografia   8      1.0     8.0    \n",
              "Quimica     8     10.0     7.0    \n",
              "Portugues  10      2.0     8.0    \n",
              "Fisica     10      9.5     8.5    "
            ]
          },
          "metadata": {}
        }
      ]
    },
    {
      "cell_type": "code",
      "source": [
        "#numero de registros = numero de linhas\n",
        "n = nrow(df_fulano)\n",
        "n"
      ],
      "metadata": {
        "colab": {
          "base_uri": "https://localhost:8080/",
          "height": 34
        },
        "id": "zDkWL_1WsxHp",
        "outputId": "07295ea0-c299-4a78-c464-d138370ddb57"
      },
      "execution_count": null,
      "outputs": [
        {
          "output_type": "display_data",
          "data": {
            "text/html": [
              "7"
            ],
            "text/markdown": "7",
            "text/latex": "7",
            "text/plain": [
              "[1] 7"
            ]
          },
          "metadata": {}
        }
      ]
    },
    {
      "cell_type": "code",
      "source": [
        "elemento_md = (n + 1) / 2\n",
        "elemento_md"
      ],
      "metadata": {
        "colab": {
          "base_uri": "https://localhost:8080/",
          "height": 34
        },
        "id": "wZQgCYKPsxq3",
        "outputId": "374c6908-f0bd-4f9f-aab8-668bc4ce3341"
      },
      "execution_count": null,
      "outputs": [
        {
          "output_type": "display_data",
          "data": {
            "text/html": [
              "4"
            ],
            "text/markdown": "4",
            "text/latex": "4",
            "text/plain": [
              "[1] 4"
            ]
          },
          "metadata": {}
        }
      ]
    },
    {
      "cell_type": "code",
      "source": [
        "# obter a mediana\n",
        "df_fulano[elemento_md, ]"
      ],
      "metadata": {
        "colab": {
          "base_uri": "https://localhost:8080/",
          "height": 129
        },
        "id": "c2VyBiiGuG_G",
        "outputId": "9b78cdce-e95d-4247-ae91-cd367cd62641"
      },
      "execution_count": null,
      "outputs": [
        {
          "output_type": "display_data",
          "data": {
            "text/html": [
              "<table class=\"dataframe\">\n",
              "<caption>A data.frame: 1 × 3</caption>\n",
              "<thead>\n",
              "\t<tr><th></th><th scope=col>Fulano</th><th scope=col>Beltrano</th><th scope=col>Sicrano</th></tr>\n",
              "\t<tr><th></th><th scope=col>&lt;dbl&gt;</th><th scope=col>&lt;dbl&gt;</th><th scope=col>&lt;dbl&gt;</th></tr>\n",
              "</thead>\n",
              "<tbody>\n",
              "\t<tr><th scope=row>Geografia</th><td>8</td><td>1</td><td>8</td></tr>\n",
              "</tbody>\n",
              "</table>\n"
            ],
            "text/markdown": "\nA data.frame: 1 × 3\n\n| <!--/--> | Fulano &lt;dbl&gt; | Beltrano &lt;dbl&gt; | Sicrano &lt;dbl&gt; |\n|---|---|---|---|\n| Geografia | 8 | 1 | 8 |\n\n",
            "text/latex": "A data.frame: 1 × 3\n\\begin{tabular}{r|lll}\n  & Fulano & Beltrano & Sicrano\\\\\n  & <dbl> & <dbl> & <dbl>\\\\\n\\hline\n\tGeografia & 8 & 1 & 8\\\\\n\\end{tabular}\n",
            "text/plain": [
              "          Fulano Beltrano Sicrano\n",
              "Geografia 8      1        8      "
            ]
          },
          "metadata": {}
        }
      ]
    },
    {
      "cell_type": "code",
      "source": [
        "## com função\n",
        "median(df$Fulano)"
      ],
      "metadata": {
        "colab": {
          "base_uri": "https://localhost:8080/",
          "height": 34
        },
        "id": "wNCHBYOhuHBw",
        "outputId": "5700a4f7-4d12-4bdc-b988-9b29821d9ea5"
      },
      "execution_count": null,
      "outputs": [
        {
          "output_type": "display_data",
          "data": {
            "text/html": [
              "8"
            ],
            "text/markdown": "8",
            "text/latex": "8",
            "text/plain": [
              "[1] 8"
            ]
          },
          "metadata": {}
        }
      ]
    },
    {
      "cell_type": "markdown",
      "source": [
        "### Exemplo 2 - n par\n",
        "\n",
        "<img src='https://caelum-online-public.s3.amazonaws.com/1177-estatistica-parte1/01/img003.png' width='50%' style=\"float:left\">"
      ],
      "metadata": {
        "id": "DQmNWlmLXRwX"
      }
    },
    {
      "cell_type": "markdown",
      "source": [
        "### Obtendo uma amostra aleatória dos dados"
      ],
      "metadata": {
        "id": "oRQx_9ryu1d3"
      }
    },
    {
      "cell_type": "code",
      "source": [
        "df"
      ],
      "metadata": {
        "colab": {
          "base_uri": "https://localhost:8080/",
          "height": 318
        },
        "id": "otQ047qXuHD0",
        "outputId": "844d564f-ee11-4446-957f-508e6c0db12d"
      },
      "execution_count": null,
      "outputs": [
        {
          "output_type": "display_data",
          "data": {
            "text/html": [
              "<table class=\"dataframe\">\n",
              "<caption>A data.frame: 7 × 3</caption>\n",
              "<thead>\n",
              "\t<tr><th></th><th scope=col>Fulano</th><th scope=col>Beltrano</th><th scope=col>Sicrano</th></tr>\n",
              "\t<tr><th></th><th scope=col>&lt;dbl&gt;</th><th scope=col>&lt;dbl&gt;</th><th scope=col>&lt;dbl&gt;</th></tr>\n",
              "</thead>\n",
              "<tbody>\n",
              "\t<tr><th scope=row>Matematica</th><td> 8</td><td>10.0</td><td>7.5</td></tr>\n",
              "\t<tr><th scope=row>Portugues</th><td>10</td><td> 2.0</td><td>8.0</td></tr>\n",
              "\t<tr><th scope=row>Ingles</th><td> 4</td><td> 0.5</td><td>7.0</td></tr>\n",
              "\t<tr><th scope=row>Geografia</th><td> 8</td><td> 1.0</td><td>8.0</td></tr>\n",
              "\t<tr><th scope=row>Historia</th><td> 6</td><td> 3.0</td><td>8.0</td></tr>\n",
              "\t<tr><th scope=row>Fisica</th><td>10</td><td> 9.5</td><td>8.5</td></tr>\n",
              "\t<tr><th scope=row>Quimica</th><td> 8</td><td>10.0</td><td>7.0</td></tr>\n",
              "</tbody>\n",
              "</table>\n"
            ],
            "text/markdown": "\nA data.frame: 7 × 3\n\n| <!--/--> | Fulano &lt;dbl&gt; | Beltrano &lt;dbl&gt; | Sicrano &lt;dbl&gt; |\n|---|---|---|---|\n| Matematica |  8 | 10.0 | 7.5 |\n| Portugues | 10 |  2.0 | 8.0 |\n| Ingles |  4 |  0.5 | 7.0 |\n| Geografia |  8 |  1.0 | 8.0 |\n| Historia |  6 |  3.0 | 8.0 |\n| Fisica | 10 |  9.5 | 8.5 |\n| Quimica |  8 | 10.0 | 7.0 |\n\n",
            "text/latex": "A data.frame: 7 × 3\n\\begin{tabular}{r|lll}\n  & Fulano & Beltrano & Sicrano\\\\\n  & <dbl> & <dbl> & <dbl>\\\\\n\\hline\n\tMatematica &  8 & 10.0 & 7.5\\\\\n\tPortugues & 10 &  2.0 & 8.0\\\\\n\tIngles &  4 &  0.5 & 7.0\\\\\n\tGeografia &  8 &  1.0 & 8.0\\\\\n\tHistoria &  6 &  3.0 & 8.0\\\\\n\tFisica & 10 &  9.5 & 8.5\\\\\n\tQuimica &  8 & 10.0 & 7.0\\\\\n\\end{tabular}\n",
            "text/plain": [
              "           Fulano Beltrano Sicrano\n",
              "Matematica  8     10.0     7.5    \n",
              "Portugues  10      2.0     8.0    \n",
              "Ingles      4      0.5     7.0    \n",
              "Geografia   8      1.0     8.0    \n",
              "Historia    6      3.0     8.0    \n",
              "Fisica     10      9.5     8.5    \n",
              "Quimica     8     10.0     7.0    "
            ]
          },
          "metadata": {}
        }
      ]
    },
    {
      "cell_type": "code",
      "source": [
        "#setar semente, replicar a mostra e ter o mesmo valor\n",
        "set.seed(101)\n",
        "#pegar apenas 6 linhas aleatorias do df\n",
        "sample(nrow(df), 6)"
      ],
      "metadata": {
        "colab": {
          "base_uri": "https://localhost:8080/",
          "height": 34
        },
        "id": "I-kUN_c9u2Vx",
        "outputId": "c89ed485-5474-40cb-9bbf-b75b06be6e1f"
      },
      "execution_count": null,
      "outputs": [
        {
          "output_type": "display_data",
          "data": {
            "text/html": [
              "<style>\n",
              ".list-inline {list-style: none; margin:0; padding: 0}\n",
              ".list-inline>li {display: inline-block}\n",
              ".list-inline>li:not(:last-child)::after {content: \"\\00b7\"; padding: 0 .5ex}\n",
              "</style>\n",
              "<ol class=list-inline><li>1</li><li>7</li><li>6</li><li>2</li><li>3</li><li>5</li></ol>\n"
            ],
            "text/markdown": "1. 1\n2. 7\n3. 6\n4. 2\n5. 3\n6. 5\n\n\n",
            "text/latex": "\\begin{enumerate*}\n\\item 1\n\\item 7\n\\item 6\n\\item 2\n\\item 3\n\\item 5\n\\end{enumerate*}\n",
            "text/plain": [
              "[1] 1 7 6 2 3 5"
            ]
          },
          "metadata": {}
        }
      ]
    },
    {
      "cell_type": "code",
      "source": [
        "set.seed(101)\n",
        "df_beltrano = df[sample(nrow(df), 6), ]\n",
        "df_beltrano"
      ],
      "metadata": {
        "colab": {
          "base_uri": "https://localhost:8080/",
          "height": 286
        },
        "id": "tksaYr_-u2Yi",
        "outputId": "78663008-bf5b-4571-c363-1117cf91acd5"
      },
      "execution_count": null,
      "outputs": [
        {
          "output_type": "display_data",
          "data": {
            "text/html": [
              "<table class=\"dataframe\">\n",
              "<caption>A data.frame: 6 × 3</caption>\n",
              "<thead>\n",
              "\t<tr><th></th><th scope=col>Fulano</th><th scope=col>Beltrano</th><th scope=col>Sicrano</th></tr>\n",
              "\t<tr><th></th><th scope=col>&lt;dbl&gt;</th><th scope=col>&lt;dbl&gt;</th><th scope=col>&lt;dbl&gt;</th></tr>\n",
              "</thead>\n",
              "<tbody>\n",
              "\t<tr><th scope=row>Matematica</th><td> 8</td><td>10.0</td><td>7.5</td></tr>\n",
              "\t<tr><th scope=row>Quimica</th><td> 8</td><td>10.0</td><td>7.0</td></tr>\n",
              "\t<tr><th scope=row>Fisica</th><td>10</td><td> 9.5</td><td>8.5</td></tr>\n",
              "\t<tr><th scope=row>Portugues</th><td>10</td><td> 2.0</td><td>8.0</td></tr>\n",
              "\t<tr><th scope=row>Ingles</th><td> 4</td><td> 0.5</td><td>7.0</td></tr>\n",
              "\t<tr><th scope=row>Historia</th><td> 6</td><td> 3.0</td><td>8.0</td></tr>\n",
              "</tbody>\n",
              "</table>\n"
            ],
            "text/markdown": "\nA data.frame: 6 × 3\n\n| <!--/--> | Fulano &lt;dbl&gt; | Beltrano &lt;dbl&gt; | Sicrano &lt;dbl&gt; |\n|---|---|---|---|\n| Matematica |  8 | 10.0 | 7.5 |\n| Quimica |  8 | 10.0 | 7.0 |\n| Fisica | 10 |  9.5 | 8.5 |\n| Portugues | 10 |  2.0 | 8.0 |\n| Ingles |  4 |  0.5 | 7.0 |\n| Historia |  6 |  3.0 | 8.0 |\n\n",
            "text/latex": "A data.frame: 6 × 3\n\\begin{tabular}{r|lll}\n  & Fulano & Beltrano & Sicrano\\\\\n  & <dbl> & <dbl> & <dbl>\\\\\n\\hline\n\tMatematica &  8 & 10.0 & 7.5\\\\\n\tQuimica &  8 & 10.0 & 7.0\\\\\n\tFisica & 10 &  9.5 & 8.5\\\\\n\tPortugues & 10 &  2.0 & 8.0\\\\\n\tIngles &  4 &  0.5 & 7.0\\\\\n\tHistoria &  6 &  3.0 & 8.0\\\\\n\\end{tabular}\n",
            "text/plain": [
              "           Fulano Beltrano Sicrano\n",
              "Matematica  8     10.0     7.5    \n",
              "Quimica     8     10.0     7.0    \n",
              "Fisica     10      9.5     8.5    \n",
              "Portugues  10      2.0     8.0    \n",
              "Ingles      4      0.5     7.0    \n",
              "Historia    6      3.0     8.0    "
            ]
          },
          "metadata": {}
        }
      ]
    },
    {
      "cell_type": "code",
      "source": [
        "n = nrow(df_beltrano)\n",
        "n"
      ],
      "metadata": {
        "colab": {
          "base_uri": "https://localhost:8080/",
          "height": 34
        },
        "id": "7FJnD3v7u2a3",
        "outputId": "9999bf8e-059d-4f55-b706-62488c0d85b6"
      },
      "execution_count": null,
      "outputs": [
        {
          "output_type": "display_data",
          "data": {
            "text/html": [
              "6"
            ],
            "text/markdown": "6",
            "text/latex": "6",
            "text/plain": [
              "[1] 6"
            ]
          },
          "metadata": {}
        }
      ]
    },
    {
      "cell_type": "code",
      "source": [
        "#ordenando\n",
        "df_beltrano = df_beltrano[order(df_beltrano$Beltrano), ]\n",
        "df_beltrano"
      ],
      "metadata": {
        "colab": {
          "base_uri": "https://localhost:8080/",
          "height": 286
        },
        "id": "wMLq2rBwu2dx",
        "outputId": "0042d229-3e99-493b-e6dd-24171c982188"
      },
      "execution_count": null,
      "outputs": [
        {
          "output_type": "display_data",
          "data": {
            "text/html": [
              "<table class=\"dataframe\">\n",
              "<caption>A data.frame: 6 × 3</caption>\n",
              "<thead>\n",
              "\t<tr><th></th><th scope=col>Fulano</th><th scope=col>Beltrano</th><th scope=col>Sicrano</th></tr>\n",
              "\t<tr><th></th><th scope=col>&lt;dbl&gt;</th><th scope=col>&lt;dbl&gt;</th><th scope=col>&lt;dbl&gt;</th></tr>\n",
              "</thead>\n",
              "<tbody>\n",
              "\t<tr><th scope=row>Ingles</th><td> 4</td><td> 0.5</td><td>7.0</td></tr>\n",
              "\t<tr><th scope=row>Portugues</th><td>10</td><td> 2.0</td><td>8.0</td></tr>\n",
              "\t<tr><th scope=row>Historia</th><td> 6</td><td> 3.0</td><td>8.0</td></tr>\n",
              "\t<tr><th scope=row>Fisica</th><td>10</td><td> 9.5</td><td>8.5</td></tr>\n",
              "\t<tr><th scope=row>Matematica</th><td> 8</td><td>10.0</td><td>7.5</td></tr>\n",
              "\t<tr><th scope=row>Quimica</th><td> 8</td><td>10.0</td><td>7.0</td></tr>\n",
              "</tbody>\n",
              "</table>\n"
            ],
            "text/markdown": "\nA data.frame: 6 × 3\n\n| <!--/--> | Fulano &lt;dbl&gt; | Beltrano &lt;dbl&gt; | Sicrano &lt;dbl&gt; |\n|---|---|---|---|\n| Ingles |  4 |  0.5 | 7.0 |\n| Portugues | 10 |  2.0 | 8.0 |\n| Historia |  6 |  3.0 | 8.0 |\n| Fisica | 10 |  9.5 | 8.5 |\n| Matematica |  8 | 10.0 | 7.5 |\n| Quimica |  8 | 10.0 | 7.0 |\n\n",
            "text/latex": "A data.frame: 6 × 3\n\\begin{tabular}{r|lll}\n  & Fulano & Beltrano & Sicrano\\\\\n  & <dbl> & <dbl> & <dbl>\\\\\n\\hline\n\tIngles &  4 &  0.5 & 7.0\\\\\n\tPortugues & 10 &  2.0 & 8.0\\\\\n\tHistoria &  6 &  3.0 & 8.0\\\\\n\tFisica & 10 &  9.5 & 8.5\\\\\n\tMatematica &  8 & 10.0 & 7.5\\\\\n\tQuimica &  8 & 10.0 & 7.0\\\\\n\\end{tabular}\n",
            "text/plain": [
              "           Fulano Beltrano Sicrano\n",
              "Ingles      4      0.5     7.0    \n",
              "Portugues  10      2.0     8.0    \n",
              "Historia    6      3.0     8.0    \n",
              "Fisica     10      9.5     8.5    \n",
              "Matematica  8     10.0     7.5    \n",
              "Quimica     8     10.0     7.0    "
            ]
          },
          "metadata": {}
        }
      ]
    },
    {
      "cell_type": "code",
      "source": [
        "elemento_md = n / 2\n",
        "elemento_md"
      ],
      "metadata": {
        "colab": {
          "base_uri": "https://localhost:8080/",
          "height": 34
        },
        "id": "SUFnjh_Sv_IZ",
        "outputId": "770bf707-2cb8-46b0-85bd-fe7cef79fe33"
      },
      "execution_count": null,
      "outputs": [
        {
          "output_type": "display_data",
          "data": {
            "text/html": [
              "3"
            ],
            "text/markdown": "3",
            "text/latex": "3",
            "text/plain": [
              "[1] 3"
            ]
          },
          "metadata": {}
        }
      ]
    },
    {
      "cell_type": "code",
      "source": [
        "mean(df_beltrano[c(elemento_md, elemento_md + 1), ]$Beltrano)"
      ],
      "metadata": {
        "colab": {
          "base_uri": "https://localhost:8080/",
          "height": 34
        },
        "id": "w7AJQjB1v_O-",
        "outputId": "74a5823c-9e00-4dd2-81ae-86e67bf7066f"
      },
      "execution_count": null,
      "outputs": [
        {
          "output_type": "display_data",
          "data": {
            "text/html": [
              "6.25"
            ],
            "text/markdown": "6.25",
            "text/latex": "6.25",
            "text/plain": [
              "[1] 6.25"
            ]
          },
          "metadata": {}
        }
      ]
    },
    {
      "cell_type": "code",
      "source": [
        "# mediana por função\n",
        "median(df_beltrano$Beltrano)"
      ],
      "metadata": {
        "colab": {
          "base_uri": "https://localhost:8080/",
          "height": 34
        },
        "id": "GMfUY4zZv_VL",
        "outputId": "b5dfe544-0c46-4dad-834b-38923a1cdca3"
      },
      "execution_count": null,
      "outputs": [
        {
          "output_type": "display_data",
          "data": {
            "text/html": [
              "6.25"
            ],
            "text/markdown": "6.25",
            "text/latex": "6.25",
            "text/plain": [
              "[1] 6.25"
            ]
          },
          "metadata": {}
        }
      ]
    },
    {
      "cell_type": "markdown",
      "source": [
        "### Exercicio"
      ],
      "metadata": {
        "id": "hH84nwP_zeBH"
      }
    },
    {
      "cell_type": "code",
      "source": [
        "dataset <- data.frame(\n",
        "    Sexo = c('H', 'M', 'M', 'M', 'M', 'H', 'H', 'H', 'M', 'M'),\n",
        "    Idade = c(53, 72, 54, 27, 30, 40, 58, 32, 44, 51)\n",
        ")\n",
        "dataset"
      ],
      "metadata": {
        "colab": {
          "base_uri": "https://localhost:8080/",
          "height": 429
        },
        "id": "vYmbl4hCzwJ6",
        "outputId": "873e5e82-8895-4aaa-cab6-c2b474da8cd5"
      },
      "execution_count": null,
      "outputs": [
        {
          "output_type": "display_data",
          "data": {
            "text/html": [
              "<table class=\"dataframe\">\n",
              "<caption>A data.frame: 10 × 2</caption>\n",
              "<thead>\n",
              "\t<tr><th scope=col>Sexo</th><th scope=col>Idade</th></tr>\n",
              "\t<tr><th scope=col>&lt;chr&gt;</th><th scope=col>&lt;dbl&gt;</th></tr>\n",
              "</thead>\n",
              "<tbody>\n",
              "\t<tr><td>H</td><td>53</td></tr>\n",
              "\t<tr><td>M</td><td>72</td></tr>\n",
              "\t<tr><td>M</td><td>54</td></tr>\n",
              "\t<tr><td>M</td><td>27</td></tr>\n",
              "\t<tr><td>M</td><td>30</td></tr>\n",
              "\t<tr><td>H</td><td>40</td></tr>\n",
              "\t<tr><td>H</td><td>58</td></tr>\n",
              "\t<tr><td>H</td><td>32</td></tr>\n",
              "\t<tr><td>M</td><td>44</td></tr>\n",
              "\t<tr><td>M</td><td>51</td></tr>\n",
              "</tbody>\n",
              "</table>\n"
            ],
            "text/markdown": "\nA data.frame: 10 × 2\n\n| Sexo &lt;chr&gt; | Idade &lt;dbl&gt; |\n|---|---|\n| H | 53 |\n| M | 72 |\n| M | 54 |\n| M | 27 |\n| M | 30 |\n| H | 40 |\n| H | 58 |\n| H | 32 |\n| M | 44 |\n| M | 51 |\n\n",
            "text/latex": "A data.frame: 10 × 2\n\\begin{tabular}{ll}\n Sexo & Idade\\\\\n <chr> & <dbl>\\\\\n\\hline\n\t H & 53\\\\\n\t M & 72\\\\\n\t M & 54\\\\\n\t M & 27\\\\\n\t M & 30\\\\\n\t H & 40\\\\\n\t H & 58\\\\\n\t H & 32\\\\\n\t M & 44\\\\\n\t M & 51\\\\\n\\end{tabular}\n",
            "text/plain": [
              "   Sexo Idade\n",
              "1  H    53   \n",
              "2  M    72   \n",
              "3  M    54   \n",
              "4  M    27   \n",
              "5  M    30   \n",
              "6  H    40   \n",
              "7  H    58   \n",
              "8  H    32   \n",
              "9  M    44   \n",
              "10 M    51   "
            ]
          },
          "metadata": {}
        }
      ]
    },
    {
      "cell_type": "code",
      "source": [
        "# mediana\n",
        "aggregate(list(Idade = dataset$Idade), list(Sexo = dataset$Sexo), median)"
      ],
      "metadata": {
        "colab": {
          "base_uri": "https://localhost:8080/",
          "height": 178
        },
        "id": "jlWSGcxCz7XX",
        "outputId": "68f74bb6-5293-4299-b008-6b5fdc5309eb"
      },
      "execution_count": null,
      "outputs": [
        {
          "output_type": "display_data",
          "data": {
            "text/html": [
              "<table class=\"dataframe\">\n",
              "<caption>A data.frame: 2 × 2</caption>\n",
              "<thead>\n",
              "\t<tr><th scope=col>Sexo</th><th scope=col>Idade</th></tr>\n",
              "\t<tr><th scope=col>&lt;chr&gt;</th><th scope=col>&lt;dbl&gt;</th></tr>\n",
              "</thead>\n",
              "<tbody>\n",
              "\t<tr><td>H</td><td>46.5</td></tr>\n",
              "\t<tr><td>M</td><td>47.5</td></tr>\n",
              "</tbody>\n",
              "</table>\n"
            ],
            "text/markdown": "\nA data.frame: 2 × 2\n\n| Sexo &lt;chr&gt; | Idade &lt;dbl&gt; |\n|---|---|\n| H | 46.5 |\n| M | 47.5 |\n\n",
            "text/latex": "A data.frame: 2 × 2\n\\begin{tabular}{ll}\n Sexo & Idade\\\\\n <chr> & <dbl>\\\\\n\\hline\n\t H & 46.5\\\\\n\t M & 47.5\\\\\n\\end{tabular}\n",
            "text/plain": [
              "  Sexo Idade\n",
              "1 H    46.5 \n",
              "2 M    47.5 "
            ]
          },
          "metadata": {}
        }
      ]
    },
    {
      "cell_type": "markdown",
      "source": [
        "## <font color=green>3.3 Moda</font>\n",
        "***\n",
        "\n",
        "Pode-se definir a moda como sendo o valor mais frequente de um conjunto de dados. A moda é bastante utilizada para dados qualitativos."
      ],
      "metadata": {
        "id": "EVFqVb-E0CNx"
      }
    },
    {
      "cell_type": "markdown",
      "source": [
        "### <font color=red>Documentações:\n",
        "\n",
        "- [**function**](https://www.rdocumentation.org/packages/base/versions/3.6.1/topics/function)"
      ],
      "metadata": {
        "id": "PFA_uzzUXcJg"
      }
    },
    {
      "cell_type": "code",
      "source": [
        "df"
      ],
      "metadata": {
        "colab": {
          "base_uri": "https://localhost:8080/",
          "height": 318
        },
        "id": "j7bfSwYM0dRw",
        "outputId": "7c963590-40c8-4a96-c127-e791711a13f0"
      },
      "execution_count": null,
      "outputs": [
        {
          "output_type": "display_data",
          "data": {
            "text/html": [
              "<table class=\"dataframe\">\n",
              "<caption>A data.frame: 7 × 3</caption>\n",
              "<thead>\n",
              "\t<tr><th></th><th scope=col>Fulano</th><th scope=col>Beltrano</th><th scope=col>Sicrano</th></tr>\n",
              "\t<tr><th></th><th scope=col>&lt;dbl&gt;</th><th scope=col>&lt;dbl&gt;</th><th scope=col>&lt;dbl&gt;</th></tr>\n",
              "</thead>\n",
              "<tbody>\n",
              "\t<tr><th scope=row>Matematica</th><td> 8</td><td>10.0</td><td>7.5</td></tr>\n",
              "\t<tr><th scope=row>Portugues</th><td>10</td><td> 2.0</td><td>8.0</td></tr>\n",
              "\t<tr><th scope=row>Ingles</th><td> 4</td><td> 0.5</td><td>7.0</td></tr>\n",
              "\t<tr><th scope=row>Geografia</th><td> 8</td><td> 1.0</td><td>8.0</td></tr>\n",
              "\t<tr><th scope=row>Historia</th><td> 6</td><td> 3.0</td><td>8.0</td></tr>\n",
              "\t<tr><th scope=row>Fisica</th><td>10</td><td> 9.5</td><td>8.5</td></tr>\n",
              "\t<tr><th scope=row>Quimica</th><td> 8</td><td>10.0</td><td>7.0</td></tr>\n",
              "</tbody>\n",
              "</table>\n"
            ],
            "text/markdown": "\nA data.frame: 7 × 3\n\n| <!--/--> | Fulano &lt;dbl&gt; | Beltrano &lt;dbl&gt; | Sicrano &lt;dbl&gt; |\n|---|---|---|---|\n| Matematica |  8 | 10.0 | 7.5 |\n| Portugues | 10 |  2.0 | 8.0 |\n| Ingles |  4 |  0.5 | 7.0 |\n| Geografia |  8 |  1.0 | 8.0 |\n| Historia |  6 |  3.0 | 8.0 |\n| Fisica | 10 |  9.5 | 8.5 |\n| Quimica |  8 | 10.0 | 7.0 |\n\n",
            "text/latex": "A data.frame: 7 × 3\n\\begin{tabular}{r|lll}\n  & Fulano & Beltrano & Sicrano\\\\\n  & <dbl> & <dbl> & <dbl>\\\\\n\\hline\n\tMatematica &  8 & 10.0 & 7.5\\\\\n\tPortugues & 10 &  2.0 & 8.0\\\\\n\tIngles &  4 &  0.5 & 7.0\\\\\n\tGeografia &  8 &  1.0 & 8.0\\\\\n\tHistoria &  6 &  3.0 & 8.0\\\\\n\tFisica & 10 &  9.5 & 8.5\\\\\n\tQuimica &  8 & 10.0 & 7.0\\\\\n\\end{tabular}\n",
            "text/plain": [
              "           Fulano Beltrano Sicrano\n",
              "Matematica  8     10.0     7.5    \n",
              "Portugues  10      2.0     8.0    \n",
              "Ingles      4      0.5     7.0    \n",
              "Geografia   8      1.0     8.0    \n",
              "Historia    6      3.0     8.0    \n",
              "Fisica     10      9.5     8.5    \n",
              "Quimica     8     10.0     7.0    "
            ]
          },
          "metadata": {}
        }
      ]
    },
    {
      "cell_type": "code",
      "source": [
        "exemplo_moda = c(1,2,2,3,4,4,5,6,7,7)\n",
        "exemplo_moda"
      ],
      "metadata": {
        "colab": {
          "base_uri": "https://localhost:8080/",
          "height": 34
        },
        "id": "jX0immVP0Fwg",
        "outputId": "a4283c37-7533-4ff8-ae43-ac3f2c54046d"
      },
      "execution_count": null,
      "outputs": [
        {
          "output_type": "display_data",
          "data": {
            "text/html": [
              "<style>\n",
              ".list-inline {list-style: none; margin:0; padding: 0}\n",
              ".list-inline>li {display: inline-block}\n",
              ".list-inline>li:not(:last-child)::after {content: \"\\00b7\"; padding: 0 .5ex}\n",
              "</style>\n",
              "<ol class=list-inline><li>1</li><li>2</li><li>2</li><li>3</li><li>4</li><li>4</li><li>5</li><li>6</li><li>7</li><li>7</li></ol>\n"
            ],
            "text/markdown": "1. 1\n2. 2\n3. 2\n4. 3\n5. 4\n6. 4\n7. 5\n8. 6\n9. 7\n10. 7\n\n\n",
            "text/latex": "\\begin{enumerate*}\n\\item 1\n\\item 2\n\\item 2\n\\item 3\n\\item 4\n\\item 4\n\\item 5\n\\item 6\n\\item 7\n\\item 7\n\\end{enumerate*}\n",
            "text/plain": [
              " [1] 1 2 2 3 4 4 5 6 7 7"
            ]
          },
          "metadata": {}
        }
      ]
    },
    {
      "cell_type": "code",
      "source": [
        "freq = table(exemplo_moda)\n",
        "freq"
      ],
      "metadata": {
        "colab": {
          "base_uri": "https://localhost:8080/",
          "height": 69
        },
        "id": "hl0LyDBK0FzW",
        "outputId": "3788ff1a-f33e-4bd1-c410-2baadfc0d569"
      },
      "execution_count": null,
      "outputs": [
        {
          "output_type": "display_data",
          "data": {
            "text/plain": [
              "exemplo_moda\n",
              "1 2 3 4 5 6 7 \n",
              "1 2 1 2 1 1 2 "
            ]
          },
          "metadata": {}
        }
      ]
    },
    {
      "cell_type": "code",
      "source": [
        "# achar a moda\n",
        "freq[freq == max(freq)]"
      ],
      "metadata": {
        "colab": {
          "base_uri": "https://localhost:8080/",
          "height": 69
        },
        "id": "topo4Tnx0F1q",
        "outputId": "da88cf39-e565-496c-a67e-02c99080790b"
      },
      "execution_count": null,
      "outputs": [
        {
          "output_type": "display_data",
          "data": {
            "text/plain": [
              "exemplo_moda\n",
              "2 4 7 \n",
              "2 2 2 "
            ]
          },
          "metadata": {}
        }
      ]
    },
    {
      "cell_type": "code",
      "source": [
        "# pegar somente os valores, sem a quantidade\n",
        "names(freq)[freq == max(freq)]"
      ],
      "metadata": {
        "colab": {
          "base_uri": "https://localhost:8080/",
          "height": 34
        },
        "id": "N674LOV90F4W",
        "outputId": "102227cc-041a-4003-950e-c8e959453ab6"
      },
      "execution_count": null,
      "outputs": [
        {
          "output_type": "display_data",
          "data": {
            "text/html": [
              "<style>\n",
              ".list-inline {list-style: none; margin:0; padding: 0}\n",
              ".list-inline>li {display: inline-block}\n",
              ".list-inline>li:not(:last-child)::after {content: \"\\00b7\"; padding: 0 .5ex}\n",
              "</style>\n",
              "<ol class=list-inline><li>'2'</li><li>'4'</li><li>'7'</li></ol>\n"
            ],
            "text/markdown": "1. '2'\n2. '4'\n3. '7'\n\n\n",
            "text/latex": "\\begin{enumerate*}\n\\item '2'\n\\item '4'\n\\item '7'\n\\end{enumerate*}\n",
            "text/plain": [
              "[1] \"2\" \"4\" \"7\""
            ]
          },
          "metadata": {}
        }
      ]
    },
    {
      "cell_type": "code",
      "source": [
        "# função para pegar a moda\n",
        "Moda = function(x){\n",
        "  freq = table(x)\n",
        "  #retorno\n",
        "  return(names(freq)[freq == max(freq)])\n",
        "}"
      ],
      "metadata": {
        "id": "B5hpYbke1NzU"
      },
      "execution_count": null,
      "outputs": []
    },
    {
      "cell_type": "code",
      "source": [
        "Moda(exemplo_moda)"
      ],
      "metadata": {
        "colab": {
          "base_uri": "https://localhost:8080/",
          "height": 34
        },
        "id": "bal1U6I21OfB",
        "outputId": "04e5ea11-adeb-4e13-9a3d-706881ba6c5c"
      },
      "execution_count": null,
      "outputs": [
        {
          "output_type": "display_data",
          "data": {
            "text/html": [
              "<style>\n",
              ".list-inline {list-style: none; margin:0; padding: 0}\n",
              ".list-inline>li {display: inline-block}\n",
              ".list-inline>li:not(:last-child)::after {content: \"\\00b7\"; padding: 0 .5ex}\n",
              "</style>\n",
              "<ol class=list-inline><li>'2'</li><li>'4'</li><li>'7'</li></ol>\n"
            ],
            "text/markdown": "1. '2'\n2. '4'\n3. '7'\n\n\n",
            "text/latex": "\\begin{enumerate*}\n\\item '2'\n\\item '4'\n\\item '7'\n\\end{enumerate*}\n",
            "text/plain": [
              "[1] \"2\" \"4\" \"7\""
            ]
          },
          "metadata": {}
        }
      ]
    },
    {
      "cell_type": "code",
      "source": [
        "Moda(df$Fulano)\n",
        "Moda(df$Sicrano)\n",
        "Moda(df$Beltrano)"
      ],
      "metadata": {
        "colab": {
          "base_uri": "https://localhost:8080/",
          "height": 69
        },
        "id": "0P4C98LU1OiB",
        "outputId": "c2f6dbad-4f38-41bc-dd92-0cd0694f0547"
      },
      "execution_count": null,
      "outputs": [
        {
          "output_type": "display_data",
          "data": {
            "text/html": [
              "'8'"
            ],
            "text/markdown": "'8'",
            "text/latex": "'8'",
            "text/plain": [
              "[1] \"8\""
            ]
          },
          "metadata": {}
        },
        {
          "output_type": "display_data",
          "data": {
            "text/html": [
              "'8'"
            ],
            "text/markdown": "'8'",
            "text/latex": "'8'",
            "text/plain": [
              "[1] \"8\""
            ]
          },
          "metadata": {}
        },
        {
          "output_type": "display_data",
          "data": {
            "text/html": [
              "'10'"
            ],
            "text/markdown": "'10'",
            "text/latex": "'10'",
            "text/plain": [
              "[1] \"10\""
            ]
          },
          "metadata": {}
        }
      ]
    },
    {
      "cell_type": "markdown",
      "source": [
        "## <font color=green>3.4 Relação entre média, mediana e moda</font>\n",
        "***"
      ],
      "metadata": {
        "id": "wbzpZthv2AN2"
      }
    },
    {
      "cell_type": "markdown",
      "source": [
        "<img src='https://caelum-online-public.s3.amazonaws.com/1177-estatistica-parte1/01/img004.png' width='80%'>"
      ],
      "metadata": {
        "id": "OgzA7CjuXhO_"
      }
    },
    {
      "cell_type": "markdown",
      "source": [
        "### <font color=red>Documentações:\n",
        "    \n",
        "- [**as.numeric**](https://www.rdocumentation.org/packages/base/versions/3.6.1/topics/numeric)"
      ],
      "metadata": {
        "id": "3rYGHRfCXlBl"
      }
    },
    {
      "cell_type": "markdown",
      "source": [
        "### Avaliando a variável RENDA"
      ],
      "metadata": {
        "id": "Us5Qz3wr5QUA"
      }
    },
    {
      "cell_type": "code",
      "source": [
        "head(dados,5)"
      ],
      "metadata": {
        "colab": {
          "base_uri": "https://localhost:8080/",
          "height": 255
        },
        "id": "iQ6W_vdy5QeO",
        "outputId": "9324362b-1a2d-4e2d-8385-2537c963176d"
      },
      "execution_count": null,
      "outputs": [
        {
          "output_type": "display_data",
          "data": {
            "text/html": [
              "<table class=\"dataframe\">\n",
              "<caption>A data.frame: 5 × 7</caption>\n",
              "<thead>\n",
              "\t<tr><th></th><th scope=col>UF</th><th scope=col>Sexo</th><th scope=col>Idade</th><th scope=col>Cor</th><th scope=col>Anos.de.Estudo</th><th scope=col>Renda</th><th scope=col>Altura</th></tr>\n",
              "\t<tr><th></th><th scope=col>&lt;int&gt;</th><th scope=col>&lt;int&gt;</th><th scope=col>&lt;int&gt;</th><th scope=col>&lt;int&gt;</th><th scope=col>&lt;int&gt;</th><th scope=col>&lt;int&gt;</th><th scope=col>&lt;dbl&gt;</th></tr>\n",
              "</thead>\n",
              "<tbody>\n",
              "\t<tr><th scope=row>1</th><td>11</td><td>0</td><td>23</td><td>8</td><td>12</td><td> 800</td><td>1.603808</td></tr>\n",
              "\t<tr><th scope=row>2</th><td>11</td><td>1</td><td>23</td><td>2</td><td>12</td><td>1150</td><td>1.739790</td></tr>\n",
              "\t<tr><th scope=row>3</th><td>11</td><td>1</td><td>35</td><td>8</td><td>15</td><td> 880</td><td>1.760444</td></tr>\n",
              "\t<tr><th scope=row>4</th><td>11</td><td>0</td><td>46</td><td>2</td><td> 6</td><td>3500</td><td>1.783158</td></tr>\n",
              "\t<tr><th scope=row>5</th><td>11</td><td>1</td><td>47</td><td>8</td><td> 9</td><td> 150</td><td>1.690631</td></tr>\n",
              "</tbody>\n",
              "</table>\n"
            ],
            "text/markdown": "\nA data.frame: 5 × 7\n\n| <!--/--> | UF &lt;int&gt; | Sexo &lt;int&gt; | Idade &lt;int&gt; | Cor &lt;int&gt; | Anos.de.Estudo &lt;int&gt; | Renda &lt;int&gt; | Altura &lt;dbl&gt; |\n|---|---|---|---|---|---|---|---|\n| 1 | 11 | 0 | 23 | 8 | 12 |  800 | 1.603808 |\n| 2 | 11 | 1 | 23 | 2 | 12 | 1150 | 1.739790 |\n| 3 | 11 | 1 | 35 | 8 | 15 |  880 | 1.760444 |\n| 4 | 11 | 0 | 46 | 2 |  6 | 3500 | 1.783158 |\n| 5 | 11 | 1 | 47 | 8 |  9 |  150 | 1.690631 |\n\n",
            "text/latex": "A data.frame: 5 × 7\n\\begin{tabular}{r|lllllll}\n  & UF & Sexo & Idade & Cor & Anos.de.Estudo & Renda & Altura\\\\\n  & <int> & <int> & <int> & <int> & <int> & <int> & <dbl>\\\\\n\\hline\n\t1 & 11 & 0 & 23 & 8 & 12 &  800 & 1.603808\\\\\n\t2 & 11 & 1 & 23 & 2 & 12 & 1150 & 1.739790\\\\\n\t3 & 11 & 1 & 35 & 8 & 15 &  880 & 1.760444\\\\\n\t4 & 11 & 0 & 46 & 2 &  6 & 3500 & 1.783158\\\\\n\t5 & 11 & 1 & 47 & 8 &  9 &  150 & 1.690631\\\\\n\\end{tabular}\n",
            "text/plain": [
              "  UF Sexo Idade Cor Anos.de.Estudo Renda Altura  \n",
              "1 11 0    23    8   12              800  1.603808\n",
              "2 11 1    23    2   12             1150  1.739790\n",
              "3 11 1    35    8   15              880  1.760444\n",
              "4 11 0    46    2    6             3500  1.783158\n",
              "5 11 1    47    8    9              150  1.690631"
            ]
          },
          "metadata": {}
        }
      ]
    },
    {
      "cell_type": "code",
      "source": [
        "#configuração para aumentar/diminuir o grafico no notebook\n",
        "options(repr.plot.width = 10, repr.plot.height = 5)"
      ],
      "metadata": {
        "id": "-FUI7z0P65q_"
      },
      "execution_count": null,
      "outputs": []
    },
    {
      "cell_type": "code",
      "source": [
        " ggplot(dados[dados$Renda, ], aes(x = Renda, y = ..density..)) +\n",
        "  geom_histogram(binwidth = 500) +\n",
        "  geom_density(color = 'green')"
      ],
      "metadata": {
        "colab": {
          "base_uri": "https://localhost:8080/",
          "height": 439
        },
        "id": "wwFMpWTw5QhF",
        "outputId": "84a7710f-e946-44e3-f956-d0d1d2246dd1"
      },
      "execution_count": null,
      "outputs": [
        {
          "output_type": "stream",
          "name": "stderr",
          "text": [
            "Warning message:\n",
            "“\u001b[1m\u001b[22mThe dot-dot notation (`..density..`) was deprecated in ggplot2 3.4.0.\n",
            "\u001b[36mℹ\u001b[39m Please use `after_stat(density)` instead.”\n",
            "Warning message:\n",
            "“\u001b[1m\u001b[22mRemoved 15 rows containing non-finite values (`stat_bin()`).”\n",
            "Warning message:\n",
            "“\u001b[1m\u001b[22mRemoved 15 rows containing non-finite values (`stat_density()`).”\n"
          ]
        },
        {
          "output_type": "display_data",
          "data": {
            "text/plain": [
              "plot without title"
            ],
            "image/png": "[encoded data removed]"
          },
          "metadata": {
            "image/png": {
              "width": 600,
              "height": 300
            }
          }
        }
      ]
    },
    {
      "cell_type": "code",
      "source": [
        " #apenas quem ganha menos de 20000\n",
        " ggplot(dados[dados$Renda < 20000, ], aes(x = Renda, y = ..density..)) +\n",
        "  geom_histogram(binwidth = 500) +\n",
        "  geom_density(color = 'green')"
      ],
      "metadata": {
        "colab": {
          "base_uri": "https://localhost:8080/",
          "height": 317
        },
        "id": "BU9GgmSh7B7p",
        "outputId": "0e1bb18b-266f-46c7-9d08-3a85105511c3"
      },
      "execution_count": null,
      "outputs": [
        {
          "output_type": "display_data",
          "data": {
            "text/plain": [
              "plot without title"
            ],
            "image/png": "[encoded data removed]"
          },
          "metadata": {
            "image/png": {
              "width": 600,
              "height": 300
            }
          }
        }
      ]
    },
    {
      "cell_type": "code",
      "source": [
        "#as.numerics = transforma string em numero\n",
        "moda = as.numeric(Moda(dados$Renda))\n",
        "moda"
      ],
      "metadata": {
        "colab": {
          "base_uri": "https://localhost:8080/",
          "height": 34
        },
        "id": "tYYmgAqX5QjM",
        "outputId": "251b2802-90ec-435f-94c4-e0ba13d2a67a"
      },
      "execution_count": null,
      "outputs": [
        {
          "output_type": "display_data",
          "data": {
            "text/html": [
              "788"
            ],
            "text/markdown": "788",
            "text/latex": "788",
            "text/plain": [
              "[1] 788"
            ]
          },
          "metadata": {}
        }
      ]
    },
    {
      "cell_type": "code",
      "source": [
        "mediana = median(dados$Renda)\n",
        "mediana"
      ],
      "metadata": {
        "colab": {
          "base_uri": "https://localhost:8080/",
          "height": 34
        },
        "id": "gcYpByBa7LN4",
        "outputId": "4d722508-b6d2-4a21-e468-e6f875639cec"
      },
      "execution_count": null,
      "outputs": [
        {
          "output_type": "display_data",
          "data": {
            "text/html": [
              "1200"
            ],
            "text/markdown": "1200",
            "text/latex": "1200",
            "text/plain": [
              "[1] 1200"
            ]
          },
          "metadata": {}
        }
      ]
    },
    {
      "cell_type": "code",
      "source": [
        "media = mean(dados$Renda)\n",
        "media"
      ],
      "metadata": {
        "colab": {
          "base_uri": "https://localhost:8080/",
          "height": 34
        },
        "id": "otUTANtJ7LVC",
        "outputId": "e6516334-4cc8-4241-d65d-e6dec973514f"
      },
      "execution_count": null,
      "outputs": [
        {
          "output_type": "display_data",
          "data": {
            "text/html": [
              "2000.38319885476"
            ],
            "text/markdown": "2000.38319885476",
            "text/latex": "2000.38319885476",
            "text/plain": [
              "[1] 2000.383"
            ]
          },
          "metadata": {}
        }
      ]
    },
    {
      "cell_type": "code",
      "source": [
        "moda < mediana\n",
        "mediana < media\n",
        "#Temos uma distribuição assimetrica a direita"
      ],
      "metadata": {
        "colab": {
          "base_uri": "https://localhost:8080/",
          "height": 52
        },
        "id": "K6XCkYC97Lbm",
        "outputId": "6a550cb4-4db6-45f5-856d-cca08d64fdb7"
      },
      "execution_count": null,
      "outputs": [
        {
          "output_type": "display_data",
          "data": {
            "text/html": [
              "TRUE"
            ],
            "text/markdown": "TRUE",
            "text/latex": "TRUE",
            "text/plain": [
              "[1] TRUE"
            ]
          },
          "metadata": {}
        },
        {
          "output_type": "display_data",
          "data": {
            "text/html": [
              "TRUE"
            ],
            "text/markdown": "TRUE",
            "text/latex": "TRUE",
            "text/plain": [
              "[1] TRUE"
            ]
          },
          "metadata": {}
        }
      ]
    },
    {
      "cell_type": "markdown",
      "source": [
        "### Avaliando a variável ALTURA"
      ],
      "metadata": {
        "id": "UWVRNIY17phf"
      }
    },
    {
      "cell_type": "code",
      "source": [
        " ggplot(dados, aes(x = Altura, y = ..density..)) +\n",
        "  geom_histogram() +\n",
        "  geom_density(color = 'green')"
      ],
      "metadata": {
        "colab": {
          "base_uri": "https://localhost:8080/",
          "height": 334
        },
        "id": "xQUDjBcY7oyg",
        "outputId": "4889ca36-9de8-4695-8965-c79677f475e9"
      },
      "execution_count": null,
      "outputs": [
        {
          "output_type": "stream",
          "name": "stderr",
          "text": [
            "\u001b[1m\u001b[22m`stat_bin()` using `bins = 30`. Pick better value with `binwidth`.\n"
          ]
        },
        {
          "output_type": "display_data",
          "data": {
            "text/plain": [
              "plot without title"
            ],
            "image/png": "[encoded data removed]"
          },
          "metadata": {
            "image/png": {
              "width": 600,
              "height": 300
            }
          }
        }
      ]
    },
    {
      "cell_type": "code",
      "source": [
        "moda = as.numeric(Moda(dados$Altura))\n",
        "moda"
      ],
      "metadata": {
        "colab": {
          "base_uri": "https://localhost:8080/",
          "height": 34
        },
        "id": "6nATW0Hx7o1s",
        "outputId": "b65c501b-6f56-4dde-850e-3411543f6848"
      },
      "execution_count": null,
      "outputs": [
        {
          "output_type": "display_data",
          "data": {
            "text/html": [
              "<style>\n",
              ".list-inline {list-style: none; margin:0; padding: 0}\n",
              ".list-inline>li {display: inline-block}\n",
              ".list-inline>li:not(:last-child)::after {content: \"\\00b7\"; padding: 0 .5ex}\n",
              "</style>\n",
              "<ol class=list-inline><li>1.56812756</li><li>1.671224912</li><li>1.681659101</li><li>1.692976729</li><li>1.708162716</li><li>1.708369705</li><li>1.753841591</li><li>1.779072545</li><li>1.796462296</li></ol>\n"
            ],
            "text/markdown": "1. 1.56812756\n2. 1.671224912\n3. 1.681659101\n4. 1.692976729\n5. 1.708162716\n6. 1.708369705\n7. 1.753841591\n8. 1.779072545\n9. 1.796462296\n\n\n",
            "text/latex": "\\begin{enumerate*}\n\\item 1.56812756\n\\item 1.671224912\n\\item 1.681659101\n\\item 1.692976729\n\\item 1.708162716\n\\item 1.708369705\n\\item 1.753841591\n\\item 1.779072545\n\\item 1.796462296\n\\end{enumerate*}\n",
            "text/plain": [
              "[1] 1.568128 1.671225 1.681659 1.692977 1.708163 1.708370 1.753842 1.779073\n",
              "[9] 1.796462"
            ]
          },
          "metadata": {}
        }
      ]
    },
    {
      "cell_type": "code",
      "source": [
        "mediana = median(dados$Altura)\n",
        "mediana"
      ],
      "metadata": {
        "colab": {
          "base_uri": "https://localhost:8080/",
          "height": 34
        },
        "id": "DWP5lvyr7o4V",
        "outputId": "973efb43-9947-4bb0-abe1-01ed112474ad"
      },
      "execution_count": null,
      "outputs": [
        {
          "output_type": "display_data",
          "data": {
            "text/html": [
              "1.6993247325"
            ],
            "text/markdown": "1.6993247325",
            "text/latex": "1.6993247325",
            "text/plain": [
              "[1] 1.699325"
            ]
          },
          "metadata": {}
        }
      ]
    },
    {
      "cell_type": "code",
      "source": [
        "media = mean(dados$Altura)\n",
        "media\n",
        "#Não é exatamente perfeito, mas temos uma simetria"
      ],
      "metadata": {
        "colab": {
          "base_uri": "https://localhost:8080/",
          "height": 34
        },
        "id": "V3sqtHz27o9r",
        "outputId": "712e6d52-ae9c-4da5-fc51-2973b9c65151"
      },
      "execution_count": null,
      "outputs": [
        {
          "output_type": "display_data",
          "data": {
            "text/html": [
              "1.69951245405757"
            ],
            "text/markdown": "1.69951245405757",
            "text/latex": "1.69951245405757",
            "text/plain": [
              "[1] 1.699512"
            ]
          },
          "metadata": {}
        }
      ]
    },
    {
      "cell_type": "markdown",
      "source": [
        "### Avaliando a variavel ANOS DE ESTUDO"
      ],
      "metadata": {
        "id": "q2gRySoU8LKo"
      }
    },
    {
      "cell_type": "code",
      "source": [
        " ggplot(dados, aes(x = Anos.de.Estudo, y = ..density..)) +\n",
        "  geom_histogram() +\n",
        "  geom_density(color = 'green')"
      ],
      "metadata": {
        "colab": {
          "base_uri": "https://localhost:8080/",
          "height": 334
        },
        "id": "fiVxoePa7pAL",
        "outputId": "5fc979a2-40fd-43c3-b575-9ce064ee72c5"
      },
      "execution_count": null,
      "outputs": [
        {
          "output_type": "stream",
          "name": "stderr",
          "text": [
            "\u001b[1m\u001b[22m`stat_bin()` using `bins = 30`. Pick better value with `binwidth`.\n"
          ]
        },
        {
          "output_type": "display_data",
          "data": {
            "text/plain": [
              "plot without title"
            ],
            "image/png": "[encoded data removed]"
          },
          "metadata": {
            "image/png": {
              "width": 600,
              "height": 300
            }
          }
        }
      ]
    },
    {
      "cell_type": "code",
      "source": [
        "moda = as.numeric(Moda(dados$Anos.de.Estudo))\n",
        "moda"
      ],
      "metadata": {
        "colab": {
          "base_uri": "https://localhost:8080/",
          "height": 34
        },
        "id": "Gr6Zm72w8S-D",
        "outputId": "15e3961b-1263-4207-a991-9041146b2aaf"
      },
      "execution_count": null,
      "outputs": [
        {
          "output_type": "display_data",
          "data": {
            "text/html": [
              "12"
            ],
            "text/markdown": "12",
            "text/latex": "12",
            "text/plain": [
              "[1] 12"
            ]
          },
          "metadata": {}
        }
      ]
    },
    {
      "cell_type": "code",
      "source": [
        "mediana = median(dados$Anos.de.Estudo)\n",
        "mediana"
      ],
      "metadata": {
        "colab": {
          "base_uri": "https://localhost:8080/",
          "height": 34
        },
        "id": "nI0TXTh-8TDi",
        "outputId": "2fd35285-c44f-4dcb-c920-c7b9654e9ad3"
      },
      "execution_count": null,
      "outputs": [
        {
          "output_type": "display_data",
          "data": {
            "text/html": [
              "11"
            ],
            "text/markdown": "11",
            "text/latex": "11",
            "text/plain": [
              "[1] 11"
            ]
          },
          "metadata": {}
        }
      ]
    },
    {
      "cell_type": "code",
      "source": [
        "media = mean(dados$Anos.de.Estudo)\n",
        "media"
      ],
      "metadata": {
        "colab": {
          "base_uri": "https://localhost:8080/",
          "height": 34
        },
        "id": "LOAW2aub8TGZ",
        "outputId": "2813e8be-9db0-442e-d666-dc2ed7686fc7"
      },
      "execution_count": null,
      "outputs": [
        {
          "output_type": "display_data",
          "data": {
            "text/html": [
              "9.46966423737637"
            ],
            "text/markdown": "9.46966423737637",
            "text/latex": "9.46966423737637",
            "text/plain": [
              "[1] 9.469664"
            ]
          },
          "metadata": {}
        }
      ]
    },
    {
      "cell_type": "code",
      "source": [
        "#Temos uma assimetria a esquerda\n",
        "moda > mediana\n",
        "mediana > media"
      ],
      "metadata": {
        "colab": {
          "base_uri": "https://localhost:8080/",
          "height": 52
        },
        "id": "Jcrn3Ymx8TJB",
        "outputId": "fd15853f-22c1-4847-f738-08a643d09494"
      },
      "execution_count": null,
      "outputs": [
        {
          "output_type": "display_data",
          "data": {
            "text/html": [
              "TRUE"
            ],
            "text/markdown": "TRUE",
            "text/latex": "TRUE",
            "text/plain": [
              "[1] TRUE"
            ]
          },
          "metadata": {}
        },
        {
          "output_type": "display_data",
          "data": {
            "text/html": [
              "TRUE"
            ],
            "text/markdown": "TRUE",
            "text/latex": "TRUE",
            "text/plain": [
              "[1] TRUE"
            ]
          },
          "metadata": {}
        }
      ]
    },
    {
      "cell_type": "markdown",
      "source": [
        "# <font color=green>4 MEDIDAS SEPARATRIZES</font>\n",
        "***"
      ],
      "metadata": {
        "id": "5RGH8lWOwzu3"
      }
    },
    {
      "cell_type": "markdown",
      "source": [
        "## <font color=green>4.1 Quartis, decis e percentis</font>\n",
        "***\n",
        "\n",
        "Há uma série de medidas de posição semelhantes na sua concepção à mediana, embora não sejam medidas de tendência central. Como se sabe, a mediana divide a distribuição em duas partes iguais quanto ao número de elementos de cada parte. Já os quartis permitem dividir a distribuição em quatro partes iguais quanto ao número de elementos de cada uma; os decis em dez partes e os centis em cem partes iguais."
      ],
      "metadata": {
        "id": "RVSZhtG9w1Ux"
      }
    },
    {
      "cell_type": "markdown",
      "source": [
        "### <font color=red>Documentações:\n",
        "\n",
        "- [**quantile**](https://www.rdocumentation.org/packages/stats/versions/3.6.1/topics/quantile)\n",
        "- [**for**](https://www.rdocumentation.org/packages/base/versions/3.6.1/topics/Control)\n",
        "- [**length**](https://www.rdocumentation.org/packages/base/versions/3.6.1/topics/length)"
      ],
      "metadata": {
        "id": "KzICuypdw1ee"
      }
    },
    {
      "cell_type": "code",
      "source": [
        "#quartis, tem 4 partes, precisamos de 3 divisores\n",
        "quantile(dados$Renda, c(0.25, 0.5, 0.75))"
      ],
      "metadata": {
        "colab": {
          "base_uri": "https://localhost:8080/",
          "height": 34
        },
        "id": "_7Fwt41qyyNt",
        "outputId": "4efc8dd0-6b54-40e7-a701-a7a1694b93b8"
      },
      "execution_count": null,
      "outputs": [
        {
          "output_type": "display_data",
          "data": {
            "text/html": [
              "<style>\n",
              ".dl-inline {width: auto; margin:0; padding: 0}\n",
              ".dl-inline>dt, .dl-inline>dd {float: none; width: auto; display: inline-block}\n",
              ".dl-inline>dt::after {content: \":\\0020\"; padding-right: .5ex}\n",
              ".dl-inline>dt:not(:first-of-type) {padding-left: .5ex}\n",
              "</style><dl class=dl-inline><dt>25%</dt><dd>788</dd><dt>50%</dt><dd>1200</dd><dt>75%</dt><dd>2000</dd></dl>\n"
            ],
            "text/markdown": "25%\n:   78850%\n:   120075%\n:   2000\n\n",
            "text/latex": "\\begin{description*}\n\\item[25\\textbackslash{}\\%] 788\n\\item[50\\textbackslash{}\\%] 1200\n\\item[75\\textbackslash{}\\%] 2000\n\\end{description*}\n",
            "text/plain": [
              " 25%  50%  75% \n",
              " 788 1200 2000 "
            ]
          },
          "metadata": {}
        }
      ]
    },
    {
      "cell_type": "code",
      "source": [
        "#for\n",
        "for(i in 1:9){\n",
        "  print(i)\n",
        "}"
      ],
      "metadata": {
        "colab": {
          "base_uri": "https://localhost:8080/"
        },
        "id": "ykQaK3A5yyoh",
        "outputId": "170f2c1e-4414-44b0-de00-4d52955511ad"
      },
      "execution_count": null,
      "outputs": [
        {
          "output_type": "stream",
          "name": "stdout",
          "text": [
            "[1] 1\n",
            "[1] 2\n",
            "[1] 3\n",
            "[1] 4\n",
            "[1] 5\n",
            "[1] 6\n",
            "[1] 7\n",
            "[1] 8\n",
            "[1] 9\n"
          ]
        }
      ]
    },
    {
      "cell_type": "code",
      "source": [
        "#decis\n",
        "decis = c()\n",
        "for(i in 1:9){\n",
        "  decis = c(decis, i / 10)\n",
        "}\n",
        "decis"
      ],
      "metadata": {
        "colab": {
          "base_uri": "https://localhost:8080/",
          "height": 34
        },
        "id": "K5Hbt4VJyytc",
        "outputId": "85863e77-61ca-4d7f-9d29-bef003a57d2c"
      },
      "execution_count": null,
      "outputs": [
        {
          "output_type": "display_data",
          "data": {
            "text/html": [
              "<style>\n",
              ".list-inline {list-style: none; margin:0; padding: 0}\n",
              ".list-inline>li {display: inline-block}\n",
              ".list-inline>li:not(:last-child)::after {content: \"\\00b7\"; padding: 0 .5ex}\n",
              "</style>\n",
              "<ol class=list-inline><li>0.1</li><li>0.2</li><li>0.3</li><li>0.4</li><li>0.5</li><li>0.6</li><li>0.7</li><li>0.8</li><li>0.9</li></ol>\n"
            ],
            "text/markdown": "1. 0.1\n2. 0.2\n3. 0.3\n4. 0.4\n5. 0.5\n6. 0.6\n7. 0.7\n8. 0.8\n9. 0.9\n\n\n",
            "text/latex": "\\begin{enumerate*}\n\\item 0.1\n\\item 0.2\n\\item 0.3\n\\item 0.4\n\\item 0.5\n\\item 0.6\n\\item 0.7\n\\item 0.8\n\\item 0.9\n\\end{enumerate*}\n",
            "text/plain": [
              "[1] 0.1 0.2 0.3 0.4 0.5 0.6 0.7 0.8 0.9"
            ]
          },
          "metadata": {}
        }
      ]
    },
    {
      "cell_type": "code",
      "source": [
        "#decis\n",
        "quantile(dados$Renda, decis)"
      ],
      "metadata": {
        "colab": {
          "base_uri": "https://localhost:8080/",
          "height": 34
        },
        "id": "7nXxdbG_0YV2",
        "outputId": "92830713-b172-4686-a063-8874b019a3f4"
      },
      "execution_count": null,
      "outputs": [
        {
          "output_type": "display_data",
          "data": {
            "text/html": [
              "<style>\n",
              ".dl-inline {width: auto; margin:0; padding: 0}\n",
              ".dl-inline>dt, .dl-inline>dd {float: none; width: auto; display: inline-block}\n",
              ".dl-inline>dt::after {content: \":\\0020\"; padding-right: .5ex}\n",
              ".dl-inline>dt:not(:first-of-type) {padding-left: .5ex}\n",
              "</style><dl class=dl-inline><dt>10%</dt><dd>350</dd><dt>20%</dt><dd>788</dd><dt>30%</dt><dd>800</dd><dt>40%</dt><dd>1000</dd><dt>50%</dt><dd>1200</dd><dt>60%</dt><dd>1500</dd><dt>70%</dt><dd>1900</dd><dt>80%</dt><dd>2500</dd><dt>90%</dt><dd>4000</dd></dl>\n"
            ],
            "text/markdown": "10%\n:   35020%\n:   78830%\n:   80040%\n:   100050%\n:   120060%\n:   150070%\n:   190080%\n:   250090%\n:   4000\n\n",
            "text/latex": "\\begin{description*}\n\\item[10\\textbackslash{}\\%] 350\n\\item[20\\textbackslash{}\\%] 788\n\\item[30\\textbackslash{}\\%] 800\n\\item[40\\textbackslash{}\\%] 1000\n\\item[50\\textbackslash{}\\%] 1200\n\\item[60\\textbackslash{}\\%] 1500\n\\item[70\\textbackslash{}\\%] 1900\n\\item[80\\textbackslash{}\\%] 2500\n\\item[90\\textbackslash{}\\%] 4000\n\\end{description*}\n",
            "text/plain": [
              " 10%  20%  30%  40%  50%  60%  70%  80%  90% \n",
              " 350  788  800 1000 1200 1500 1900 2500 4000 "
            ]
          },
          "metadata": {}
        }
      ]
    },
    {
      "cell_type": "code",
      "source": [
        "#centis\n",
        "centis = c()\n",
        "for(i in 1:99){\n",
        "  centis = c(centis, i / 100)\n",
        "}\n",
        "quantile(dados$Renda, centis)"
      ],
      "metadata": {
        "colab": {
          "base_uri": "https://localhost:8080/",
          "height": 156
        },
        "id": "eYw2xMOd0dRP",
        "outputId": "c05a60a1-c12d-4a2c-90ec-46d9a347b548"
      },
      "execution_count": null,
      "outputs": [
        {
          "output_type": "display_data",
          "data": {
            "text/html": [
              "<style>\n",
              ".dl-inline {width: auto; margin:0; padding: 0}\n",
              ".dl-inline>dt, .dl-inline>dd {float: none; width: auto; display: inline-block}\n",
              ".dl-inline>dt::after {content: \":\\0020\"; padding-right: .5ex}\n",
              ".dl-inline>dt:not(:first-of-type) {padding-left: .5ex}\n",
              "</style><dl class=dl-inline><dt>1%</dt><dd>0</dd><dt>2%</dt><dd>0</dd><dt>3%</dt><dd>0</dd><dt>4%</dt><dd>50</dd><dt>5%</dt><dd>100</dd><dt>6%</dt><dd>180</dd><dt>7%</dt><dd>200</dd><dt>8%</dt><dd>280</dd><dt>9%</dt><dd>300</dd><dt>10%</dt><dd>350</dd><dt>11%</dt><dd>400</dd><dt>12%</dt><dd>400</dd><dt>13%</dt><dd>480</dd><dt>14%</dt><dd>500</dd><dt>15%</dt><dd>500</dd><dt>16%</dt><dd>600</dd><dt>17%</dt><dd>600</dd><dt>18%</dt><dd>700</dd><dt>19%</dt><dd>700</dd><dt>20%</dt><dd>788</dd><dt>21%</dt><dd>788</dd><dt>22%</dt><dd>788</dd><dt>23%</dt><dd>788</dd><dt>24%</dt><dd>788</dd><dt>25%</dt><dd>788</dd><dt>26%</dt><dd>788</dd><dt>27%</dt><dd>788</dd><dt>28%</dt><dd>788</dd><dt>29%</dt><dd>789</dd><dt>30%</dt><dd>800</dd><dt>31%</dt><dd>800</dd><dt>32%</dt><dd>800</dd><dt>33%</dt><dd>840</dd><dt>34%</dt><dd>870</dd><dt>35%</dt><dd>900</dd><dt>36%</dt><dd>900</dd><dt>37%</dt><dd>920</dd><dt>38%</dt><dd>970</dd><dt>39%</dt><dd>1000</dd><dt>40%</dt><dd>1000</dd><dt>41%</dt><dd>1000</dd><dt>42%</dt><dd>1000</dd><dt>43%</dt><dd>1000</dd><dt>44%</dt><dd>1014</dd><dt>45%</dt><dd>1100</dd><dt>46%</dt><dd>1100</dd><dt>47%</dt><dd>1150</dd><dt>48%</dt><dd>1200</dd><dt>49%</dt><dd>1200</dd><dt>50%</dt><dd>1200</dd><dt>51%</dt><dd>1200</dd><dt>52%</dt><dd>1200</dd><dt>53%</dt><dd>1200</dd><dt>54%</dt><dd>1300</dd><dt>55%</dt><dd>1300</dd><dt>56%</dt><dd>1350</dd><dt>57%</dt><dd>1400</dd><dt>58%</dt><dd>1490</dd><dt>59%</dt><dd>1500</dd><dt>60%</dt><dd>1500</dd><dt>61%</dt><dd>1500</dd><dt>62%</dt><dd>1500</dd><dt>63%</dt><dd>1500</dd><dt>64%</dt><dd>1520</dd><dt>65%</dt><dd>1600</dd><dt>66%</dt><dd>1600</dd><dt>67%</dt><dd>1700</dd><dt>68%</dt><dd>1800</dd><dt>69%</dt><dd>1800</dd><dt>70%</dt><dd>1900</dd><dt>71%</dt><dd>2000</dd><dt>72%</dt><dd>2000</dd><dt>73%</dt><dd>2000</dd><dt>74%</dt><dd>2000</dd><dt>75%</dt><dd>2000</dd><dt>76%</dt><dd>2000</dd><dt>77%</dt><dd>2200</dd><dt>78%</dt><dd>2300</dd><dt>79%</dt><dd>2400</dd><dt>80%</dt><dd>2500</dd><dt>81%</dt><dd>2500</dd><dt>82%</dt><dd>2600</dd><dt>83%</dt><dd>3000</dd><dt>84%</dt><dd>3000</dd><dt>85%</dt><dd>3000</dd><dt>86%</dt><dd>3000</dd><dt>87%</dt><dd>3400</dd><dt>88%</dt><dd>3500</dd><dt>89%</dt><dd>4000</dd><dt>90%</dt><dd>4000</dd><dt>91%</dt><dd>4200</dd><dt>92%</dt><dd>5000</dd><dt>93%</dt><dd>5000</dd><dt>94%</dt><dd>5400</dd><dt>95%</dt><dd>6000</dd><dt>96%</dt><dd>7000</dd><dt>97%</dt><dd>8000</dd><dt>98%</dt><dd>10000</dd><dt>99%</dt><dd>15000</dd></dl>\n"
            ],
            "text/markdown": "1%\n:   02%\n:   03%\n:   04%\n:   505%\n:   1006%\n:   1807%\n:   2008%\n:   2809%\n:   30010%\n:   35011%\n:   40012%\n:   40013%\n:   48014%\n:   50015%\n:   50016%\n:   60017%\n:   60018%\n:   70019%\n:   70020%\n:   78821%\n:   78822%\n:   78823%\n:   78824%\n:   78825%\n:   78826%\n:   78827%\n:   78828%\n:   78829%\n:   78930%\n:   80031%\n:   80032%\n:   80033%\n:   84034%\n:   87035%\n:   90036%\n:   90037%\n:   92038%\n:   97039%\n:   100040%\n:   100041%\n:   100042%\n:   100043%\n:   100044%\n:   101445%\n:   110046%\n:   110047%\n:   115048%\n:   120049%\n:   120050%\n:   120051%\n:   120052%\n:   120053%\n:   120054%\n:   130055%\n:   130056%\n:   135057%\n:   140058%\n:   149059%\n:   150060%\n:   150061%\n:   150062%\n:   150063%\n:   150064%\n:   152065%\n:   160066%\n:   160067%\n:   170068%\n:   180069%\n:   180070%\n:   190071%\n:   200072%\n:   200073%\n:   200074%\n:   200075%\n:   200076%\n:   200077%\n:   220078%\n:   230079%\n:   240080%\n:   250081%\n:   250082%\n:   260083%\n:   300084%\n:   300085%\n:   300086%\n:   300087%\n:   340088%\n:   350089%\n:   400090%\n:   400091%\n:   420092%\n:   500093%\n:   500094%\n:   540095%\n:   600096%\n:   700097%\n:   800098%\n:   1000099%\n:   15000\n\n",
            "text/latex": "\\begin{description*}\n\\item[1\\textbackslash{}\\%] 0\n\\item[2\\textbackslash{}\\%] 0\n\\item[3\\textbackslash{}\\%] 0\n\\item[4\\textbackslash{}\\%] 50\n\\item[5\\textbackslash{}\\%] 100\n\\item[6\\textbackslash{}\\%] 180\n\\item[7\\textbackslash{}\\%] 200\n\\item[8\\textbackslash{}\\%] 280\n\\item[9\\textbackslash{}\\%] 300\n\\item[10\\textbackslash{}\\%] 350\n\\item[11\\textbackslash{}\\%] 400\n\\item[12\\textbackslash{}\\%] 400\n\\item[13\\textbackslash{}\\%] 480\n\\item[14\\textbackslash{}\\%] 500\n\\item[15\\textbackslash{}\\%] 500\n\\item[16\\textbackslash{}\\%] 600\n\\item[17\\textbackslash{}\\%] 600\n\\item[18\\textbackslash{}\\%] 700\n\\item[19\\textbackslash{}\\%] 700\n\\item[20\\textbackslash{}\\%] 788\n\\item[21\\textbackslash{}\\%] 788\n\\item[22\\textbackslash{}\\%] 788\n\\item[23\\textbackslash{}\\%] 788\n\\item[24\\textbackslash{}\\%] 788\n\\item[25\\textbackslash{}\\%] 788\n\\item[26\\textbackslash{}\\%] 788\n\\item[27\\textbackslash{}\\%] 788\n\\item[28\\textbackslash{}\\%] 788\n\\item[29\\textbackslash{}\\%] 789\n\\item[30\\textbackslash{}\\%] 800\n\\item[31\\textbackslash{}\\%] 800\n\\item[32\\textbackslash{}\\%] 800\n\\item[33\\textbackslash{}\\%] 840\n\\item[34\\textbackslash{}\\%] 870\n\\item[35\\textbackslash{}\\%] 900\n\\item[36\\textbackslash{}\\%] 900\n\\item[37\\textbackslash{}\\%] 920\n\\item[38\\textbackslash{}\\%] 970\n\\item[39\\textbackslash{}\\%] 1000\n\\item[40\\textbackslash{}\\%] 1000\n\\item[41\\textbackslash{}\\%] 1000\n\\item[42\\textbackslash{}\\%] 1000\n\\item[43\\textbackslash{}\\%] 1000\n\\item[44\\textbackslash{}\\%] 1014\n\\item[45\\textbackslash{}\\%] 1100\n\\item[46\\textbackslash{}\\%] 1100\n\\item[47\\textbackslash{}\\%] 1150\n\\item[48\\textbackslash{}\\%] 1200\n\\item[49\\textbackslash{}\\%] 1200\n\\item[50\\textbackslash{}\\%] 1200\n\\item[51\\textbackslash{}\\%] 1200\n\\item[52\\textbackslash{}\\%] 1200\n\\item[53\\textbackslash{}\\%] 1200\n\\item[54\\textbackslash{}\\%] 1300\n\\item[55\\textbackslash{}\\%] 1300\n\\item[56\\textbackslash{}\\%] 1350\n\\item[57\\textbackslash{}\\%] 1400\n\\item[58\\textbackslash{}\\%] 1490\n\\item[59\\textbackslash{}\\%] 1500\n\\item[60\\textbackslash{}\\%] 1500\n\\item[61\\textbackslash{}\\%] 1500\n\\item[62\\textbackslash{}\\%] 1500\n\\item[63\\textbackslash{}\\%] 1500\n\\item[64\\textbackslash{}\\%] 1520\n\\item[65\\textbackslash{}\\%] 1600\n\\item[66\\textbackslash{}\\%] 1600\n\\item[67\\textbackslash{}\\%] 1700\n\\item[68\\textbackslash{}\\%] 1800\n\\item[69\\textbackslash{}\\%] 1800\n\\item[70\\textbackslash{}\\%] 1900\n\\item[71\\textbackslash{}\\%] 2000\n\\item[72\\textbackslash{}\\%] 2000\n\\item[73\\textbackslash{}\\%] 2000\n\\item[74\\textbackslash{}\\%] 2000\n\\item[75\\textbackslash{}\\%] 2000\n\\item[76\\textbackslash{}\\%] 2000\n\\item[77\\textbackslash{}\\%] 2200\n\\item[78\\textbackslash{}\\%] 2300\n\\item[79\\textbackslash{}\\%] 2400\n\\item[80\\textbackslash{}\\%] 2500\n\\item[81\\textbackslash{}\\%] 2500\n\\item[82\\textbackslash{}\\%] 2600\n\\item[83\\textbackslash{}\\%] 3000\n\\item[84\\textbackslash{}\\%] 3000\n\\item[85\\textbackslash{}\\%] 3000\n\\item[86\\textbackslash{}\\%] 3000\n\\item[87\\textbackslash{}\\%] 3400\n\\item[88\\textbackslash{}\\%] 3500\n\\item[89\\textbackslash{}\\%] 4000\n\\item[90\\textbackslash{}\\%] 4000\n\\item[91\\textbackslash{}\\%] 4200\n\\item[92\\textbackslash{}\\%] 5000\n\\item[93\\textbackslash{}\\%] 5000\n\\item[94\\textbackslash{}\\%] 5400\n\\item[95\\textbackslash{}\\%] 6000\n\\item[96\\textbackslash{}\\%] 7000\n\\item[97\\textbackslash{}\\%] 8000\n\\item[98\\textbackslash{}\\%] 10000\n\\item[99\\textbackslash{}\\%] 15000\n\\end{description*}\n",
            "text/plain": [
              "   1%    2%    3%    4%    5%    6%    7%    8%    9%   10%   11%   12%   13% \n",
              "    0     0     0    50   100   180   200   280   300   350   400   400   480 \n",
              "  14%   15%   16%   17%   18%   19%   20%   21%   22%   23%   24%   25%   26% \n",
              "  500   500   600   600   700   700   788   788   788   788   788   788   788 \n",
              "  27%   28%   29%   30%   31%   32%   33%   34%   35%   36%   37%   38%   39% \n",
              "  788   788   789   800   800   800   840   870   900   900   920   970  1000 \n",
              "  40%   41%   42%   43%   44%   45%   46%   47%   48%   49%   50%   51%   52% \n",
              " 1000  1000  1000  1000  1014  1100  1100  1150  1200  1200  1200  1200  1200 \n",
              "  53%   54%   55%   56%   57%   58%   59%   60%   61%   62%   63%   64%   65% \n",
              " 1200  1300  1300  1350  1400  1490  1500  1500  1500  1500  1500  1520  1600 \n",
              "  66%   67%   68%   69%   70%   71%   72%   73%   74%   75%   76%   77%   78% \n",
              " 1600  1700  1800  1800  1900  2000  2000  2000  2000  2000  2000  2200  2300 \n",
              "  79%   80%   81%   82%   83%   84%   85%   86%   87%   88%   89%   90%   91% \n",
              " 2400  2500  2500  2600  3000  3000  3000  3000  3400  3500  4000  4000  4200 \n",
              "  92%   93%   94%   95%   96%   97%   98%   99% \n",
              " 5000  5000  5400  6000  7000  8000 10000 15000 "
            ]
          },
          "metadata": {}
        }
      ]
    },
    {
      "cell_type": "code",
      "source": [
        "ggplot(data = dados, aes(x = Idade)) +\n",
        "    geom_histogram(\n",
        "        aes(y = cumsum(..count..)/sum(..count..)),\n",
        "        bins = 10\n",
        "    ) +\n",
        "    geom_freqpoly(\n",
        "        aes(y = cumsum(..count..)/sum(..count..)),\n",
        "        color = 'green'\n",
        "    )"
      ],
      "metadata": {
        "colab": {
          "base_uri": "https://localhost:8080/",
          "height": 334
        },
        "id": "QCXhQ6JE0dV5",
        "outputId": "3f0a1a68-c7f8-43b8-988b-8626cb759137"
      },
      "execution_count": null,
      "outputs": [
        {
          "output_type": "stream",
          "name": "stderr",
          "text": [
            "\u001b[1m\u001b[22m`stat_bin()` using `bins = 30`. Pick better value with `binwidth`.\n"
          ]
        },
        {
          "output_type": "display_data",
          "data": {
            "text/plain": [
              "plot without title"
            ],
            "image/png": "[encoded data removed]"
          },
          "metadata": {
            "image/png": {
              "width": 600,
              "height": 300
            }
          }
        }
      ]
    },
    {
      "cell_type": "code",
      "source": [
        "decis = c()\n",
        "for(i in 1:9){\n",
        "  decis = c(decis, i / 10)\n",
        "}\n",
        "quantile(dados$Idade, decis)"
      ],
      "metadata": {
        "colab": {
          "base_uri": "https://localhost:8080/",
          "height": 34
        },
        "id": "S3DXz8oI0dah",
        "outputId": "e68cac9d-4ef4-4ade-82bd-a37fbba9940d"
      },
      "execution_count": null,
      "outputs": [
        {
          "output_type": "display_data",
          "data": {
            "text/html": [
              "<style>\n",
              ".dl-inline {width: auto; margin:0; padding: 0}\n",
              ".dl-inline>dt, .dl-inline>dd {float: none; width: auto; display: inline-block}\n",
              ".dl-inline>dt::after {content: \":\\0020\"; padding-right: .5ex}\n",
              ".dl-inline>dt:not(:first-of-type) {padding-left: .5ex}\n",
              "</style><dl class=dl-inline><dt>10%</dt><dd>28</dd><dt>20%</dt><dd>33</dd><dt>30%</dt><dd>36</dd><dt>40%</dt><dd>40</dd><dt>50%</dt><dd>43</dd><dt>60%</dt><dd>47</dd><dt>70%</dt><dd>51</dd><dt>80%</dt><dd>55</dd><dt>90%</dt><dd>61</dd></dl>\n"
            ],
            "text/markdown": "10%\n:   2820%\n:   3330%\n:   3640%\n:   4050%\n:   4360%\n:   4770%\n:   5180%\n:   5590%\n:   61\n\n",
            "text/latex": "\\begin{description*}\n\\item[10\\textbackslash{}\\%] 28\n\\item[20\\textbackslash{}\\%] 33\n\\item[30\\textbackslash{}\\%] 36\n\\item[40\\textbackslash{}\\%] 40\n\\item[50\\textbackslash{}\\%] 43\n\\item[60\\textbackslash{}\\%] 47\n\\item[70\\textbackslash{}\\%] 51\n\\item[80\\textbackslash{}\\%] 55\n\\item[90\\textbackslash{}\\%] 61\n\\end{description*}\n",
            "text/plain": [
              "10% 20% 30% 40% 50% 60% 70% 80% 90% \n",
              " 28  33  36  40  43  47  51  55  61 "
            ]
          },
          "metadata": {}
        }
      ]
    },
    {
      "cell_type": "markdown",
      "source": [
        "### Classificação percentual"
      ],
      "metadata": {
        "id": "Zg8CRXSD1sxV"
      }
    },
    {
      "cell_type": "code",
      "source": [
        "length(dados$Idade[dados$Idade <= 40]) / length(dados$Idade) * 100"
      ],
      "metadata": {
        "colab": {
          "base_uri": "https://localhost:8080/",
          "height": 34
        },
        "id": "2HXg9f8j1vk8",
        "outputId": "b8e9f4d9-9b45-4f7f-dafd-bb1e15b87023"
      },
      "execution_count": null,
      "outputs": [
        {
          "output_type": "display_data",
          "data": {
            "text/html": [
              "42.0757418011452"
            ],
            "text/markdown": "42.0757418011452",
            "text/latex": "42.0757418011452",
            "text/plain": [
              "[1] 42.07574"
            ]
          },
          "metadata": {}
        }
      ]
    },
    {
      "cell_type": "code",
      "source": [
        "#percentual exato de pessoas que, em 2015, ganhavam no máximo meio salário mínimo (salário mínimo em 2015: R$ 788,00)\n",
        "length(dados$Renda[dados$Renda <= 788/2 ]) / length(dados$Renda) * 100"
      ],
      "metadata": {
        "colab": {
          "base_uri": "https://localhost:8080/",
          "height": 34
        },
        "id": "HM-jpSp3peQ4",
        "outputId": "9ce9bff8-42d1-4f14-d5c5-a14d22a3cd0a"
      },
      "execution_count": null,
      "outputs": [
        {
          "output_type": "display_data",
          "data": {
            "text/html": [
              "10.6246746486205"
            ],
            "text/markdown": "10.6246746486205",
            "text/latex": "10.6246746486205",
            "text/plain": [
              "[1] 10.62467"
            ]
          },
          "metadata": {}
        }
      ]
    },
    {
      "cell_type": "markdown",
      "source": [
        "## <font color=green>4.2 Box-plot</font>\n",
        "***\n",
        "\n",
        "O box plot dá uma idéia da posição, dispersão, assimetria, caudas e dados discrepantes (outliers). A posição central é dada pela mediana e a dispersão por $IIQ$. As posições relativas de $Q1$, $Mediana$ e $Q3$ dão uma noção da simetria da distribuição. Os comprimentos das cauda são dados pelas linhas que vão do retângulo aos valores remotos e pelos valores atípicos."
      ],
      "metadata": {
        "id": "UwMwkNy8plh8"
      }
    },
    {
      "cell_type": "markdown",
      "source": [
        "#### <font color=red>Documentações:\n",
        "\n",
        "- [**geom_boxplot**](https://www.rdocumentation.org/packages/ggplot2/versions/3.2.1/topics/geom_boxplot)\n",
        "- [**factor**](https://www.rdocumentation.org/packages/base/versions/3.6.1/topics/factor)"
      ],
      "metadata": {
        "id": "3wLi0cIgpwMO"
      }
    },
    {
      "cell_type": "markdown",
      "source": [
        "<img src='https://caelum-online-public.s3.amazonaws.com/1177-estatistica-parte1/01/img005.png' width='65%'>"
      ],
      "metadata": {
        "id": "upEkMirJp5tS"
      }
    },
    {
      "cell_type": "code",
      "source": [
        "sexo = c(\n",
        "    'Masculino',\n",
        "    'Feminino'\n",
        ")\n",
        "cor = c(\n",
        "    'Indígena',\n",
        "    'Branca',\n",
        "    'Preta',\n",
        "    'Amarela',\n",
        "    'Parda'\n",
        ")\n",
        "anos_de_estudo = c(\n",
        "    'Sem instrução e menos de 1 ano',\n",
        "    '1 ano',\n",
        "    '2 anos',\n",
        "    '3 anos',\n",
        "    '4 anos',\n",
        "    '5 anos',\n",
        "    '6 anos',\n",
        "    '7 anos',\n",
        "    '8 anos',\n",
        "    '9 anos',\n",
        "    '10 anos',\n",
        "    '11 anos',\n",
        "    '12 anos',\n",
        "    '13 anos',\n",
        "    '14 anos',\n",
        "    '15 anos ou mais',\n",
        "    'Não determinados'\n",
        ")"
      ],
      "metadata": {
        "id": "QN5TzRKupwXq"
      },
      "execution_count": null,
      "outputs": []
    },
    {
      "cell_type": "code",
      "source": [
        "ggplot(data = dados, aes(x = \"\", y = Altura)) +\n",
        "    stat_boxplot(geom ='errorbar', width = 0.4) +\n",
        "    geom_boxplot(fill = '#3274A1') +\n",
        "    coord_flip() +\n",
        "    ylab(\"Metros\") +\n",
        "    xlab(\"\") +\n",
        "    ggtitle('Box-plot Alturas') +\n",
        "    formatos"
      ],
      "metadata": {
        "colab": {
          "base_uri": "https://localhost:8080/",
          "height": 317
        },
        "id": "L7_-2Et2pweE",
        "outputId": "4d9d45a2-0f28-4515-9fa0-2df2abfb0b9e"
      },
      "execution_count": null,
      "outputs": [
        {
          "output_type": "display_data",
          "data": {
            "text/plain": [
              "plot without title"
            ],
            "image/png": "[encoded data removed]"
          },
          "metadata": {
            "image/png": {
              "width": 600,
              "height": 300
            }
          }
        }
      ]
    },
    {
      "cell_type": "code",
      "source": [
        "ggplot(data = dados, aes(x = Sexo, y = Altura, group = Sexo)) +\n",
        "    stat_boxplot(geom ='errorbar', width = 0.4) +\n",
        "    geom_boxplot(fill = c('#3274A1', \"orange\")) +\n",
        "    coord_flip() +\n",
        "    ylab(\"Metros\") +\n",
        "    xlab(\"Sexo\") +\n",
        "    ggtitle('Box-plot Alturas X Sexo') +\n",
        "    formatos"
      ],
      "metadata": {
        "colab": {
          "base_uri": "https://localhost:8080/",
          "height": 317
        },
        "id": "f-sHhDyApwh0",
        "outputId": "138f99a7-58a5-423c-bdeb-8d7ee37c3446"
      },
      "execution_count": null,
      "outputs": [
        {
          "output_type": "display_data",
          "data": {
            "text/plain": [
              "plot without title"
            ],
            "image/png": "[encoded data removed]"
          },
          "metadata": {
            "image/png": {
              "width": 600,
              "height": 300
            }
          }
        }
      ]
    },
    {
      "cell_type": "code",
      "source": [
        "#tranformar a variavel sexo numerica em categorica, ou é homem ou mulher, pq na base esta como 0 ou 1\n",
        "dados$Cat.Sexo = factor(dados$Sexo)\n",
        "#vira os labels que criamos em cima, masc e fem\n",
        "levels(dados$Cat.Sexo) = sexo"
      ],
      "metadata": {
        "id": "ElMdGZVPpwk3"
      },
      "execution_count": null,
      "outputs": []
    },
    {
      "cell_type": "code",
      "source": [
        "head(dados)"
      ],
      "metadata": {
        "colab": {
          "base_uri": "https://localhost:8080/",
          "height": 286
        },
        "id": "cMszkrtXrbku",
        "outputId": "4fbf0e19-9015-47b8-d0cc-bdaf201fc268"
      },
      "execution_count": null,
      "outputs": [
        {
          "output_type": "display_data",
          "data": {
            "text/html": [
              "<table class=\"dataframe\">\n",
              "<caption>A data.frame: 6 × 8</caption>\n",
              "<thead>\n",
              "\t<tr><th></th><th scope=col>UF</th><th scope=col>Sexo</th><th scope=col>Idade</th><th scope=col>Cor</th><th scope=col>Anos.de.Estudo</th><th scope=col>Renda</th><th scope=col>Altura</th><th scope=col>Cat.Sexo</th></tr>\n",
              "\t<tr><th></th><th scope=col>&lt;int&gt;</th><th scope=col>&lt;int&gt;</th><th scope=col>&lt;int&gt;</th><th scope=col>&lt;int&gt;</th><th scope=col>&lt;int&gt;</th><th scope=col>&lt;int&gt;</th><th scope=col>&lt;dbl&gt;</th><th scope=col>&lt;fct&gt;</th></tr>\n",
              "</thead>\n",
              "<tbody>\n",
              "\t<tr><th scope=row>1</th><td>11</td><td>0</td><td>23</td><td>8</td><td>12</td><td> 800</td><td>1.603808</td><td>Masculino</td></tr>\n",
              "\t<tr><th scope=row>2</th><td>11</td><td>1</td><td>23</td><td>2</td><td>12</td><td>1150</td><td>1.739790</td><td>Feminino </td></tr>\n",
              "\t<tr><th scope=row>3</th><td>11</td><td>1</td><td>35</td><td>8</td><td>15</td><td> 880</td><td>1.760444</td><td>Feminino </td></tr>\n",
              "\t<tr><th scope=row>4</th><td>11</td><td>0</td><td>46</td><td>2</td><td> 6</td><td>3500</td><td>1.783158</td><td>Masculino</td></tr>\n",
              "\t<tr><th scope=row>5</th><td>11</td><td>1</td><td>47</td><td>8</td><td> 9</td><td> 150</td><td>1.690631</td><td>Feminino </td></tr>\n",
              "\t<tr><th scope=row>6</th><td>11</td><td>1</td><td>34</td><td>8</td><td>12</td><td> 790</td><td>1.637906</td><td>Feminino </td></tr>\n",
              "</tbody>\n",
              "</table>\n"
            ],
            "text/markdown": "\nA data.frame: 6 × 8\n\n| <!--/--> | UF &lt;int&gt; | Sexo &lt;int&gt; | Idade &lt;int&gt; | Cor &lt;int&gt; | Anos.de.Estudo &lt;int&gt; | Renda &lt;int&gt; | Altura &lt;dbl&gt; | Cat.Sexo &lt;fct&gt; |\n|---|---|---|---|---|---|---|---|---|\n| 1 | 11 | 0 | 23 | 8 | 12 |  800 | 1.603808 | Masculino |\n| 2 | 11 | 1 | 23 | 2 | 12 | 1150 | 1.739790 | Feminino  |\n| 3 | 11 | 1 | 35 | 8 | 15 |  880 | 1.760444 | Feminino  |\n| 4 | 11 | 0 | 46 | 2 |  6 | 3500 | 1.783158 | Masculino |\n| 5 | 11 | 1 | 47 | 8 |  9 |  150 | 1.690631 | Feminino  |\n| 6 | 11 | 1 | 34 | 8 | 12 |  790 | 1.637906 | Feminino  |\n\n",
            "text/latex": "A data.frame: 6 × 8\n\\begin{tabular}{r|llllllll}\n  & UF & Sexo & Idade & Cor & Anos.de.Estudo & Renda & Altura & Cat.Sexo\\\\\n  & <int> & <int> & <int> & <int> & <int> & <int> & <dbl> & <fct>\\\\\n\\hline\n\t1 & 11 & 0 & 23 & 8 & 12 &  800 & 1.603808 & Masculino\\\\\n\t2 & 11 & 1 & 23 & 2 & 12 & 1150 & 1.739790 & Feminino \\\\\n\t3 & 11 & 1 & 35 & 8 & 15 &  880 & 1.760444 & Feminino \\\\\n\t4 & 11 & 0 & 46 & 2 &  6 & 3500 & 1.783158 & Masculino\\\\\n\t5 & 11 & 1 & 47 & 8 &  9 &  150 & 1.690631 & Feminino \\\\\n\t6 & 11 & 1 & 34 & 8 & 12 &  790 & 1.637906 & Feminino \\\\\n\\end{tabular}\n",
            "text/plain": [
              "  UF Sexo Idade Cor Anos.de.Estudo Renda Altura   Cat.Sexo \n",
              "1 11 0    23    8   12              800  1.603808 Masculino\n",
              "2 11 1    23    2   12             1150  1.739790 Feminino \n",
              "3 11 1    35    8   15              880  1.760444 Feminino \n",
              "4 11 0    46    2    6             3500  1.783158 Masculino\n",
              "5 11 1    47    8    9              150  1.690631 Feminino \n",
              "6 11 1    34    8   12              790  1.637906 Feminino "
            ]
          },
          "metadata": {}
        }
      ]
    },
    {
      "cell_type": "code",
      "source": [
        "ggplot(data = dados, aes(x = Cat.Sexo, y = Altura)) +\n",
        "    stat_boxplot(geom ='errorbar', width = 0.4) +\n",
        "    geom_boxplot(fill = c('#3274A1', \"orange\")) +\n",
        "    coord_flip() +\n",
        "    ylab(\"Metros\") +\n",
        "    xlab(\"Sexo\") +\n",
        "    ggtitle('Box-plot Alturas X Sexo') +\n",
        "    formatos"
      ],
      "metadata": {
        "colab": {
          "base_uri": "https://localhost:8080/",
          "height": 317
        },
        "id": "ojoTu78Erbtq",
        "outputId": "7e481086-e2ad-4b51-d810-5454da329df4"
      },
      "execution_count": null,
      "outputs": [
        {
          "output_type": "display_data",
          "data": {
            "text/plain": [
              "plot without title"
            ],
            "image/png": "[encoded data removed]"
          },
          "metadata": {
            "image/png": {
              "width": 600,
              "height": 300
            }
          }
        }
      ]
    },
    {
      "cell_type": "code",
      "source": [
        "ggplot(data = dados[dados$Renda < 10000, ], aes(x = \"\", y = Renda)) +\n",
        "    stat_boxplot(geom ='errorbar', width = 0.4) +\n",
        "    geom_boxplot(fill = '#3274A1') +\n",
        "    coord_flip() +\n",
        "    ylab(\"R$\") +\n",
        "    xlab(\"\") +\n",
        "    ggtitle('Box-plot Renda') +\n",
        "    formatos"
      ],
      "metadata": {
        "colab": {
          "base_uri": "https://localhost:8080/",
          "height": 317
        },
        "id": "2KI5sWd3rb9t",
        "outputId": "bcda4185-5a97-4cbd-f174-f2e9dbce40da"
      },
      "execution_count": null,
      "outputs": [
        {
          "output_type": "display_data",
          "data": {
            "text/plain": [
              "plot without title"
            ],
            "image/png": "[encoded data removed]"
          },
          "metadata": {
            "image/png": {
              "width": 600,
              "height": 300
            }
          }
        }
      ]
    },
    {
      "cell_type": "code",
      "source": [
        "ggplot(data = dados[dados$Renda < 10000, ], aes(x = Cat.Sexo, y = Renda)) +\n",
        "    stat_boxplot(geom ='errorbar', width = 0.4) +\n",
        "    geom_boxplot(fill = c('#3274A1', \"orange\")) +\n",
        "    coord_flip() +\n",
        "    ylab(\"R$\") +\n",
        "    xlab(\"Sexo\") +\n",
        "    ggtitle('Box-plot Renda X Sexo') +\n",
        "    formatos"
      ],
      "metadata": {
        "colab": {
          "base_uri": "https://localhost:8080/",
          "height": 317
        },
        "id": "QMDsdPOmpwoK",
        "outputId": "06e6ac40-7913-47fe-a444-30b79f5757ca"
      },
      "execution_count": null,
      "outputs": [
        {
          "output_type": "display_data",
          "data": {
            "text/plain": [
              "plot without title"
            ],
            "image/png": "[encoded data removed]"
          },
          "metadata": {
            "image/png": {
              "width": 600,
              "height": 300
            }
          }
        }
      ]
    },
    {
      "cell_type": "code",
      "source": [
        "dados$Cat.Anos.de.Estudo = factor(dados$Anos.de.Estudo, order = TRUE) #variavel ordenada\n",
        "levels(dados$Cat.Anos.de.Estudo) = anos_de_estudo"
      ],
      "metadata": {
        "id": "2Znr3AMYr2gN"
      },
      "execution_count": null,
      "outputs": []
    },
    {
      "cell_type": "code",
      "source": [
        "head(dados)"
      ],
      "metadata": {
        "colab": {
          "base_uri": "https://localhost:8080/",
          "height": 286
        },
        "id": "f7cucLqNr2ni",
        "outputId": "325c0f96-ff98-43ad-9e50-7be0d9fafb03"
      },
      "execution_count": null,
      "outputs": [
        {
          "output_type": "display_data",
          "data": {
            "text/html": [
              "<table class=\"dataframe\">\n",
              "<caption>A data.frame: 6 × 9</caption>\n",
              "<thead>\n",
              "\t<tr><th></th><th scope=col>UF</th><th scope=col>Sexo</th><th scope=col>Idade</th><th scope=col>Cor</th><th scope=col>Anos.de.Estudo</th><th scope=col>Renda</th><th scope=col>Altura</th><th scope=col>Cat.Sexo</th><th scope=col>Cat.Anos.de.Estudo</th></tr>\n",
              "\t<tr><th></th><th scope=col>&lt;int&gt;</th><th scope=col>&lt;int&gt;</th><th scope=col>&lt;int&gt;</th><th scope=col>&lt;int&gt;</th><th scope=col>&lt;int&gt;</th><th scope=col>&lt;int&gt;</th><th scope=col>&lt;dbl&gt;</th><th scope=col>&lt;fct&gt;</th><th scope=col>&lt;ord&gt;</th></tr>\n",
              "</thead>\n",
              "<tbody>\n",
              "\t<tr><th scope=row>1</th><td>11</td><td>0</td><td>23</td><td>8</td><td>12</td><td> 800</td><td>1.603808</td><td>Masculino</td><td>11 anos</td></tr>\n",
              "\t<tr><th scope=row>2</th><td>11</td><td>1</td><td>23</td><td>2</td><td>12</td><td>1150</td><td>1.739790</td><td>Feminino </td><td>11 anos</td></tr>\n",
              "\t<tr><th scope=row>3</th><td>11</td><td>1</td><td>35</td><td>8</td><td>15</td><td> 880</td><td>1.760444</td><td>Feminino </td><td>14 anos</td></tr>\n",
              "\t<tr><th scope=row>4</th><td>11</td><td>0</td><td>46</td><td>2</td><td> 6</td><td>3500</td><td>1.783158</td><td>Masculino</td><td>5 anos </td></tr>\n",
              "\t<tr><th scope=row>5</th><td>11</td><td>1</td><td>47</td><td>8</td><td> 9</td><td> 150</td><td>1.690631</td><td>Feminino </td><td>8 anos </td></tr>\n",
              "\t<tr><th scope=row>6</th><td>11</td><td>1</td><td>34</td><td>8</td><td>12</td><td> 790</td><td>1.637906</td><td>Feminino </td><td>11 anos</td></tr>\n",
              "</tbody>\n",
              "</table>\n"
            ],
            "text/markdown": "\nA data.frame: 6 × 9\n\n| <!--/--> | UF &lt;int&gt; | Sexo &lt;int&gt; | Idade &lt;int&gt; | Cor &lt;int&gt; | Anos.de.Estudo &lt;int&gt; | Renda &lt;int&gt; | Altura &lt;dbl&gt; | Cat.Sexo &lt;fct&gt; | Cat.Anos.de.Estudo &lt;ord&gt; |\n|---|---|---|---|---|---|---|---|---|---|\n| 1 | 11 | 0 | 23 | 8 | 12 |  800 | 1.603808 | Masculino | 11 anos |\n| 2 | 11 | 1 | 23 | 2 | 12 | 1150 | 1.739790 | Feminino  | 11 anos |\n| 3 | 11 | 1 | 35 | 8 | 15 |  880 | 1.760444 | Feminino  | 14 anos |\n| 4 | 11 | 0 | 46 | 2 |  6 | 3500 | 1.783158 | Masculino | 5 anos  |\n| 5 | 11 | 1 | 47 | 8 |  9 |  150 | 1.690631 | Feminino  | 8 anos  |\n| 6 | 11 | 1 | 34 | 8 | 12 |  790 | 1.637906 | Feminino  | 11 anos |\n\n",
            "text/latex": "A data.frame: 6 × 9\n\\begin{tabular}{r|lllllllll}\n  & UF & Sexo & Idade & Cor & Anos.de.Estudo & Renda & Altura & Cat.Sexo & Cat.Anos.de.Estudo\\\\\n  & <int> & <int> & <int> & <int> & <int> & <int> & <dbl> & <fct> & <ord>\\\\\n\\hline\n\t1 & 11 & 0 & 23 & 8 & 12 &  800 & 1.603808 & Masculino & 11 anos\\\\\n\t2 & 11 & 1 & 23 & 2 & 12 & 1150 & 1.739790 & Feminino  & 11 anos\\\\\n\t3 & 11 & 1 & 35 & 8 & 15 &  880 & 1.760444 & Feminino  & 14 anos\\\\\n\t4 & 11 & 0 & 46 & 2 &  6 & 3500 & 1.783158 & Masculino & 5 anos \\\\\n\t5 & 11 & 1 & 47 & 8 &  9 &  150 & 1.690631 & Feminino  & 8 anos \\\\\n\t6 & 11 & 1 & 34 & 8 & 12 &  790 & 1.637906 & Feminino  & 11 anos\\\\\n\\end{tabular}\n",
            "text/plain": [
              "  UF Sexo Idade Cor Anos.de.Estudo Renda Altura   Cat.Sexo  Cat.Anos.de.Estudo\n",
              "1 11 0    23    8   12              800  1.603808 Masculino 11 anos           \n",
              "2 11 1    23    2   12             1150  1.739790 Feminino  11 anos           \n",
              "3 11 1    35    8   15              880  1.760444 Feminino  14 anos           \n",
              "4 11 0    46    2    6             3500  1.783158 Masculino 5 anos            \n",
              "5 11 1    47    8    9              150  1.690631 Feminino  8 anos            \n",
              "6 11 1    34    8   12              790  1.637906 Feminino  11 anos           "
            ]
          },
          "metadata": {}
        }
      ]
    },
    {
      "cell_type": "code",
      "source": [
        "ggplot(data = dados, aes(x = \"\", y = Anos.de.Estudo)) +\n",
        "    stat_boxplot(geom ='errorbar', width = 0.4) +\n",
        "    geom_boxplot(fill = '#3274A1') +\n",
        "    coord_flip() +\n",
        "    ylab(\"Anos\") +\n",
        "    xlab(\"\") +\n",
        "    ggtitle('Box-plot Anos de Estudo') +\n",
        "    formatos"
      ],
      "metadata": {
        "colab": {
          "base_uri": "https://localhost:8080/",
          "height": 317
        },
        "id": "wClWT2P7r2u9",
        "outputId": "16e0a962-e981-4b57-a23e-b4449857cf40"
      },
      "execution_count": null,
      "outputs": [
        {
          "output_type": "display_data",
          "data": {
            "text/plain": [
              "plot without title"
            ],
            "image/png": "[encoded data removed]"
          },
          "metadata": {
            "image/png": {
              "width": 600,
              "height": 300
            }
          }
        }
      ]
    },
    {
      "cell_type": "code",
      "source": [
        "ggplot(data = dados, aes(x = Cat.Sexo, y = Anos.de.Estudo)) +\n",
        "    stat_boxplot(geom ='errorbar', width = 0.4) +\n",
        "    geom_boxplot(fill = c('#3274A1', \"orange\")) +\n",
        "    coord_flip() +\n",
        "    ylab(\"Anos\") +\n",
        "    xlab(\"Sexo\") +\n",
        "    ggtitle('Box-plot Anos de Estudo X Sexo') +\n",
        "    formatos"
      ],
      "metadata": {
        "colab": {
          "base_uri": "https://localhost:8080/",
          "height": 317
        },
        "id": "d6vOWkUar2y1",
        "outputId": "742a2194-5adf-45ca-d536-9b5a47c7830d"
      },
      "execution_count": null,
      "outputs": [
        {
          "output_type": "display_data",
          "data": {
            "text/plain": [
              "plot without title"
            ],
            "image/png": "[encoded data removed]"
          },
          "metadata": {
            "image/png": {
              "width": 600,
              "height": 300
            }
          }
        }
      ]
    },
    {
      "cell_type": "markdown",
      "source": [
        "<img src='https://caelum-online-public.s3.amazonaws.com/1177-estatistica-parte1/01/img006.png' width='80%'>"
      ],
      "metadata": {
        "id": "nY4nxaH-r-Wu"
      }
    },
    {
      "cell_type": "markdown",
      "source": [
        "### Exercicio"
      ],
      "metadata": {
        "id": "N3idXAqLvhHP"
      }
    },
    {
      "cell_type": "code",
      "source": [
        "dados$Cat.UF <- factor(dados$UF)\n",
        "\n",
        "ggplot(\n",
        "    data = dados[(dados$UF == 29 | dados$UF == 35) & dados$Renda < 10000, ],\n",
        "    aes(y = Renda, x = Cat.UF)\n",
        ") +\n",
        "    stat_boxplot(geom ='errorbar', width = 0.4) +\n",
        "    geom_boxplot(fill = c('#3274A1', \"orange\")) +\n",
        "    coord_flip() +\n",
        "    ylab(\"R$\") +\n",
        "    xlab(\"UF\") +\n",
        "    ggtitle('Renda (R$) - Bahia X São Paulo') +\n",
        "    theme(\n",
        "        plot.title = element_text(size = 14, hjust = 0.5),\n",
        "        axis.title.y = element_text(size = 12, vjust = +0.2),\n",
        "        axis.title.x = element_text(size = 12, vjust = -0.2),\n",
        "        axis.text.y = element_text(size = 10),\n",
        "        axis.text.x = element_text(size = 10)\n",
        "    )\n",
        "\n",
        "    #É possível notar que os chefes de domicílio em São Paulo têm uma renda maior que os da Bahia, também notamos uma maior dispersão nos dados de São Paulo"
      ],
      "metadata": {
        "colab": {
          "base_uri": "https://localhost:8080/",
          "height": 317
        },
        "id": "V_9TYmTTvj8a",
        "outputId": "164e9025-2ee4-4570-a3da-f9c35c71395b"
      },
      "execution_count": null,
      "outputs": [
        {
          "output_type": "display_data",
          "data": {
            "text/plain": [
              "plot without title"
            ],
            "image/png": "[encoded data removed]"
          },
          "metadata": {
            "image/png": {
              "width": 600,
              "height": 300
            }
          }
        }
      ]
    },
    {
      "cell_type": "markdown",
      "source": [
        "# <font color=green>5 MEDIDAS DE DISPERSÃO</font>\n",
        "***\n",
        "\n",
        "Embora as medidas de posição forneçam uma sumarização bastante importante dos dados, elas podem não ser suficientes para caracterizar conjuntos distintos, especialmente quando as observações de determinada distribuição apresentarem dados muito dispersos."
      ],
      "metadata": {
        "id": "xM91a9GxTKr0"
      }
    },
    {
      "cell_type": "markdown",
      "source": [
        "## <font color=green>5.1 Desvio médio absoluto</font>\n",
        "***\n",
        "\n",
        "\n",
        "# $$DM = \\frac 1n\\sum_{i=1}^{n}|X_i-\\bar{X}|$$"
      ],
      "metadata": {
        "id": "C9S48fNfTLMY"
      }
    },
    {
      "cell_type": "markdown",
      "source": [
        "### <font color=red>Documentações:\n",
        "\n",
        "- [**sum**](https://www.rdocumentation.org/packages/base/versions/3.6.1/topics/sum)\n",
        "- [**abs**](https://www.rdocumentation.org/packages/base/versions/3.6.1/topics/MathFun)\n",
        "- [**DescTools**](https://www.rdocumentation.org/packages/DescTools/versions/0.99.30)\n",
        "- [**MeanAD**](https://www.rdocumentation.org/packages/DescTools/versions/0.99.30/topics/MeanAD)"
      ],
      "metadata": {
        "id": "VpkhKQ07TZB3"
      }
    },
    {
      "cell_type": "code",
      "source": [
        "df"
      ],
      "metadata": {
        "colab": {
          "base_uri": "https://localhost:8080/",
          "height": 318
        },
        "id": "cJQEeRNXTck3",
        "outputId": "333299b8-11e9-457b-a6db-f7c953017f77"
      },
      "execution_count": null,
      "outputs": [
        {
          "output_type": "display_data",
          "data": {
            "text/html": [
              "<table class=\"dataframe\">\n",
              "<caption>A data.frame: 7 × 3</caption>\n",
              "<thead>\n",
              "\t<tr><th></th><th scope=col>Fulano</th><th scope=col>Beltrano</th><th scope=col>Sicrano</th></tr>\n",
              "\t<tr><th></th><th scope=col>&lt;dbl&gt;</th><th scope=col>&lt;dbl&gt;</th><th scope=col>&lt;dbl&gt;</th></tr>\n",
              "</thead>\n",
              "<tbody>\n",
              "\t<tr><th scope=row>Matematica</th><td> 8</td><td>10.0</td><td>7.5</td></tr>\n",
              "\t<tr><th scope=row>Portugues</th><td>10</td><td> 2.0</td><td>8.0</td></tr>\n",
              "\t<tr><th scope=row>Ingles</th><td> 4</td><td> 0.5</td><td>7.0</td></tr>\n",
              "\t<tr><th scope=row>Geografia</th><td> 8</td><td> 1.0</td><td>8.0</td></tr>\n",
              "\t<tr><th scope=row>Historia</th><td> 6</td><td> 3.0</td><td>8.0</td></tr>\n",
              "\t<tr><th scope=row>Fisica</th><td>10</td><td> 9.5</td><td>8.5</td></tr>\n",
              "\t<tr><th scope=row>Quimica</th><td> 8</td><td>10.0</td><td>7.0</td></tr>\n",
              "</tbody>\n",
              "</table>\n"
            ],
            "text/markdown": "\nA data.frame: 7 × 3\n\n| <!--/--> | Fulano &lt;dbl&gt; | Beltrano &lt;dbl&gt; | Sicrano &lt;dbl&gt; |\n|---|---|---|---|\n| Matematica |  8 | 10.0 | 7.5 |\n| Portugues | 10 |  2.0 | 8.0 |\n| Ingles |  4 |  0.5 | 7.0 |\n| Geografia |  8 |  1.0 | 8.0 |\n| Historia |  6 |  3.0 | 8.0 |\n| Fisica | 10 |  9.5 | 8.5 |\n| Quimica |  8 | 10.0 | 7.0 |\n\n",
            "text/latex": "A data.frame: 7 × 3\n\\begin{tabular}{r|lll}\n  & Fulano & Beltrano & Sicrano\\\\\n  & <dbl> & <dbl> & <dbl>\\\\\n\\hline\n\tMatematica &  8 & 10.0 & 7.5\\\\\n\tPortugues & 10 &  2.0 & 8.0\\\\\n\tIngles &  4 &  0.5 & 7.0\\\\\n\tGeografia &  8 &  1.0 & 8.0\\\\\n\tHistoria &  6 &  3.0 & 8.0\\\\\n\tFisica & 10 &  9.5 & 8.5\\\\\n\tQuimica &  8 & 10.0 & 7.0\\\\\n\\end{tabular}\n",
            "text/plain": [
              "           Fulano Beltrano Sicrano\n",
              "Matematica  8     10.0     7.5    \n",
              "Portugues  10      2.0     8.0    \n",
              "Ingles      4      0.5     7.0    \n",
              "Geografia   8      1.0     8.0    \n",
              "Historia    6      3.0     8.0    \n",
              "Fisica     10      9.5     8.5    \n",
              "Quimica     8     10.0     7.0    "
            ]
          },
          "metadata": {}
        }
      ]
    },
    {
      "cell_type": "code",
      "source": [
        "#conjunto de estatisticas descritivas do dataframe\n",
        "summary(df)"
      ],
      "metadata": {
        "colab": {
          "base_uri": "https://localhost:8080/",
          "height": 139
        },
        "id": "mlZ8SmYOTc59",
        "outputId": "f4e33a1c-bd97-4cc3-e0b4-85babf402b4a"
      },
      "execution_count": null,
      "outputs": [
        {
          "output_type": "display_data",
          "data": {
            "text/plain": [
              "     Fulano          Beltrano         Sicrano     \n",
              " Min.   : 4.000   Min.   : 0.500   Min.   :7.000  \n",
              " 1st Qu.: 7.000   1st Qu.: 1.500   1st Qu.:7.250  \n",
              " Median : 8.000   Median : 3.000   Median :8.000  \n",
              " Mean   : 7.714   Mean   : 5.143   Mean   :7.714  \n",
              " 3rd Qu.: 9.000   3rd Qu.: 9.750   3rd Qu.:8.000  \n",
              " Max.   :10.000   Max.   :10.000   Max.   :8.500  "
            ]
          },
          "metadata": {}
        }
      ]
    },
    {
      "cell_type": "code",
      "source": [
        "#fazendo a formula\n",
        "#atribuindo um dataframe a uma variavel\n",
        "notas_fulano = data.frame(Fulano = df$Fulano, row.names = row.names(df))\n",
        "notas_fulano"
      ],
      "metadata": {
        "colab": {
          "base_uri": "https://localhost:8080/",
          "height": 318
        },
        "id": "krQCddTvTdBX",
        "outputId": "edad5d67-f346-4ac6-a906-de6287cd09e5"
      },
      "execution_count": null,
      "outputs": [
        {
          "output_type": "display_data",
          "data": {
            "text/html": [
              "<table class=\"dataframe\">\n",
              "<caption>A data.frame: 7 × 1</caption>\n",
              "<thead>\n",
              "\t<tr><th></th><th scope=col>Fulano</th></tr>\n",
              "\t<tr><th></th><th scope=col>&lt;dbl&gt;</th></tr>\n",
              "</thead>\n",
              "<tbody>\n",
              "\t<tr><th scope=row>Matematica</th><td> 8</td></tr>\n",
              "\t<tr><th scope=row>Portugues</th><td>10</td></tr>\n",
              "\t<tr><th scope=row>Ingles</th><td> 4</td></tr>\n",
              "\t<tr><th scope=row>Geografia</th><td> 8</td></tr>\n",
              "\t<tr><th scope=row>Historia</th><td> 6</td></tr>\n",
              "\t<tr><th scope=row>Fisica</th><td>10</td></tr>\n",
              "\t<tr><th scope=row>Quimica</th><td> 8</td></tr>\n",
              "</tbody>\n",
              "</table>\n"
            ],
            "text/markdown": "\nA data.frame: 7 × 1\n\n| <!--/--> | Fulano &lt;dbl&gt; |\n|---|---|\n| Matematica |  8 |\n| Portugues | 10 |\n| Ingles |  4 |\n| Geografia |  8 |\n| Historia |  6 |\n| Fisica | 10 |\n| Quimica |  8 |\n\n",
            "text/latex": "A data.frame: 7 × 1\n\\begin{tabular}{r|l}\n  & Fulano\\\\\n  & <dbl>\\\\\n\\hline\n\tMatematica &  8\\\\\n\tPortugues & 10\\\\\n\tIngles &  4\\\\\n\tGeografia &  8\\\\\n\tHistoria &  6\\\\\n\tFisica & 10\\\\\n\tQuimica &  8\\\\\n\\end{tabular}\n",
            "text/plain": [
              "           Fulano\n",
              "Matematica  8    \n",
              "Portugues  10    \n",
              "Ingles      4    \n",
              "Geografia   8    \n",
              "Historia    6    \n",
              "Fisica     10    \n",
              "Quimica     8    "
            ]
          },
          "metadata": {}
        }
      ]
    },
    {
      "cell_type": "code",
      "source": [
        "nota_media_fulano = mean(notas_fulano$Fulano)\n",
        "nota_media_fulano"
      ],
      "metadata": {
        "colab": {
          "base_uri": "https://localhost:8080/",
          "height": 34
        },
        "id": "OsuTMiSnUfLS",
        "outputId": "9e142348-ab5f-4008-922d-9e8812ab452b"
      },
      "execution_count": null,
      "outputs": [
        {
          "output_type": "display_data",
          "data": {
            "text/html": [
              "7.71428571428571"
            ],
            "text/markdown": "7.71428571428571",
            "text/latex": "7.71428571428571",
            "text/plain": [
              "[1] 7.714286"
            ]
          },
          "metadata": {}
        }
      ]
    },
    {
      "cell_type": "code",
      "source": [
        "#criar nova variavel, vai ser o desvio medio absoluto (a formula acima)\n",
        "#é a nota menos a média de cima\n",
        "notas_fulano$Desvio = notas_fulano$Fulano - nota_media_fulano\n",
        "notas_fulano"
      ],
      "metadata": {
        "colab": {
          "base_uri": "https://localhost:8080/",
          "height": 318
        },
        "id": "WZ-AHSzKTdMU",
        "outputId": "2b51db52-ea2c-4a0e-9fdf-57a96c580c41"
      },
      "execution_count": null,
      "outputs": [
        {
          "output_type": "display_data",
          "data": {
            "text/html": [
              "<table class=\"dataframe\">\n",
              "<caption>A data.frame: 7 × 2</caption>\n",
              "<thead>\n",
              "\t<tr><th></th><th scope=col>Fulano</th><th scope=col>Desvio</th></tr>\n",
              "\t<tr><th></th><th scope=col>&lt;dbl&gt;</th><th scope=col>&lt;dbl&gt;</th></tr>\n",
              "</thead>\n",
              "<tbody>\n",
              "\t<tr><th scope=row>Matematica</th><td> 8</td><td> 0.2857143</td></tr>\n",
              "\t<tr><th scope=row>Portugues</th><td>10</td><td> 2.2857143</td></tr>\n",
              "\t<tr><th scope=row>Ingles</th><td> 4</td><td>-3.7142857</td></tr>\n",
              "\t<tr><th scope=row>Geografia</th><td> 8</td><td> 0.2857143</td></tr>\n",
              "\t<tr><th scope=row>Historia</th><td> 6</td><td>-1.7142857</td></tr>\n",
              "\t<tr><th scope=row>Fisica</th><td>10</td><td> 2.2857143</td></tr>\n",
              "\t<tr><th scope=row>Quimica</th><td> 8</td><td> 0.2857143</td></tr>\n",
              "</tbody>\n",
              "</table>\n"
            ],
            "text/markdown": "\nA data.frame: 7 × 2\n\n| <!--/--> | Fulano &lt;dbl&gt; | Desvio &lt;dbl&gt; |\n|---|---|---|\n| Matematica |  8 |  0.2857143 |\n| Portugues | 10 |  2.2857143 |\n| Ingles |  4 | -3.7142857 |\n| Geografia |  8 |  0.2857143 |\n| Historia |  6 | -1.7142857 |\n| Fisica | 10 |  2.2857143 |\n| Quimica |  8 |  0.2857143 |\n\n",
            "text/latex": "A data.frame: 7 × 2\n\\begin{tabular}{r|ll}\n  & Fulano & Desvio\\\\\n  & <dbl> & <dbl>\\\\\n\\hline\n\tMatematica &  8 &  0.2857143\\\\\n\tPortugues & 10 &  2.2857143\\\\\n\tIngles &  4 & -3.7142857\\\\\n\tGeografia &  8 &  0.2857143\\\\\n\tHistoria &  6 & -1.7142857\\\\\n\tFisica & 10 &  2.2857143\\\\\n\tQuimica &  8 &  0.2857143\\\\\n\\end{tabular}\n",
            "text/plain": [
              "           Fulano Desvio    \n",
              "Matematica  8      0.2857143\n",
              "Portugues  10      2.2857143\n",
              "Ingles      4     -3.7142857\n",
              "Geografia   8      0.2857143\n",
              "Historia    6     -1.7142857\n",
              "Fisica     10      2.2857143\n",
              "Quimica     8      0.2857143"
            ]
          },
          "metadata": {}
        }
      ]
    },
    {
      "cell_type": "code",
      "source": [
        "sum(notas_fulano$Desvio)"
      ],
      "metadata": {
        "id": "DoTe5vCWTdWG"
      },
      "execution_count": null,
      "outputs": []
    },
    {
      "cell_type": "code",
      "source": [
        "#abs so pega os valores positivos, ou seja, ela tira os negativos e os transforma em positivo\n",
        "notas_fulano$Desvio.Absoluto = abs(notas_fulano$Desvio)\n",
        "notas_fulano"
      ],
      "metadata": {
        "colab": {
          "base_uri": "https://localhost:8080/",
          "height": 318
        },
        "id": "D9x_5xKNTdeW",
        "outputId": "6f9b13da-00ad-4c22-9d0c-10349caf2977"
      },
      "execution_count": null,
      "outputs": [
        {
          "output_type": "display_data",
          "data": {
            "text/html": [
              "<table class=\"dataframe\">\n",
              "<caption>A data.frame: 7 × 3</caption>\n",
              "<thead>\n",
              "\t<tr><th></th><th scope=col>Fulano</th><th scope=col>Desvio</th><th scope=col>Desvio.Absoluto</th></tr>\n",
              "\t<tr><th></th><th scope=col>&lt;dbl&gt;</th><th scope=col>&lt;dbl&gt;</th><th scope=col>&lt;dbl&gt;</th></tr>\n",
              "</thead>\n",
              "<tbody>\n",
              "\t<tr><th scope=row>Matematica</th><td> 8</td><td> 0.2857143</td><td>0.2857143</td></tr>\n",
              "\t<tr><th scope=row>Portugues</th><td>10</td><td> 2.2857143</td><td>2.2857143</td></tr>\n",
              "\t<tr><th scope=row>Ingles</th><td> 4</td><td>-3.7142857</td><td>3.7142857</td></tr>\n",
              "\t<tr><th scope=row>Geografia</th><td> 8</td><td> 0.2857143</td><td>0.2857143</td></tr>\n",
              "\t<tr><th scope=row>Historia</th><td> 6</td><td>-1.7142857</td><td>1.7142857</td></tr>\n",
              "\t<tr><th scope=row>Fisica</th><td>10</td><td> 2.2857143</td><td>2.2857143</td></tr>\n",
              "\t<tr><th scope=row>Quimica</th><td> 8</td><td> 0.2857143</td><td>0.2857143</td></tr>\n",
              "</tbody>\n",
              "</table>\n"
            ],
            "text/markdown": "\nA data.frame: 7 × 3\n\n| <!--/--> | Fulano &lt;dbl&gt; | Desvio &lt;dbl&gt; | Desvio.Absoluto &lt;dbl&gt; |\n|---|---|---|---|\n| Matematica |  8 |  0.2857143 | 0.2857143 |\n| Portugues | 10 |  2.2857143 | 2.2857143 |\n| Ingles |  4 | -3.7142857 | 3.7142857 |\n| Geografia |  8 |  0.2857143 | 0.2857143 |\n| Historia |  6 | -1.7142857 | 1.7142857 |\n| Fisica | 10 |  2.2857143 | 2.2857143 |\n| Quimica |  8 |  0.2857143 | 0.2857143 |\n\n",
            "text/latex": "A data.frame: 7 × 3\n\\begin{tabular}{r|lll}\n  & Fulano & Desvio & Desvio.Absoluto\\\\\n  & <dbl> & <dbl> & <dbl>\\\\\n\\hline\n\tMatematica &  8 &  0.2857143 & 0.2857143\\\\\n\tPortugues & 10 &  2.2857143 & 2.2857143\\\\\n\tIngles &  4 & -3.7142857 & 3.7142857\\\\\n\tGeografia &  8 &  0.2857143 & 0.2857143\\\\\n\tHistoria &  6 & -1.7142857 & 1.7142857\\\\\n\tFisica & 10 &  2.2857143 & 2.2857143\\\\\n\tQuimica &  8 &  0.2857143 & 0.2857143\\\\\n\\end{tabular}\n",
            "text/plain": [
              "           Fulano Desvio     Desvio.Absoluto\n",
              "Matematica  8      0.2857143 0.2857143      \n",
              "Portugues  10      2.2857143 2.2857143      \n",
              "Ingles      4     -3.7142857 3.7142857      \n",
              "Geografia   8      0.2857143 0.2857143      \n",
              "Historia    6     -1.7142857 1.7142857      \n",
              "Fisica     10      2.2857143 2.2857143      \n",
              "Quimica     8      0.2857143 0.2857143      "
            ]
          },
          "metadata": {}
        }
      ]
    },
    {
      "cell_type": "code",
      "source": [
        "ggplot(data = notas_fulano, aes(x = row.names(notas_fulano), y = Fulano)) +\n",
        "    geom_point() +\n",
        "    geom_hline(yintercept = mean(notas_fulano$Fulano), color = 'red') +\n",
        "    geom_segment(aes(x = 1, y = 10, xend = 1, yend = mean(notas_fulano$Fulano))) +\n",
        "    geom_segment(aes(x = 2, y = 8, xend = 2, yend = mean(notas_fulano$Fulano))) +\n",
        "    geom_segment(aes(x = 3, y = 6, xend = 3, yend = mean(notas_fulano$Fulano))) +\n",
        "    geom_segment(aes(x = 4, y = 4, xend = 4, yend = mean(notas_fulano$Fulano))) +\n",
        "    geom_segment(aes(x = 5, y = 8, xend = 5, yend = mean(notas_fulano$Fulano))) +\n",
        "    geom_segment(aes(x = 6, y = 10, xend = 6, yend = mean(notas_fulano$Fulano))) +\n",
        "    geom_segment(aes(x = 7, y = 8, xend = 7, yend = mean(notas_fulano$Fulano)))"
      ],
      "metadata": {
        "colab": {
          "base_uri": "https://localhost:8080/",
          "height": 317
        },
        "id": "rJ_MkFeoTict",
        "outputId": "b86c3dee-6340-494b-8015-620b4025610f"
      },
      "execution_count": null,
      "outputs": [
        {
          "output_type": "display_data",
          "data": {
            "text/plain": [
              "plot without title"
            ],
            "image/png": "[encoded data removed]"
          },
          "metadata": {
            "image/png": {
              "width": 600,
              "height": 300
            }
          }
        }
      ]
    },
    {
      "cell_type": "code",
      "source": [
        "#Desvio medio absoluto:\n",
        "mean(notas_fulano$Desvio.Absoluto)"
      ],
      "metadata": {
        "colab": {
          "base_uri": "https://localhost:8080/",
          "height": 34
        },
        "id": "JoU7ZH5GTlol",
        "outputId": "de92d6f2-f067-4569-a5bf-f5b732244d5c"
      },
      "execution_count": null,
      "outputs": [
        {
          "output_type": "display_data",
          "data": {
            "text/html": [
              "1.55102040816327"
            ],
            "text/markdown": "1.55102040816327",
            "text/latex": "1.55102040816327",
            "text/plain": [
              "[1] 1.55102"
            ]
          },
          "metadata": {}
        }
      ]
    },
    {
      "cell_type": "markdown",
      "source": [
        "### Instalando o pacote DescTools"
      ],
      "metadata": {
        "id": "LejqYGcUTl19"
      }
    },
    {
      "cell_type": "code",
      "source": [
        "packageurl = \"https://cran.r-project.org/src/contrib/Archive/DescTools/DescTools_0.99.30.tar.gz\"\n",
        "install.packages(packageurl, repos=NULL, type=\"source\")"
      ],
      "metadata": {
        "colab": {
          "base_uri": "https://localhost:8080/"
        },
        "id": "rMtP64L1Tngg",
        "outputId": "44dbd695-a135-4fcf-ece6-dde161fa442f"
      },
      "execution_count": null,
      "outputs": [
        {
          "output_type": "stream",
          "name": "stderr",
          "text": [
            "Installing package into ‘/usr/local/lib/R/site-library’\n",
            "(as ‘lib’ is unspecified)\n",
            "\n",
            "Warning message in install.packages(packageurl, repos = NULL, type = \"source\"):\n",
            "“installation of package ‘/tmp/Rtmp47dSgu/downloaded_packages/DescTools_0.99.30.tar.gz’ had non-zero exit status”\n"
          ]
        }
      ]
    },
    {
      "cell_type": "code",
      "source": [
        "install.packages(\"DescTools\")\n",
        "library(DescTools)"
      ],
      "metadata": {
        "colab": {
          "base_uri": "https://localhost:8080/"
        },
        "id": "0Opz2rKvWS-B",
        "outputId": "b7109567-b8b3-4a9f-ad32-46de785d87bd"
      },
      "execution_count": null,
      "outputs": [
        {
          "output_type": "stream",
          "name": "stderr",
          "text": [
            "Installing package into ‘/usr/local/lib/R/site-library’\n",
            "(as ‘lib’ is unspecified)\n",
            "\n",
            "also installing the dependencies ‘proxy’, ‘rootSolve’, ‘e1071’, ‘lmom’, ‘mvtnorm’, ‘expm’, ‘Rcpp’, ‘Exact’, ‘gld’\n",
            "\n",
            "\n"
          ]
        }
      ]
    },
    {
      "cell_type": "code",
      "source": [
        "#Desvio Medio Padrão atraves da função pelo pacote\n",
        "MeanAD(df$Fulano)"
      ],
      "metadata": {
        "colab": {
          "base_uri": "https://localhost:8080/",
          "height": 34
        },
        "id": "CyFu0zcETnrE",
        "outputId": "07c03327-bfd6-40a8-f493-994fac705439"
      },
      "execution_count": null,
      "outputs": [
        {
          "output_type": "display_data",
          "data": {
            "text/html": [
              "1.55102040816327"
            ],
            "text/markdown": "1.55102040816327",
            "text/latex": "1.55102040816327",
            "text/plain": [
              "[1] 1.55102"
            ]
          },
          "metadata": {}
        }
      ]
    },
    {
      "cell_type": "markdown",
      "source": [
        "## <font color=green>5.2 Variância</font>\n",
        "***"
      ],
      "metadata": {
        "id": "4dH4SocaTod5"
      }
    },
    {
      "cell_type": "markdown",
      "source": [
        "### Variância\n",
        "\n",
        "A variância é construída a partir das diferenças entre cada observação e a média dos dados, ou seja, o desvio em torno da média. No cálculo da variância, os desvios em torno da média são elevados ao quadrado."
      ],
      "metadata": {
        "id": "3opUiRdvTu1Q"
      }
    },
    {
      "cell_type": "markdown",
      "source": [
        "### Variância populacional\n",
        "\n",
        "# $$\\sigma^2 = \\frac 1n\\sum_{i=1}^{n}(X_i-\\mu)^2$$"
      ],
      "metadata": {
        "id": "Ngxt71THTxbT"
      }
    },
    {
      "cell_type": "markdown",
      "source": [
        "### Variância amostral\n",
        "\n",
        "# $$S^2 = \\frac 1{n-1}\\sum_{i=1}^{n}(X_i-\\bar{X})^2$$"
      ],
      "metadata": {
        "id": "D-lCy2LXT0du"
      }
    },
    {
      "cell_type": "markdown",
      "source": [
        "### <font color=red>Documentações:\n",
        "\n",
        "- [**var**](https://www.rdocumentation.org/packages/stats/versions/3.6.1/topics/cor)"
      ],
      "metadata": {
        "id": "lBiuYszCT3CL"
      }
    },
    {
      "cell_type": "code",
      "source": [
        "notas_fulano$Desvio2 = notas_fulano$Desvio ^ 2\n",
        "notas_fulano"
      ],
      "metadata": {
        "colab": {
          "base_uri": "https://localhost:8080/",
          "height": 318
        },
        "id": "-6GVM7Mab6UJ",
        "outputId": "105d9722-54d3-472c-b15f-dd863196388d"
      },
      "execution_count": null,
      "outputs": [
        {
          "output_type": "display_data",
          "data": {
            "text/html": [
              "<table class=\"dataframe\">\n",
              "<caption>A data.frame: 7 × 4</caption>\n",
              "<thead>\n",
              "\t<tr><th></th><th scope=col>Fulano</th><th scope=col>Desvio</th><th scope=col>Desvio.Absoluto</th><th scope=col>Desvio2</th></tr>\n",
              "\t<tr><th></th><th scope=col>&lt;dbl&gt;</th><th scope=col>&lt;dbl&gt;</th><th scope=col>&lt;dbl&gt;</th><th scope=col>&lt;dbl&gt;</th></tr>\n",
              "</thead>\n",
              "<tbody>\n",
              "\t<tr><th scope=row>Matematica</th><td> 8</td><td> 0.2857143</td><td>0.2857143</td><td> 0.08163265</td></tr>\n",
              "\t<tr><th scope=row>Portugues</th><td>10</td><td> 2.2857143</td><td>2.2857143</td><td> 5.22448980</td></tr>\n",
              "\t<tr><th scope=row>Ingles</th><td> 4</td><td>-3.7142857</td><td>3.7142857</td><td>13.79591837</td></tr>\n",
              "\t<tr><th scope=row>Geografia</th><td> 8</td><td> 0.2857143</td><td>0.2857143</td><td> 0.08163265</td></tr>\n",
              "\t<tr><th scope=row>Historia</th><td> 6</td><td>-1.7142857</td><td>1.7142857</td><td> 2.93877551</td></tr>\n",
              "\t<tr><th scope=row>Fisica</th><td>10</td><td> 2.2857143</td><td>2.2857143</td><td> 5.22448980</td></tr>\n",
              "\t<tr><th scope=row>Quimica</th><td> 8</td><td> 0.2857143</td><td>0.2857143</td><td> 0.08163265</td></tr>\n",
              "</tbody>\n",
              "</table>\n"
            ],
            "text/markdown": "\nA data.frame: 7 × 4\n\n| <!--/--> | Fulano &lt;dbl&gt; | Desvio &lt;dbl&gt; | Desvio.Absoluto &lt;dbl&gt; | Desvio2 &lt;dbl&gt; |\n|---|---|---|---|---|\n| Matematica |  8 |  0.2857143 | 0.2857143 |  0.08163265 |\n| Portugues | 10 |  2.2857143 | 2.2857143 |  5.22448980 |\n| Ingles |  4 | -3.7142857 | 3.7142857 | 13.79591837 |\n| Geografia |  8 |  0.2857143 | 0.2857143 |  0.08163265 |\n| Historia |  6 | -1.7142857 | 1.7142857 |  2.93877551 |\n| Fisica | 10 |  2.2857143 | 2.2857143 |  5.22448980 |\n| Quimica |  8 |  0.2857143 | 0.2857143 |  0.08163265 |\n\n",
            "text/latex": "A data.frame: 7 × 4\n\\begin{tabular}{r|llll}\n  & Fulano & Desvio & Desvio.Absoluto & Desvio2\\\\\n  & <dbl> & <dbl> & <dbl> & <dbl>\\\\\n\\hline\n\tMatematica &  8 &  0.2857143 & 0.2857143 &  0.08163265\\\\\n\tPortugues & 10 &  2.2857143 & 2.2857143 &  5.22448980\\\\\n\tIngles &  4 & -3.7142857 & 3.7142857 & 13.79591837\\\\\n\tGeografia &  8 &  0.2857143 & 0.2857143 &  0.08163265\\\\\n\tHistoria &  6 & -1.7142857 & 1.7142857 &  2.93877551\\\\\n\tFisica & 10 &  2.2857143 & 2.2857143 &  5.22448980\\\\\n\tQuimica &  8 &  0.2857143 & 0.2857143 &  0.08163265\\\\\n\\end{tabular}\n",
            "text/plain": [
              "           Fulano Desvio     Desvio.Absoluto Desvio2    \n",
              "Matematica  8      0.2857143 0.2857143        0.08163265\n",
              "Portugues  10      2.2857143 2.2857143        5.22448980\n",
              "Ingles      4     -3.7142857 3.7142857       13.79591837\n",
              "Geografia   8      0.2857143 0.2857143        0.08163265\n",
              "Historia    6     -1.7142857 1.7142857        2.93877551\n",
              "Fisica     10      2.2857143 2.2857143        5.22448980\n",
              "Quimica     8      0.2857143 0.2857143        0.08163265"
            ]
          },
          "metadata": {}
        }
      ]
    },
    {
      "cell_type": "code",
      "source": [
        "#calculo da variancia\n",
        "sum(notas_fulano$Desvio2) / (nrow(notas_fulano) - 1)"
      ],
      "metadata": {
        "colab": {
          "base_uri": "https://localhost:8080/",
          "height": 34
        },
        "id": "qMOCiGwfb6e_",
        "outputId": "641bd519-5f20-4228-9340-7695a1c366b0"
      },
      "execution_count": null,
      "outputs": [
        {
          "output_type": "display_data",
          "data": {
            "text/html": [
              "4.57142857142857"
            ],
            "text/markdown": "4.57142857142857",
            "text/latex": "4.57142857142857",
            "text/plain": [
              "[1] 4.571429"
            ]
          },
          "metadata": {}
        }
      ]
    },
    {
      "cell_type": "code",
      "source": [
        "#função da variancia\n",
        "variancia = var(notas_fulano$Fulano)\n",
        "variancia"
      ],
      "metadata": {
        "colab": {
          "base_uri": "https://localhost:8080/",
          "height": 34
        },
        "id": "mIu_Ntvrb6nw",
        "outputId": "37ea947b-bc84-44e0-ed4a-c590640cc23a"
      },
      "execution_count": null,
      "outputs": [
        {
          "output_type": "display_data",
          "data": {
            "text/html": [
              "4.57142857142857"
            ],
            "text/markdown": "4.57142857142857",
            "text/latex": "4.57142857142857",
            "text/plain": [
              "[1] 4.571429"
            ]
          },
          "metadata": {}
        }
      ]
    },
    {
      "cell_type": "markdown",
      "source": [
        "## <font color=green>5.3 Desvio padrão</font>\n",
        "***\n",
        "\n",
        "Uma das restrições da variância é o fato de fornecer medidas em quadrados das unidades originais - a variância de medidas de comprimento, por exemplo, é em unidades de área. Logo, o fato de as unidades serem diferentes dificulta a comparação da dispersão com as variáveis que a definem. Um modo de eliminar essa dificuldade é considerar sua raiz quadrada."
      ],
      "metadata": {
        "id": "p0HUr3sWb63u"
      }
    },
    {
      "cell_type": "markdown",
      "source": [
        "### Desvio padrão populacional\n",
        "\n",
        "# $$\\sigma = \\sqrt{\\frac 1n\\sum_{i=1}^{n}(X_i-\\mu)^2} \\Longrightarrow \\sigma = \\sqrt{\\sigma^2}$$"
      ],
      "metadata": {
        "id": "ZNIXjUZ6cBbh"
      }
    },
    {
      "cell_type": "markdown",
      "source": [
        "### Desvio padrão amostral\n",
        "\n",
        "# $$S = \\sqrt{\\frac 1{n-1}\\sum_{i=1}^{n}(X_i-\\bar{X})^2} \\Longrightarrow S = \\sqrt{S^2}$$"
      ],
      "metadata": {
        "id": "gVpLcdykcBoe"
      }
    },
    {
      "cell_type": "markdown",
      "source": [
        "### <font color=red>Documentações:\n",
        "\n",
        "- [**sd**](https://www.rdocumentation.org/packages/stats/versions/3.6.1/topics/sd)\n",
        "- [**summary**](https://www.rdocumentation.org/packages/base/versions/3.6.1/topics/summary)"
      ],
      "metadata": {
        "id": "qb2lBR_Zc1vF"
      }
    },
    {
      "cell_type": "code",
      "source": [
        "#desvio padrao\n",
        "sqrt(variancia)"
      ],
      "metadata": {
        "colab": {
          "base_uri": "https://localhost:8080/",
          "height": 34
        },
        "id": "Ml8laEG0c26s",
        "outputId": "81621c44-9b53-4cb7-c8d9-a4ad34d7043b"
      },
      "execution_count": null,
      "outputs": [
        {
          "output_type": "display_data",
          "data": {
            "text/html": [
              "2.1380899352994"
            ],
            "text/markdown": "2.1380899352994",
            "text/latex": "2.1380899352994",
            "text/plain": [
              "[1] 2.13809"
            ]
          },
          "metadata": {}
        }
      ]
    },
    {
      "cell_type": "code",
      "source": [
        "#função pra pegar o desvio padrao\n",
        "desvio_padrao = sd(notas_fulano$Fulano)\n",
        "desvio_padrao"
      ],
      "metadata": {
        "colab": {
          "base_uri": "https://localhost:8080/",
          "height": 34
        },
        "id": "-_WRHT38dIMX",
        "outputId": "4c2b4d31-30fd-40e0-a0dd-427d62f9c014"
      },
      "execution_count": null,
      "outputs": [
        {
          "output_type": "display_data",
          "data": {
            "text/html": [
              "2.1380899352994"
            ],
            "text/markdown": "2.1380899352994",
            "text/latex": "2.1380899352994",
            "text/plain": [
              "[1] 2.13809"
            ]
          },
          "metadata": {}
        }
      ]
    },
    {
      "cell_type": "code",
      "source": [
        "df"
      ],
      "metadata": {
        "colab": {
          "base_uri": "https://localhost:8080/",
          "height": 318
        },
        "id": "97vFRUeGc3D8",
        "outputId": "4c11c77a-63fc-4b1e-f018-f15e9e04dba8"
      },
      "execution_count": null,
      "outputs": [
        {
          "output_type": "display_data",
          "data": {
            "text/html": [
              "<table class=\"dataframe\">\n",
              "<caption>A data.frame: 7 × 3</caption>\n",
              "<thead>\n",
              "\t<tr><th></th><th scope=col>Fulano</th><th scope=col>Beltrano</th><th scope=col>Sicrano</th></tr>\n",
              "\t<tr><th></th><th scope=col>&lt;dbl&gt;</th><th scope=col>&lt;dbl&gt;</th><th scope=col>&lt;dbl&gt;</th></tr>\n",
              "</thead>\n",
              "<tbody>\n",
              "\t<tr><th scope=row>Matematica</th><td> 8</td><td>10.0</td><td>7.5</td></tr>\n",
              "\t<tr><th scope=row>Portugues</th><td>10</td><td> 2.0</td><td>8.0</td></tr>\n",
              "\t<tr><th scope=row>Ingles</th><td> 4</td><td> 0.5</td><td>7.0</td></tr>\n",
              "\t<tr><th scope=row>Geografia</th><td> 8</td><td> 1.0</td><td>8.0</td></tr>\n",
              "\t<tr><th scope=row>Historia</th><td> 6</td><td> 3.0</td><td>8.0</td></tr>\n",
              "\t<tr><th scope=row>Fisica</th><td>10</td><td> 9.5</td><td>8.5</td></tr>\n",
              "\t<tr><th scope=row>Quimica</th><td> 8</td><td>10.0</td><td>7.0</td></tr>\n",
              "</tbody>\n",
              "</table>\n"
            ],
            "text/markdown": "\nA data.frame: 7 × 3\n\n| <!--/--> | Fulano &lt;dbl&gt; | Beltrano &lt;dbl&gt; | Sicrano &lt;dbl&gt; |\n|---|---|---|---|\n| Matematica |  8 | 10.0 | 7.5 |\n| Portugues | 10 |  2.0 | 8.0 |\n| Ingles |  4 |  0.5 | 7.0 |\n| Geografia |  8 |  1.0 | 8.0 |\n| Historia |  6 |  3.0 | 8.0 |\n| Fisica | 10 |  9.5 | 8.5 |\n| Quimica |  8 | 10.0 | 7.0 |\n\n",
            "text/latex": "A data.frame: 7 × 3\n\\begin{tabular}{r|lll}\n  & Fulano & Beltrano & Sicrano\\\\\n  & <dbl> & <dbl> & <dbl>\\\\\n\\hline\n\tMatematica &  8 & 10.0 & 7.5\\\\\n\tPortugues & 10 &  2.0 & 8.0\\\\\n\tIngles &  4 &  0.5 & 7.0\\\\\n\tGeografia &  8 &  1.0 & 8.0\\\\\n\tHistoria &  6 &  3.0 & 8.0\\\\\n\tFisica & 10 &  9.5 & 8.5\\\\\n\tQuimica &  8 & 10.0 & 7.0\\\\\n\\end{tabular}\n",
            "text/plain": [
              "           Fulano Beltrano Sicrano\n",
              "Matematica  8     10.0     7.5    \n",
              "Portugues  10      2.0     8.0    \n",
              "Ingles      4      0.5     7.0    \n",
              "Geografia   8      1.0     8.0    \n",
              "Historia    6      3.0     8.0    \n",
              "Fisica     10      9.5     8.5    \n",
              "Quimica     8     10.0     7.0    "
            ]
          },
          "metadata": {}
        }
      ]
    },
    {
      "cell_type": "code",
      "source": [
        "summary(df)"
      ],
      "metadata": {
        "colab": {
          "base_uri": "https://localhost:8080/",
          "height": 139
        },
        "id": "ui46HslidgKJ",
        "outputId": "e173a5e9-df7d-4734-f38f-2c3110adf200"
      },
      "execution_count": null,
      "outputs": [
        {
          "output_type": "display_data",
          "data": {
            "text/plain": [
              "     Fulano          Beltrano         Sicrano     \n",
              " Min.   : 4.000   Min.   : 0.500   Min.   :7.000  \n",
              " 1st Qu.: 7.000   1st Qu.: 1.500   1st Qu.:7.250  \n",
              " Median : 8.000   Median : 3.000   Median :8.000  \n",
              " Mean   : 7.714   Mean   : 5.143   Mean   :7.714  \n",
              " 3rd Qu.: 9.000   3rd Qu.: 9.750   3rd Qu.:8.000  \n",
              " Max.   :10.000   Max.   :10.000   Max.   :8.500  "
            ]
          },
          "metadata": {}
        }
      ]
    },
    {
      "cell_type": "code",
      "source": [
        "#função da moda que fiz la em cima\n",
        "Moda(df$Fulano)\n",
        "Moda(df$Sicrano)"
      ],
      "metadata": {
        "colab": {
          "base_uri": "https://localhost:8080/",
          "height": 52
        },
        "id": "RITqfc8Jc3IY",
        "outputId": "32b013bc-d070-4acd-e689-b3d3bfe8d69b"
      },
      "execution_count": null,
      "outputs": [
        {
          "output_type": "display_data",
          "data": {
            "text/html": [
              "'8'"
            ],
            "text/markdown": "'8'",
            "text/latex": "'8'",
            "text/plain": [
              "[1] \"8\""
            ]
          },
          "metadata": {}
        },
        {
          "output_type": "display_data",
          "data": {
            "text/html": [
              "'8'"
            ],
            "text/markdown": "'8'",
            "text/latex": "'8'",
            "text/plain": [
              "[1] \"8\""
            ]
          },
          "metadata": {}
        }
      ]
    },
    {
      "cell_type": "code",
      "source": [
        "sd(df$Fulano)\n",
        "sd(df$Sicrano)"
      ],
      "metadata": {
        "colab": {
          "base_uri": "https://localhost:8080/",
          "height": 52
        },
        "id": "hybX4l_qd6pO",
        "outputId": "1b6f126f-09f1-43e1-c0fd-1d5b23c1b946"
      },
      "execution_count": null,
      "outputs": [
        {
          "output_type": "display_data",
          "data": {
            "text/html": [
              "2.1380899352994"
            ],
            "text/markdown": "2.1380899352994",
            "text/latex": "2.1380899352994",
            "text/plain": [
              "[1] 2.13809"
            ]
          },
          "metadata": {}
        },
        {
          "output_type": "display_data",
          "data": {
            "text/html": [
              "0.566946709513841"
            ],
            "text/markdown": "0.566946709513841",
            "text/latex": "0.566946709513841",
            "text/plain": [
              "[1] 0.5669467"
            ]
          },
          "metadata": {}
        }
      ]
    },
    {
      "cell_type": "markdown",
      "source": [
        "# Exercicios"
      ],
      "metadata": {
        "id": "mqdAUADBdu1c"
      }
    },
    {
      "cell_type": "markdown",
      "metadata": {
        "id": "DOYtXuSbTg18"
      },
      "source": [
        "### Construa um gráfico de barras para visualizar as informações da tabela de frequências acima\n",
        "\n",
        "#### <font color='red'>Lembre-se de transformar a matriz de resultados em um data frame.</font>"
      ]
    },
    {
      "cell_type": "code",
      "execution_count": null,
      "metadata": {
        "id": "BwZvVXEKvV3q"
      },
      "outputs": [],
      "source": []
    },
    {
      "cell_type": "code",
      "execution_count": null,
      "metadata": {
        "id": "ur31IrOfvV3q"
      },
      "outputs": [],
      "source": []
    },
    {
      "cell_type": "markdown",
      "metadata": {
        "id": "9ppt5JevTg1-"
      },
      "source": [
        "> ### Conclusões\n",
        "\n",
        "Escreva suas conclusões aqui..."
      ]
    },
    {
      "cell_type": "markdown",
      "metadata": {
        "id": "yt-gFm93Tg1-"
      },
      "source": [
        "### Crie um histograma para as variáveis QUANTITATIVAS de nosso dataset\n",
        "#### <font color='blue'>Descreva os pontos mais relevantes que você observa nos gráficos (assimetrias e seus tipos, possíveis causas para determinados comportamentos etc.)</font>"
      ]
    },
    {
      "cell_type": "code",
      "execution_count": null,
      "metadata": {
        "id": "MbaTc4vwvV3r"
      },
      "outputs": [],
      "source": []
    },
    {
      "cell_type": "code",
      "execution_count": null,
      "metadata": {
        "id": "jaOGUVB2vV3r"
      },
      "outputs": [],
      "source": []
    },
    {
      "cell_type": "code",
      "execution_count": null,
      "metadata": {
        "id": "s55WPk1aTg2C"
      },
      "outputs": [],
      "source": []
    },
    {
      "cell_type": "markdown",
      "metadata": {
        "id": "w45i-qJ1Tg2E"
      },
      "source": [
        "> ### Conclusões\n",
        "\n",
        "Escreva suas conclusões aqui..."
      ]
    },
    {
      "cell_type": "markdown",
      "metadata": {
        "id": "pnAH1T5fTg2F"
      },
      "source": [
        "### Para a variável RENDA, construa um histograma somente com as informações das pessoas com rendimento até R$ 20.000,00"
      ]
    },
    {
      "cell_type": "code",
      "execution_count": null,
      "metadata": {
        "id": "HbXtgI9UvV3r"
      },
      "outputs": [],
      "source": []
    },
    {
      "cell_type": "markdown",
      "metadata": {
        "id": "vvtzLOUKTg2H"
      },
      "source": [
        "### Construa uma tabela de frequências e uma com os percentuais cruzando das variáveis SEXO e COR\n",
        "#### <font color='blue'>Avalie o resultado da tabela e escreva suas principais conclusões</font>\n",
        "#### <font color='red'>Utilize os vetores abaixo para renomear as linha e colunas das tabelas de frequências e dos gráficos em nosso projeto</font>"
      ]
    },
    {
      "cell_type": "code",
      "execution_count": null,
      "metadata": {
        "id": "sChJRo_qTg2I"
      },
      "outputs": [],
      "source": [
        "sexo = c(\n",
        "    'Masculino',\n",
        "    'Feminino'\n",
        ")\n",
        "cor = c(\n",
        "    'Indígena',\n",
        "    'Branca',\n",
        "    'Preta',\n",
        "    'Amarela',\n",
        "    'Parda'\n",
        ")\n",
        "anos_de_estudo = c(\n",
        "    'Sem instrução e menos de 1 ano',\n",
        "    '1 ano',\n",
        "    '2 anos',\n",
        "    '3 anos',\n",
        "    '4 anos',\n",
        "    '5 anos',\n",
        "    '6 anos',\n",
        "    '7 anos',\n",
        "    '8 anos',\n",
        "    '9 anos',\n",
        "    '10 anos',\n",
        "    '11 anos',\n",
        "    '12 anos',\n",
        "    '13 anos',\n",
        "    '14 anos',\n",
        "    '15 anos ou mais',\n",
        "    'Não determinados'\n",
        ")"
      ]
    },
    {
      "cell_type": "code",
      "execution_count": null,
      "metadata": {
        "id": "rmO505zfvV3s"
      },
      "outputs": [],
      "source": []
    },
    {
      "cell_type": "code",
      "execution_count": null,
      "metadata": {
        "id": "QeBDVQzXvV3s"
      },
      "outputs": [],
      "source": []
    },
    {
      "cell_type": "code",
      "execution_count": null,
      "metadata": {
        "id": "KbeFXAGSTg2K"
      },
      "outputs": [],
      "source": []
    },
    {
      "cell_type": "code",
      "execution_count": null,
      "metadata": {
        "id": "csL1jaeSTg2M"
      },
      "outputs": [],
      "source": []
    },
    {
      "cell_type": "markdown",
      "metadata": {
        "id": "2jLZmww2Tg2O"
      },
      "source": [
        "> ### Conclusões\n",
        "\n",
        "Escreva suas conclusões aqui..."
      ]
    },
    {
      "cell_type": "markdown",
      "metadata": {
        "id": "Aoeayf6zTg2P"
      },
      "source": [
        "## Realize, para a variável RENDA, uma análise descritiva com as ferramentas que aprendemos em nosso treinamento"
      ]
    },
    {
      "cell_type": "markdown",
      "metadata": {
        "id": "c2CtT71oTg2P"
      },
      "source": [
        "### Obtenha a média aritimética"
      ]
    },
    {
      "cell_type": "code",
      "execution_count": null,
      "metadata": {
        "id": "qlJESCU6Tg2P"
      },
      "outputs": [],
      "source": []
    },
    {
      "cell_type": "markdown",
      "metadata": {
        "id": "Xd4saPBCTg2R"
      },
      "source": [
        "### Obtenha a mediana"
      ]
    },
    {
      "cell_type": "code",
      "execution_count": null,
      "metadata": {
        "id": "vHTqX-UATg2R"
      },
      "outputs": [],
      "source": []
    },
    {
      "cell_type": "markdown",
      "metadata": {
        "id": "_e40rDSwTg2U"
      },
      "source": [
        "### Obtenha a moda"
      ]
    },
    {
      "cell_type": "code",
      "execution_count": null,
      "metadata": {
        "id": "3O8Y9Wl1vV3t"
      },
      "outputs": [],
      "source": []
    },
    {
      "cell_type": "code",
      "execution_count": null,
      "metadata": {
        "id": "BFOOdYOvTg2V"
      },
      "outputs": [],
      "source": []
    },
    {
      "cell_type": "markdown",
      "metadata": {
        "id": "hCgV_XaQTg2Z"
      },
      "source": [
        "### Obtenha a variância"
      ]
    },
    {
      "cell_type": "code",
      "execution_count": null,
      "metadata": {
        "id": "SwRgACeGTg2a"
      },
      "outputs": [],
      "source": []
    },
    {
      "cell_type": "markdown",
      "metadata": {
        "id": "gsO6MKOcTg2c"
      },
      "source": [
        "### Obtenha o desvio-padrão"
      ]
    },
    {
      "cell_type": "code",
      "execution_count": null,
      "metadata": {
        "id": "gR-LVTRYTg2d"
      },
      "outputs": [],
      "source": []
    },
    {
      "cell_type": "markdown",
      "metadata": {
        "id": "vG-rdO5fTg2f"
      },
      "source": [
        "### Obtenha a média, mediana e valor máximo da variável RENDA segundo SEXO e COR\n",
        "#### <font color='blue'>Destaque os pontos mais importante que você observa nas tabulações</font>\n",
        "#### <font color='red'>Utilize *tapply* com as funções *mean*, *median* e *max*</font>"
      ]
    },
    {
      "cell_type": "code",
      "execution_count": null,
      "metadata": {
        "id": "VgxygKWXTg2g"
      },
      "outputs": [],
      "source": []
    },
    {
      "cell_type": "code",
      "execution_count": null,
      "metadata": {
        "id": "-dToXzLnvV3u"
      },
      "outputs": [],
      "source": []
    },
    {
      "cell_type": "code",
      "execution_count": null,
      "metadata": {
        "id": "tbYLIeD-vV3u"
      },
      "outputs": [],
      "source": []
    },
    {
      "cell_type": "markdown",
      "metadata": {
        "id": "ibndm9iwTg2i"
      },
      "source": [
        "> ### Conclusões\n",
        "\n",
        "Escreva suas conclusões aqui..."
      ]
    },
    {
      "cell_type": "markdown",
      "metadata": {
        "id": "CleJ6c1rTg2i"
      },
      "source": [
        "### Obtenha as medidas de dispersão da variável RENDA segundo SEXO e COR\n",
        "#### <font color='blue'>Destaque os pontos mais importante que você observa nas tabulações</font>\n",
        "#### <font color='red'>Utilize *tapply* com as funções *var* e *sd*</font>"
      ]
    },
    {
      "cell_type": "code",
      "execution_count": null,
      "metadata": {
        "id": "_M5VpRpsvV3v"
      },
      "outputs": [],
      "source": []
    },
    {
      "cell_type": "code",
      "execution_count": null,
      "metadata": {
        "id": "bNv-eWZ3Tg2j"
      },
      "outputs": [],
      "source": []
    },
    {
      "cell_type": "markdown",
      "metadata": {
        "id": "57aHvJMSTg2l"
      },
      "source": [
        "> ### Conclusões\n",
        "\n",
        "Escreva suas conclusões aqui..."
      ]
    },
    {
      "cell_type": "markdown",
      "metadata": {
        "id": "QSYjkdyOTg2l"
      },
      "source": [
        "### Construa um box plot da variável RENDA segundo SEXO e COR\n",
        "#### <font color='blue'>É possível verificar algum comportamento diferenciado no rendimento entre os grupos de pessoas analisados? Avalie o gráfico e destaque os pontos mais importantes;</font>\n",
        "#### <font color='red'>1º - Utilize somente as informações de pessoas com renda abaixo de R$ 10.000</font>\n",
        "#### <font color='red'>2º - Para incluir uma terceira variável na construção de um boxplot utilize o parâmetro *fill* da seguinte maneira: *aes(x = Cor, y = Renda, fill = Sexo)*.</font>"
      ]
    },
    {
      "cell_type": "code",
      "execution_count": null,
      "metadata": {
        "id": "JaTIKi2jvV3v"
      },
      "outputs": [],
      "source": []
    },
    {
      "cell_type": "markdown",
      "metadata": {
        "id": "ROiIQRFhTg2o"
      },
      "source": [
        "> ### Conclusões\n",
        "\n",
        "Escreva suas conclusões aqui..."
      ]
    },
    {
      "cell_type": "markdown",
      "metadata": {
        "id": "zi4BaGooTg2o"
      },
      "source": [
        "### Qual percentual de pessoas de nosso <i>dataset</i> ganham um salário mínimo (R$ 788,00) ou menos?"
      ]
    },
    {
      "cell_type": "code",
      "execution_count": null,
      "metadata": {
        "id": "FH82PtZbvV3v"
      },
      "outputs": [],
      "source": []
    },
    {
      "cell_type": "markdown",
      "metadata": {
        "id": "bl0fOMuKTg2q"
      },
      "source": [
        "### Qual o valor máximo ganho por 99% das pessoas de nosso <i>dataset</i>?\n",
        "#### <font color='red'>Utilize o método *quantile()* para realizar esta análise.</font>"
      ]
    },
    {
      "cell_type": "code",
      "execution_count": null,
      "metadata": {
        "id": "cIVwy8bKTg2q"
      },
      "outputs": [],
      "source": []
    },
    {
      "cell_type": "markdown",
      "metadata": {
        "id": "zeRhvtngTg2r"
      },
      "source": [
        "### Obtenha a média, mediana, valor máximo e desvio-padrão da variável RENDA segundo ANOS DE ESTUDO e SEXO\n",
        "#### <font color='blue'>Destaque os pontos mais importante que você observa nas tabulações</font>"
      ]
    },
    {
      "cell_type": "code",
      "execution_count": null,
      "metadata": {
        "id": "Nj2LMY8tvV3w"
      },
      "outputs": [],
      "source": []
    },
    {
      "cell_type": "code",
      "execution_count": null,
      "metadata": {
        "id": "n13s3UBYvV3w"
      },
      "outputs": [],
      "source": []
    },
    {
      "cell_type": "code",
      "execution_count": null,
      "metadata": {
        "id": "AwqZjjjuvV3w"
      },
      "outputs": [],
      "source": []
    },
    {
      "cell_type": "code",
      "execution_count": null,
      "metadata": {
        "id": "4Ex0muF2vV3w"
      },
      "outputs": [],
      "source": []
    },
    {
      "cell_type": "markdown",
      "metadata": {
        "id": "1Rm1n7a_Tg2u"
      },
      "source": [
        "### Construa um box plot da variável RENDA segundo ANOS DE ESTUDO e SEXO\n",
        "#### <font color='blue'>É possível verificar algum comportamento diferenciado no rendimento entre os grupos de pessoas analisados? Avalie o gráfico e destaque os pontos mais importantes.</font>\n",
        "#### <font color='red'>1º - Utilize somente as informações de pessoas com renda abaixo de R$ 10.000</font>\n",
        "#### <font color='red'>2º - Para incluir uma terceira variável na construção de um boxplot utilize o parâmetro *fill* da seguinte maneira: *aes(x = Anos.de.Estudo, y = Renda, fill = Sexo)*.</font>"
      ]
    },
    {
      "cell_type": "code",
      "execution_count": null,
      "metadata": {
        "id": "QFdrQIYXvV3w"
      },
      "outputs": [],
      "source": []
    },
    {
      "cell_type": "markdown",
      "metadata": {
        "id": "LrEECOmNTg2w"
      },
      "source": [
        "> ### Conclusões\n",
        "\n",
        "Escreva suas conclusões aqui..."
      ]
    }
  ],
  "metadata": {
    "colab": {
      "provenance": []
    },
    "kernelspec": {
      "display_name": "R",
      "language": "R",
      "name": "ir"
    },
    "language_info": {
      "codemirror_mode": "r",
      "file_extension": ".r",
      "mimetype": "text/x-r-source",
      "name": "R",
      "pygments_lexer": "r",
      "version": "3.6.1"
    }
  },
  "nbformat": 4,
  "nbformat_minor": 0
}